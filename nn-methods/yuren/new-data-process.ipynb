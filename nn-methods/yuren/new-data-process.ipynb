{
 "cells": [
  {
   "cell_type": "code",
   "execution_count": null,
   "metadata": {},
   "outputs": [],
   "source": [
    "import pandas as pd\n",
    "import numpy as np"
   ]
  },
  {
   "cell_type": "code",
   "execution_count": null,
   "metadata": {},
   "outputs": [],
   "source": [
    "# Read the new xlsx\n",
    "xls = pd.ExcelFile('Perron_predictAMR_2021.xlsx')\n",
    "new_data = pd.read_excel(xls, 'parameters')\n",
    "sus_keys = pd.read_excel(xls, 'binarized succeptibility key')"
   ]
  },
  {
   "cell_type": "code",
   "execution_count": null,
   "metadata": {},
   "outputs": [],
   "source": [
    "new_data[:10]"
   ]
  },
  {
   "cell_type": "code",
   "execution_count": null,
   "metadata": {},
   "outputs": [],
   "source": [
    "sus_keys"
   ]
  },
  {
   "cell_type": "code",
   "execution_count": null,
   "metadata": {},
   "outputs": [],
   "source": [
    "# Change new data to binary\n",
    "data_bin= new_data.copy()"
   ]
  },
  {
   "cell_type": "code",
   "execution_count": null,
   "metadata": {},
   "outputs": [],
   "source": [
    "# Go through each parameter and change data\n",
    "for index, row in sus_keys.iterrows():\n",
    "  cur_param = row[\"parameter\"]\n",
    "  cur_threshold = row[\"50th percentile\"]\n",
    "  cur_higher_true = row[\"# > 50th\"]==\"more susceptible\"\n",
    "  # print(\"processing parameter:\",cur_param)\n",
    "  # print(\"50th:\", cur_threshold)\n",
    "  # print(\"higher more susceptible:\", row[\"# > 50th\"], cur_higher_true)\n",
    "  \n",
    "  # print(data_bin[row[\"parameter\"]][:10])\n",
    "\n",
    "  data_bin[row[\"parameter\"]] = np.where(data_bin[row[\"parameter\"]] > cur_threshold if cur_higher_true else data_bin[row[\"parameter\"]] < cur_threshold, 1,0)\n",
    "\n",
    "  # print(data_bin[row[\"parameter\"]][:10])\n",
    "\n",
    "# print(new_data[:10])\n",
    "# print(data_bin[:10])"
   ]
  },
  {
   "cell_type": "code",
   "execution_count": null,
   "metadata": {},
   "outputs": [],
   "source": [
    "data_bin.to_csv(\"new_responses_original.csv\", index=False)"
   ]
  },
  {
   "cell_type": "code",
   "execution_count": null,
   "metadata": {},
   "outputs": [],
   "source": [
    "data_bin[:10]"
   ]
  },
  {
   "cell_type": "code",
   "execution_count": null,
   "metadata": {},
   "outputs": [],
   "source": [
    "# Read the original response, match the id and response\n",
    "data_bin_cpy= data_bin.copy()\n",
    "original_res = pd.read_csv('responses.csv')"
   ]
  },
  {
   "cell_type": "code",
   "execution_count": null,
   "metadata": {},
   "outputs": [],
   "source": [
    "original_res[:10]"
   ]
  },
  {
   "cell_type": "code",
   "execution_count": null,
   "metadata": {},
   "outputs": [],
   "source": [
    "# Reindex based on the originalID\n",
    "data_bin_cpy = data_bin_cpy.set_index(\"lab.id\")\n",
    "data_bin_cpy = data_bin_cpy.reindex(original_res[\"LabID\"])"
   ]
  },
  {
   "cell_type": "code",
   "execution_count": null,
   "metadata": {},
   "outputs": [],
   "source": [
    "data_bin_cpy.to_csv(\"new_responses.csv\", index=False)"
   ]
  },
  {
   "cell_type": "code",
   "execution_count": null,
   "metadata": {},
   "outputs": [],
   "source": [
    "np.unique(data_bin_cpy[\"delta.carb.max.rate\"], return_counts=True)"
   ]
  }
 ],
 "metadata": {
  "interpreter": {
   "hash": "4ac6ed32b699bac43e826bfc5060e6da7d580dd930d3c77829d5a728b6b6b07b"
  },
  "kernelspec": {
   "display_name": "Python 3.7.3 64-bit (conda)",
   "language": "python",
   "name": "python3"
  },
  "language_info": {
   "codemirror_mode": {
    "name": "ipython",
    "version": 3
   },
   "file_extension": ".py",
   "mimetype": "text/x-python",
   "name": "python",
   "nbconvert_exporter": "python",
   "pygments_lexer": "ipython3",
   "version": "3.8.5"
  },
  "orig_nbformat": 4
 },
 "nbformat": 4,
 "nbformat_minor": 2
}
