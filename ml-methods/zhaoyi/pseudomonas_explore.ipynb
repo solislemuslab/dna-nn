{
 "cells": [
  {
   "cell_type": "markdown",
   "metadata": {},
   "source": [
    "# Explore data"
   ]
  },
  {
   "cell_type": "code",
   "execution_count": 3,
   "metadata": {},
   "outputs": [],
   "source": [
    "from collections import Counter\n",
    "\n",
    "import numpy as np\n",
    "import pandas as pd\n",
    "import matplotlib.pyplot as plt\n",
    "import dendropy\n",
    "import Bio\n",
    "from Bio import SeqIO, Phylo\n",
    "\n",
    "from load import load_pseudo\n",
    "import phylo\n",
    "\n",
    "%matplotlib inline\n",
    "pd.options.display.precision = 3\n",
    "pd.options.display.max_colwidth = 10\n",
    "\n",
    "records = load_pseudo()"
   ]
  },
  {
   "cell_type": "code",
   "execution_count": 4,
   "metadata": {},
   "outputs": [
    {
     "data": {
      "text/html": [
       "<div>\n",
       "<style scoped>\n",
       "    .dataframe tbody tr th:only-of-type {\n",
       "        vertical-align: middle;\n",
       "    }\n",
       "\n",
       "    .dataframe tbody tr th {\n",
       "        vertical-align: top;\n",
       "    }\n",
       "\n",
       "    .dataframe thead th {\n",
       "        text-align: right;\n",
       "    }\n",
       "</style>\n",
       "<table border=\"1\" class=\"dataframe\">\n",
       "  <thead>\n",
       "    <tr style=\"text-align: right;\">\n",
       "      <th></th>\n",
       "      <th>id</th>\n",
       "      <th>sequence</th>\n",
       "      <th>missing</th>\n",
       "      <th>missing_%</th>\n",
       "      <th>sequence_i</th>\n",
       "      <th>missing_i</th>\n",
       "      <th>missing_%_i</th>\n",
       "      <th>carb</th>\n",
       "      <th>toby</th>\n",
       "    </tr>\n",
       "  </thead>\n",
       "  <tbody>\n",
       "    <tr>\n",
       "      <td>0</td>\n",
       "      <td>TA151</td>\n",
       "      <td>ATGAGT...</td>\n",
       "      <td>31842</td>\n",
       "      <td>6.588</td>\n",
       "      <td>ATGAGT...</td>\n",
       "      <td>28410</td>\n",
       "      <td>5.878</td>\n",
       "      <td>True</td>\n",
       "      <td>False</td>\n",
       "    </tr>\n",
       "    <tr>\n",
       "      <td>1</td>\n",
       "      <td>IC1</td>\n",
       "      <td>ATGAGT...</td>\n",
       "      <td>46071</td>\n",
       "      <td>9.532</td>\n",
       "      <td>ATGAGT...</td>\n",
       "      <td>34714</td>\n",
       "      <td>7.182</td>\n",
       "      <td>False</td>\n",
       "      <td>False</td>\n",
       "    </tr>\n",
       "    <tr>\n",
       "      <td>2</td>\n",
       "      <td>A237</td>\n",
       "      <td>ATGAGT...</td>\n",
       "      <td>44514</td>\n",
       "      <td>9.210</td>\n",
       "      <td>ATGAGT...</td>\n",
       "      <td>35933</td>\n",
       "      <td>7.434</td>\n",
       "      <td>True</td>\n",
       "      <td>False</td>\n",
       "    </tr>\n",
       "    <tr>\n",
       "      <td>3</td>\n",
       "      <td>5920</td>\n",
       "      <td>ATGAGT...</td>\n",
       "      <td>49497</td>\n",
       "      <td>10.241</td>\n",
       "      <td>ATGAGT...</td>\n",
       "      <td>36873</td>\n",
       "      <td>7.629</td>\n",
       "      <td>NaN</td>\n",
       "      <td>NaN</td>\n",
       "    </tr>\n",
       "    <tr>\n",
       "      <td>4</td>\n",
       "      <td>LiA96</td>\n",
       "      <td>ATGAGT...</td>\n",
       "      <td>44067</td>\n",
       "      <td>9.117</td>\n",
       "      <td>ATGAGT...</td>\n",
       "      <td>34454</td>\n",
       "      <td>7.128</td>\n",
       "      <td>False</td>\n",
       "      <td>False</td>\n",
       "    </tr>\n",
       "    <tr>\n",
       "      <td>...</td>\n",
       "      <td>...</td>\n",
       "      <td>...</td>\n",
       "      <td>...</td>\n",
       "      <td>...</td>\n",
       "      <td>...</td>\n",
       "      <td>...</td>\n",
       "      <td>...</td>\n",
       "      <td>...</td>\n",
       "      <td>...</td>\n",
       "    </tr>\n",
       "    <tr>\n",
       "      <td>117</td>\n",
       "      <td>JD318</td>\n",
       "      <td>------...</td>\n",
       "      <td>77766</td>\n",
       "      <td>16.090</td>\n",
       "      <td>ATGAGT...</td>\n",
       "      <td>39108</td>\n",
       "      <td>8.091</td>\n",
       "      <td>False</td>\n",
       "      <td>False</td>\n",
       "    </tr>\n",
       "    <tr>\n",
       "      <td>118</td>\n",
       "      <td>Jp238</td>\n",
       "      <td>------...</td>\n",
       "      <td>43062</td>\n",
       "      <td>8.909</td>\n",
       "      <td>ATGAGT...</td>\n",
       "      <td>32466</td>\n",
       "      <td>6.717</td>\n",
       "      <td>False</td>\n",
       "      <td>False</td>\n",
       "    </tr>\n",
       "    <tr>\n",
       "      <td>119</td>\n",
       "      <td>Jp1303</td>\n",
       "      <td>------...</td>\n",
       "      <td>44151</td>\n",
       "      <td>9.135</td>\n",
       "      <td>ATGAGT...</td>\n",
       "      <td>32792</td>\n",
       "      <td>6.785</td>\n",
       "      <td>False</td>\n",
       "      <td>False</td>\n",
       "    </tr>\n",
       "    <tr>\n",
       "      <td>120</td>\n",
       "      <td>JD304</td>\n",
       "      <td>------...</td>\n",
       "      <td>75465</td>\n",
       "      <td>15.613</td>\n",
       "      <td>ATGAGT...</td>\n",
       "      <td>38729</td>\n",
       "      <td>8.013</td>\n",
       "      <td>False</td>\n",
       "      <td>False</td>\n",
       "    </tr>\n",
       "    <tr>\n",
       "      <td>121</td>\n",
       "      <td>LiA131</td>\n",
       "      <td>------...</td>\n",
       "      <td>42507</td>\n",
       "      <td>8.795</td>\n",
       "      <td>ATGAGT...</td>\n",
       "      <td>33933</td>\n",
       "      <td>7.021</td>\n",
       "      <td>False</td>\n",
       "      <td>False</td>\n",
       "    </tr>\n",
       "  </tbody>\n",
       "</table>\n",
       "<p>122 rows × 9 columns</p>\n",
       "</div>"
      ],
      "text/plain": [
       "         id   sequence  missing  missing_% sequence_i  missing_i  missing_%_i  \\\n",
       "0     TA151  ATGAGT...    31842      6.588  ATGAGT...      28410      5.878     \n",
       "1       IC1  ATGAGT...    46071      9.532  ATGAGT...      34714      7.182     \n",
       "2      A237  ATGAGT...    44514      9.210  ATGAGT...      35933      7.434     \n",
       "3      5920  ATGAGT...    49497     10.241  ATGAGT...      36873      7.629     \n",
       "4     LiA96  ATGAGT...    44067      9.117  ATGAGT...      34454      7.128     \n",
       "..      ...        ...      ...        ...        ...        ...        ...     \n",
       "117   JD318  ------...    77766     16.090  ATGAGT...      39108      8.091     \n",
       "118   Jp238  ------...    43062      8.909  ATGAGT...      32466      6.717     \n",
       "119  Jp1303  ------...    44151      9.135  ATGAGT...      32792      6.785     \n",
       "120   JD304  ------...    75465     15.613  ATGAGT...      38729      8.013     \n",
       "121  LiA131  ------...    42507      8.795  ATGAGT...      33933      7.021     \n",
       "\n",
       "      carb   toby  \n",
       "0     True  False  \n",
       "1    False  False  \n",
       "2     True  False  \n",
       "3      NaN    NaN  \n",
       "4    False  False  \n",
       "..     ...    ...  \n",
       "117  False  False  \n",
       "118  False  False  \n",
       "119  False  False  \n",
       "120  False  False  \n",
       "121  False  False  \n",
       "\n",
       "[122 rows x 9 columns]"
      ]
     },
     "execution_count": 4,
     "metadata": {},
     "output_type": "execute_result"
    }
   ],
   "source": [
    "records"
   ]
  },
  {
   "cell_type": "code",
   "execution_count": 2,
   "metadata": {
    "scrolled": true
   },
   "outputs": [
    {
     "data": {
      "text/html": [
       "<div>\n",
       "<style scoped>\n",
       "    .dataframe tbody tr th:only-of-type {\n",
       "        vertical-align: middle;\n",
       "    }\n",
       "\n",
       "    .dataframe tbody tr th {\n",
       "        vertical-align: top;\n",
       "    }\n",
       "\n",
       "    .dataframe thead th {\n",
       "        text-align: right;\n",
       "    }\n",
       "</style>\n",
       "<table border=\"1\" class=\"dataframe\">\n",
       "  <thead>\n",
       "    <tr style=\"text-align: right;\">\n",
       "      <th></th>\n",
       "      <th>carb</th>\n",
       "      <th>toby</th>\n",
       "    </tr>\n",
       "  </thead>\n",
       "  <tbody>\n",
       "    <tr>\n",
       "      <td>False</td>\n",
       "      <td>78.992</td>\n",
       "      <td>94.958</td>\n",
       "    </tr>\n",
       "    <tr>\n",
       "      <td>True</td>\n",
       "      <td>21.008</td>\n",
       "      <td>5.042</td>\n",
       "    </tr>\n",
       "  </tbody>\n",
       "</table>\n",
       "</div>"
      ],
      "text/plain": [
       "         carb    toby\n",
       "False  78.992  94.958\n",
       "True   21.008   5.042"
      ]
     },
     "execution_count": 2,
     "metadata": {},
     "output_type": "execute_result"
    }
   ],
   "source": [
    "# calculate true/false percentage of two classes\n",
    "counts_carb = records['carb'].value_counts()\n",
    "counts_toby = records['toby'].value_counts()\n",
    "counts = pd.DataFrame({'carb':counts_carb, 'toby':counts_toby})\n",
    "counts.div(counts.sum() / 100)"
   ]
  },
  {
   "cell_type": "code",
   "execution_count": 3,
   "metadata": {},
   "outputs": [
    {
     "name": "stdout",
     "output_type": "stream",
     "text": [
      "CPU times: user 32.2 s, sys: 1.3 s, total: 33.5 s\n",
      "Wall time: 30.8 s\n"
     ]
    }
   ],
   "source": [
    "# turn whole sequence into data frame\n",
    "%time sequence = pd.DataFrame.from_dict(records['sequence'].apply(list).to_dict()).transpose()"
   ]
  },
  {
   "cell_type": "code",
   "execution_count": 122,
   "metadata": {},
   "outputs": [
    {
     "data": {
      "text/plain": [
       "96.6666"
      ]
     },
     "execution_count": 122,
     "metadata": {},
     "output_type": "execute_result"
    }
   ],
   "source": [
    "sequence.shape[1]/5000"
   ]
  },
  {
   "cell_type": "code",
   "execution_count": 113,
   "metadata": {},
   "outputs": [],
   "source": [
    "def count_site(sequence):\n",
    "    c = pd.DataFrame(index=['A', 'C', 'G', 'T', '-'])\n",
    "\n",
    "    for label, content in sequence.iteritems():\n",
    "        if label % 1000 == 0:\n",
    "            print(label / sequence.shape[1] * 100)\n",
    "        c = c.join(content.value_counts(), how='outer')\n",
    "    c.fillna(0, inplace=True)\n",
    "    return c"
   ]
  },
  {
   "cell_type": "code",
   "execution_count": 114,
   "metadata": {},
   "outputs": [
    {
     "name": "stdout",
     "output_type": "stream",
     "text": [
      "0.0\n",
      "50.0\n",
      "CPU times: user 3min 43s, sys: 768 ms, total: 3min 43s\n",
      "Wall time: 3min 43s\n"
     ]
    }
   ],
   "source": [
    "%time c = count_site(sequence.iloc[:, :2000])"
   ]
  },
  {
   "cell_type": "code",
   "execution_count": 115,
   "metadata": {},
   "outputs": [
    {
     "name": "stdout",
     "output_type": "stream",
     "text": [
      "CPU times: user 2.21 ms, sys: 1 ms, total: 3.21 ms\n",
      "Wall time: 2.25 ms\n"
     ]
    }
   ],
   "source": [
    "%time s = c.cumsum()"
   ]
  },
  {
   "cell_type": "code",
   "execution_count": 118,
   "metadata": {},
   "outputs": [
    {
     "data": {
      "image/png": "[encoded data removed]",
      "text/plain": [
       "<Figure size 1800x720 with 1 Axes>"
      ]
     },
     "metadata": {
      "needs_background": "light"
     },
     "output_type": "display_data"
    }
   ],
   "source": [
    "plt.figure(figsize=(25, 10))\n",
    "x = s.shape[1]\n",
    "rows = s.iterrows()\n",
    "row = next(rows)\n",
    "plt.bar(range(x), row[1], label=row[0])\n",
    "for i, r in rows:\n",
    "    plt.bar(range(x), r-row[1], bottom=row[1] ,label=i)\n",
    "    row = (i, r)\n",
    "plt.legend(bbox_to_anchor=(1, 1))\n",
    "plt.show()"
   ]
  },
  {
   "cell_type": "code",
   "execution_count": 19,
   "metadata": {},
   "outputs": [],
   "source": [
    "def impute(column, missing_value):\n",
    "    counts = column.value_counts()\n",
    "    return column.where(column != missing_value, counts.idxmax())"
   ]
  },
  {
   "cell_type": "code",
   "execution_count": 23,
   "metadata": {
    "collapsed": true
   },
   "outputs": [
    {
     "data": {
      "text/html": [
       "<div>\n",
       "<style scoped>\n",
       "    .dataframe tbody tr th:only-of-type {\n",
       "        vertical-align: middle;\n",
       "    }\n",
       "\n",
       "    .dataframe tbody tr th {\n",
       "        vertical-align: top;\n",
       "    }\n",
       "\n",
       "    .dataframe thead th {\n",
       "        text-align: right;\n",
       "    }\n",
       "</style>\n",
       "<table border=\"1\" class=\"dataframe\">\n",
       "  <thead>\n",
       "    <tr style=\"text-align: right;\">\n",
       "      <th></th>\n",
       "      <th>0</th>\n",
       "      <th>1</th>\n",
       "      <th>2</th>\n",
       "      <th>3</th>\n",
       "      <th>4</th>\n",
       "      <th>5</th>\n",
       "      <th>6</th>\n",
       "      <th>7</th>\n",
       "      <th>8</th>\n",
       "      <th>9</th>\n",
       "      <th>...</th>\n",
       "      <th>483323</th>\n",
       "      <th>483324</th>\n",
       "      <th>483325</th>\n",
       "      <th>483326</th>\n",
       "      <th>483327</th>\n",
       "      <th>483328</th>\n",
       "      <th>483329</th>\n",
       "      <th>483330</th>\n",
       "      <th>483331</th>\n",
       "      <th>483332</th>\n",
       "    </tr>\n",
       "  </thead>\n",
       "  <tbody>\n",
       "    <tr>\n",
       "      <td>0</td>\n",
       "      <td>A</td>\n",
       "      <td>T</td>\n",
       "      <td>G</td>\n",
       "      <td>A</td>\n",
       "      <td>G</td>\n",
       "      <td>T</td>\n",
       "      <td>G</td>\n",
       "      <td>A</td>\n",
       "      <td>T</td>\n",
       "      <td>C</td>\n",
       "      <td>...</td>\n",
       "      <td>G</td>\n",
       "      <td>C</td>\n",
       "      <td>T</td>\n",
       "      <td>G</td>\n",
       "      <td>G</td>\n",
       "      <td>A</td>\n",
       "      <td>A</td>\n",
       "      <td>T</td>\n",
       "      <td>G</td>\n",
       "      <td>A</td>\n",
       "    </tr>\n",
       "    <tr>\n",
       "      <td>1</td>\n",
       "      <td>A</td>\n",
       "      <td>T</td>\n",
       "      <td>G</td>\n",
       "      <td>A</td>\n",
       "      <td>G</td>\n",
       "      <td>T</td>\n",
       "      <td>G</td>\n",
       "      <td>A</td>\n",
       "      <td>T</td>\n",
       "      <td>C</td>\n",
       "      <td>...</td>\n",
       "      <td>G</td>\n",
       "      <td>C</td>\n",
       "      <td>T</td>\n",
       "      <td>G</td>\n",
       "      <td>G</td>\n",
       "      <td>A</td>\n",
       "      <td>A</td>\n",
       "      <td>T</td>\n",
       "      <td>G</td>\n",
       "      <td>A</td>\n",
       "    </tr>\n",
       "    <tr>\n",
       "      <td>2</td>\n",
       "      <td>A</td>\n",
       "      <td>T</td>\n",
       "      <td>G</td>\n",
       "      <td>A</td>\n",
       "      <td>G</td>\n",
       "      <td>T</td>\n",
       "      <td>G</td>\n",
       "      <td>A</td>\n",
       "      <td>T</td>\n",
       "      <td>C</td>\n",
       "      <td>...</td>\n",
       "      <td>G</td>\n",
       "      <td>C</td>\n",
       "      <td>T</td>\n",
       "      <td>G</td>\n",
       "      <td>G</td>\n",
       "      <td>A</td>\n",
       "      <td>A</td>\n",
       "      <td>T</td>\n",
       "      <td>G</td>\n",
       "      <td>A</td>\n",
       "    </tr>\n",
       "    <tr>\n",
       "      <td>3</td>\n",
       "      <td>A</td>\n",
       "      <td>T</td>\n",
       "      <td>G</td>\n",
       "      <td>A</td>\n",
       "      <td>G</td>\n",
       "      <td>T</td>\n",
       "      <td>G</td>\n",
       "      <td>A</td>\n",
       "      <td>T</td>\n",
       "      <td>C</td>\n",
       "      <td>...</td>\n",
       "      <td>G</td>\n",
       "      <td>C</td>\n",
       "      <td>T</td>\n",
       "      <td>G</td>\n",
       "      <td>G</td>\n",
       "      <td>A</td>\n",
       "      <td>A</td>\n",
       "      <td>T</td>\n",
       "      <td>G</td>\n",
       "      <td>A</td>\n",
       "    </tr>\n",
       "    <tr>\n",
       "      <td>4</td>\n",
       "      <td>A</td>\n",
       "      <td>T</td>\n",
       "      <td>G</td>\n",
       "      <td>A</td>\n",
       "      <td>G</td>\n",
       "      <td>T</td>\n",
       "      <td>G</td>\n",
       "      <td>A</td>\n",
       "      <td>T</td>\n",
       "      <td>C</td>\n",
       "      <td>...</td>\n",
       "      <td>G</td>\n",
       "      <td>C</td>\n",
       "      <td>T</td>\n",
       "      <td>G</td>\n",
       "      <td>G</td>\n",
       "      <td>A</td>\n",
       "      <td>A</td>\n",
       "      <td>T</td>\n",
       "      <td>G</td>\n",
       "      <td>A</td>\n",
       "    </tr>\n",
       "    <tr>\n",
       "      <td>...</td>\n",
       "      <td>...</td>\n",
       "      <td>...</td>\n",
       "      <td>...</td>\n",
       "      <td>...</td>\n",
       "      <td>...</td>\n",
       "      <td>...</td>\n",
       "      <td>...</td>\n",
       "      <td>...</td>\n",
       "      <td>...</td>\n",
       "      <td>...</td>\n",
       "      <td>...</td>\n",
       "      <td>...</td>\n",
       "      <td>...</td>\n",
       "      <td>...</td>\n",
       "      <td>...</td>\n",
       "      <td>...</td>\n",
       "      <td>...</td>\n",
       "      <td>...</td>\n",
       "      <td>...</td>\n",
       "      <td>...</td>\n",
       "      <td>...</td>\n",
       "    </tr>\n",
       "    <tr>\n",
       "      <td>117</td>\n",
       "      <td>A</td>\n",
       "      <td>T</td>\n",
       "      <td>G</td>\n",
       "      <td>A</td>\n",
       "      <td>G</td>\n",
       "      <td>T</td>\n",
       "      <td>G</td>\n",
       "      <td>A</td>\n",
       "      <td>T</td>\n",
       "      <td>C</td>\n",
       "      <td>...</td>\n",
       "      <td>G</td>\n",
       "      <td>C</td>\n",
       "      <td>T</td>\n",
       "      <td>G</td>\n",
       "      <td>G</td>\n",
       "      <td>A</td>\n",
       "      <td>A</td>\n",
       "      <td>T</td>\n",
       "      <td>G</td>\n",
       "      <td>A</td>\n",
       "    </tr>\n",
       "    <tr>\n",
       "      <td>118</td>\n",
       "      <td>A</td>\n",
       "      <td>T</td>\n",
       "      <td>G</td>\n",
       "      <td>A</td>\n",
       "      <td>G</td>\n",
       "      <td>T</td>\n",
       "      <td>G</td>\n",
       "      <td>A</td>\n",
       "      <td>T</td>\n",
       "      <td>C</td>\n",
       "      <td>...</td>\n",
       "      <td>G</td>\n",
       "      <td>C</td>\n",
       "      <td>T</td>\n",
       "      <td>G</td>\n",
       "      <td>G</td>\n",
       "      <td>A</td>\n",
       "      <td>A</td>\n",
       "      <td>T</td>\n",
       "      <td>G</td>\n",
       "      <td>A</td>\n",
       "    </tr>\n",
       "    <tr>\n",
       "      <td>119</td>\n",
       "      <td>A</td>\n",
       "      <td>T</td>\n",
       "      <td>G</td>\n",
       "      <td>A</td>\n",
       "      <td>G</td>\n",
       "      <td>T</td>\n",
       "      <td>G</td>\n",
       "      <td>A</td>\n",
       "      <td>T</td>\n",
       "      <td>C</td>\n",
       "      <td>...</td>\n",
       "      <td>G</td>\n",
       "      <td>C</td>\n",
       "      <td>T</td>\n",
       "      <td>G</td>\n",
       "      <td>G</td>\n",
       "      <td>A</td>\n",
       "      <td>A</td>\n",
       "      <td>T</td>\n",
       "      <td>G</td>\n",
       "      <td>A</td>\n",
       "    </tr>\n",
       "    <tr>\n",
       "      <td>120</td>\n",
       "      <td>A</td>\n",
       "      <td>T</td>\n",
       "      <td>G</td>\n",
       "      <td>A</td>\n",
       "      <td>G</td>\n",
       "      <td>T</td>\n",
       "      <td>G</td>\n",
       "      <td>A</td>\n",
       "      <td>T</td>\n",
       "      <td>C</td>\n",
       "      <td>...</td>\n",
       "      <td>G</td>\n",
       "      <td>C</td>\n",
       "      <td>T</td>\n",
       "      <td>G</td>\n",
       "      <td>G</td>\n",
       "      <td>A</td>\n",
       "      <td>A</td>\n",
       "      <td>T</td>\n",
       "      <td>G</td>\n",
       "      <td>A</td>\n",
       "    </tr>\n",
       "    <tr>\n",
       "      <td>121</td>\n",
       "      <td>A</td>\n",
       "      <td>T</td>\n",
       "      <td>G</td>\n",
       "      <td>A</td>\n",
       "      <td>G</td>\n",
       "      <td>T</td>\n",
       "      <td>G</td>\n",
       "      <td>A</td>\n",
       "      <td>T</td>\n",
       "      <td>C</td>\n",
       "      <td>...</td>\n",
       "      <td>G</td>\n",
       "      <td>C</td>\n",
       "      <td>T</td>\n",
       "      <td>G</td>\n",
       "      <td>G</td>\n",
       "      <td>A</td>\n",
       "      <td>A</td>\n",
       "      <td>T</td>\n",
       "      <td>G</td>\n",
       "      <td>A</td>\n",
       "    </tr>\n",
       "  </tbody>\n",
       "</table>\n",
       "<p>122 rows × 483333 columns</p>\n",
       "</div>"
      ],
      "text/plain": [
       "    0      1      2      3      4      5      6      7      8      9       \\\n",
       "0        A      T      G      A      G      T      G      A      T      C   \n",
       "1        A      T      G      A      G      T      G      A      T      C   \n",
       "2        A      T      G      A      G      T      G      A      T      C   \n",
       "3        A      T      G      A      G      T      G      A      T      C   \n",
       "4        A      T      G      A      G      T      G      A      T      C   \n",
       "..     ...    ...    ...    ...    ...    ...    ...    ...    ...    ...   \n",
       "117      A      T      G      A      G      T      G      A      T      C   \n",
       "118      A      T      G      A      G      T      G      A      T      C   \n",
       "119      A      T      G      A      G      T      G      A      T      C   \n",
       "120      A      T      G      A      G      T      G      A      T      C   \n",
       "121      A      T      G      A      G      T      G      A      T      C   \n",
       "\n",
       "     ... 483323 483324 483325 483326 483327 483328 483329 483330 483331 483332  \n",
       "0    ...      G      C      T      G      G      A      A      T      G      A  \n",
       "1    ...      G      C      T      G      G      A      A      T      G      A  \n",
       "2    ...      G      C      T      G      G      A      A      T      G      A  \n",
       "3    ...      G      C      T      G      G      A      A      T      G      A  \n",
       "4    ...      G      C      T      G      G      A      A      T      G      A  \n",
       "..   ...    ...    ...    ...    ...    ...    ...    ...    ...    ...    ...  \n",
       "117  ...      G      C      T      G      G      A      A      T      G      A  \n",
       "118  ...      G      C      T      G      G      A      A      T      G      A  \n",
       "119  ...      G      C      T      G      G      A      A      T      G      A  \n",
       "120  ...      G      C      T      G      G      A      A      T      G      A  \n",
       "121  ...      G      C      T      G      G      A      A      T      G      A  \n",
       "\n",
       "[122 rows x 483333 columns]"
      ]
     },
     "execution_count": 23,
     "metadata": {},
     "output_type": "execute_result"
    }
   ],
   "source": [
    "# write this out as fasta\n",
    "# some column still have missingness, like 2307...\n",
    "sequence_imputed = sequence.apply(lambda column: column.where(column!='-', column.value_counts().idxmax()))"
   ]
  },
  {
   "cell_type": "code",
   "execution_count": 52,
   "metadata": {},
   "outputs": [],
   "source": [
    "with open(\"../data/pseudo/concatenated_naive_impute.fasta\", \"w\") as output:\n",
    "    for idx, row in sequence_imputed.iterrows():\n",
    "        seq = Bio.Seq.Seq(''.join(row), alphabet=Bio.Alphabet.Alphabet())\n",
    "        record = Bio.SeqRecord.SeqRecord(seq, id=records['id'][idx], description='')\n",
    "        SeqIO.write(record, output, \"fasta\")"
   ]
  },
  {
   "cell_type": "code",
   "execution_count": 3,
   "metadata": {},
   "outputs": [],
   "source": [
    "src = SeqIO.parse('../data/pseudo/concatenated_naive_impute.fasta', 'fasta')\n",
    "data = [(records_pseudo.id, records_pseudo.seq._data) for records_pseudo in src]\n",
    "records_imputed = pd.DataFrame(data=data, columns=['id', 'sequence'])"
   ]
  },
  {
   "cell_type": "code",
   "execution_count": 5,
   "metadata": {},
   "outputs": [
    {
     "name": "stdout",
     "output_type": "stream",
     "text": [
      "CPU times: user 30.9 s, sys: 2.02 s, total: 32.9 s\n",
      "Wall time: 25.9 s\n"
     ]
    }
   ],
   "source": [
    "%time sequence_imputed = pd.DataFrame.from_dict(records_imputed['sequence'].apply(list).to_dict()).transpose()"
   ]
  },
  {
   "cell_type": "code",
   "execution_count": 123,
   "metadata": {},
   "outputs": [
    {
     "name": "stdout",
     "output_type": "stream",
     "text": [
      "0.0\n",
      "50.0\n",
      "CPU times: user 3min 45s, sys: 1.01 s, total: 3min 46s\n",
      "Wall time: 3min 46s\n"
     ]
    }
   ],
   "source": [
    "%time c_imputed = count_site(sequence_imputed.iloc[:, :2000])"
   ]
  },
  {
   "cell_type": "code",
   "execution_count": 126,
   "metadata": {},
   "outputs": [
    {
     "name": "stdout",
     "output_type": "stream",
     "text": [
      "CPU times: user 2.59 ms, sys: 2 ms, total: 4.6 ms\n",
      "Wall time: 3.32 ms\n"
     ]
    }
   ],
   "source": [
    "%time s_imputed = c_imputed.cumsum()"
   ]
  },
  {
   "cell_type": "code",
   "execution_count": 127,
   "metadata": {},
   "outputs": [
    {
     "data": {
      "image/png": "[encoded data removed]",
      "text/plain": [
       "<Figure size 1800x720 with 1 Axes>"
      ]
     },
     "metadata": {
      "needs_background": "light"
     },
     "output_type": "display_data"
    }
   ],
   "source": [
    "plt.figure(figsize=(25, 10))\n",
    "x = s_imputed.shape[1]\n",
    "rows = s_imputed.iterrows()\n",
    "row = next(rows)\n",
    "plt.bar(range(x), row[1], label=row[0])\n",
    "for i, r in rows:\n",
    "    plt.bar(range(x), r-row[1], bottom=row[1] ,label=i)\n",
    "    row = (i, r)\n",
    "plt.legend(bbox_to_anchor=(1, 1))\n",
    "plt.show()"
   ]
  },
  {
   "cell_type": "markdown",
   "metadata": {},
   "source": [
    "# Group into condons"
   ]
  },
  {
   "cell_type": "code",
   "execution_count": 53,
   "metadata": {},
   "outputs": [],
   "source": [
    "# group genes in the sequence by three (into condons)\n",
    "# and count different number of condons across all samples\n",
    "condonify = lambda seq: [seq[i:i+3] for i in range(0, len(seq), 3)]\n",
    "sequence_condonified = records['sequence'].apply(condonify)\n",
    "c = Counter()\n",
    "for condons in sequence_condonified:\n",
    "    c.update(Counter(condons))"
   ]
  },
  {
   "cell_type": "code",
   "execution_count": 57,
   "metadata": {},
   "outputs": [
    {
     "data": {
      "text/html": [
       "<div>\n",
       "<style scoped>\n",
       "    .dataframe tbody tr th:only-of-type {\n",
       "        vertical-align: middle;\n",
       "    }\n",
       "\n",
       "    .dataframe tbody tr th {\n",
       "        vertical-align: top;\n",
       "    }\n",
       "\n",
       "    .dataframe thead th {\n",
       "        text-align: right;\n",
       "    }\n",
       "</style>\n",
       "<table border=\"1\" class=\"dataframe\">\n",
       "  <thead>\n",
       "    <tr style=\"text-align: right;\">\n",
       "      <th></th>\n",
       "      <th>0</th>\n",
       "      <th>1</th>\n",
       "      <th>2</th>\n",
       "      <th>3</th>\n",
       "      <th>4</th>\n",
       "      <th>5</th>\n",
       "      <th>6</th>\n",
       "      <th>7</th>\n",
       "      <th>8</th>\n",
       "      <th>9</th>\n",
       "      <th>...</th>\n",
       "      <th>161101</th>\n",
       "      <th>161102</th>\n",
       "      <th>161103</th>\n",
       "      <th>161104</th>\n",
       "      <th>161105</th>\n",
       "      <th>161106</th>\n",
       "      <th>161107</th>\n",
       "      <th>161108</th>\n",
       "      <th>161109</th>\n",
       "      <th>161110</th>\n",
       "    </tr>\n",
       "  </thead>\n",
       "  <tbody>\n",
       "    <tr>\n",
       "      <td>0</td>\n",
       "      <td>ATG</td>\n",
       "      <td>AGT</td>\n",
       "      <td>GAT</td>\n",
       "      <td>CTG</td>\n",
       "      <td>CCA</td>\n",
       "      <td>AGT</td>\n",
       "      <td>CCG</td>\n",
       "      <td>AAG</td>\n",
       "      <td>AAA</td>\n",
       "      <td>CAC</td>\n",
       "      <td>...</td>\n",
       "      <td>---</td>\n",
       "      <td>---</td>\n",
       "      <td>---</td>\n",
       "      <td>---</td>\n",
       "      <td>---</td>\n",
       "      <td>---</td>\n",
       "      <td>---</td>\n",
       "      <td>---</td>\n",
       "      <td>---</td>\n",
       "      <td>---</td>\n",
       "    </tr>\n",
       "    <tr>\n",
       "      <td>1</td>\n",
       "      <td>ATG</td>\n",
       "      <td>AGT</td>\n",
       "      <td>GAT</td>\n",
       "      <td>CTG</td>\n",
       "      <td>CCA</td>\n",
       "      <td>AGT</td>\n",
       "      <td>CCG</td>\n",
       "      <td>AAG</td>\n",
       "      <td>AAA</td>\n",
       "      <td>CAC</td>\n",
       "      <td>...</td>\n",
       "      <td>GTG</td>\n",
       "      <td>GTC</td>\n",
       "      <td>ACC</td>\n",
       "      <td>ACC</td>\n",
       "      <td>GAC</td>\n",
       "      <td>GAG</td>\n",
       "      <td>GTG</td>\n",
       "      <td>CTG</td>\n",
       "      <td>GAA</td>\n",
       "      <td>TGA</td>\n",
       "    </tr>\n",
       "    <tr>\n",
       "      <td>2</td>\n",
       "      <td>ATG</td>\n",
       "      <td>AGT</td>\n",
       "      <td>GAT</td>\n",
       "      <td>CTG</td>\n",
       "      <td>CCA</td>\n",
       "      <td>AGT</td>\n",
       "      <td>CCG</td>\n",
       "      <td>AAG</td>\n",
       "      <td>AAA</td>\n",
       "      <td>CAC</td>\n",
       "      <td>...</td>\n",
       "      <td>GTG</td>\n",
       "      <td>GTC</td>\n",
       "      <td>ACC</td>\n",
       "      <td>ACC</td>\n",
       "      <td>GAC</td>\n",
       "      <td>GAG</td>\n",
       "      <td>GTG</td>\n",
       "      <td>CTG</td>\n",
       "      <td>GAA</td>\n",
       "      <td>TGA</td>\n",
       "    </tr>\n",
       "    <tr>\n",
       "      <td>3</td>\n",
       "      <td>ATG</td>\n",
       "      <td>AGT</td>\n",
       "      <td>GAT</td>\n",
       "      <td>CTG</td>\n",
       "      <td>CCA</td>\n",
       "      <td>AGT</td>\n",
       "      <td>CCG</td>\n",
       "      <td>AAG</td>\n",
       "      <td>AAA</td>\n",
       "      <td>CAC</td>\n",
       "      <td>...</td>\n",
       "      <td>GTG</td>\n",
       "      <td>GTC</td>\n",
       "      <td>ACC</td>\n",
       "      <td>ACC</td>\n",
       "      <td>GAC</td>\n",
       "      <td>GAG</td>\n",
       "      <td>GTG</td>\n",
       "      <td>CTG</td>\n",
       "      <td>GAA</td>\n",
       "      <td>TGA</td>\n",
       "    </tr>\n",
       "    <tr>\n",
       "      <td>4</td>\n",
       "      <td>ATG</td>\n",
       "      <td>AGT</td>\n",
       "      <td>GAT</td>\n",
       "      <td>CTG</td>\n",
       "      <td>CCA</td>\n",
       "      <td>AGT</td>\n",
       "      <td>CCG</td>\n",
       "      <td>AAG</td>\n",
       "      <td>AAA</td>\n",
       "      <td>CAC</td>\n",
       "      <td>...</td>\n",
       "      <td>GTG</td>\n",
       "      <td>GTC</td>\n",
       "      <td>ACC</td>\n",
       "      <td>ACC</td>\n",
       "      <td>GAC</td>\n",
       "      <td>GAG</td>\n",
       "      <td>GTG</td>\n",
       "      <td>CTG</td>\n",
       "      <td>GAA</td>\n",
       "      <td>TGA</td>\n",
       "    </tr>\n",
       "    <tr>\n",
       "      <td>...</td>\n",
       "      <td>...</td>\n",
       "      <td>...</td>\n",
       "      <td>...</td>\n",
       "      <td>...</td>\n",
       "      <td>...</td>\n",
       "      <td>...</td>\n",
       "      <td>...</td>\n",
       "      <td>...</td>\n",
       "      <td>...</td>\n",
       "      <td>...</td>\n",
       "      <td>...</td>\n",
       "      <td>...</td>\n",
       "      <td>...</td>\n",
       "      <td>...</td>\n",
       "      <td>...</td>\n",
       "      <td>...</td>\n",
       "      <td>...</td>\n",
       "      <td>...</td>\n",
       "      <td>...</td>\n",
       "      <td>...</td>\n",
       "      <td>...</td>\n",
       "    </tr>\n",
       "    <tr>\n",
       "      <td>117</td>\n",
       "      <td>---</td>\n",
       "      <td>---</td>\n",
       "      <td>---</td>\n",
       "      <td>---</td>\n",
       "      <td>---</td>\n",
       "      <td>---</td>\n",
       "      <td>---</td>\n",
       "      <td>---</td>\n",
       "      <td>---</td>\n",
       "      <td>---</td>\n",
       "      <td>...</td>\n",
       "      <td>GTG</td>\n",
       "      <td>GTC</td>\n",
       "      <td>ACC</td>\n",
       "      <td>ACC</td>\n",
       "      <td>GAC</td>\n",
       "      <td>GAG</td>\n",
       "      <td>GTG</td>\n",
       "      <td>CTG</td>\n",
       "      <td>GAA</td>\n",
       "      <td>TGA</td>\n",
       "    </tr>\n",
       "    <tr>\n",
       "      <td>118</td>\n",
       "      <td>---</td>\n",
       "      <td>---</td>\n",
       "      <td>---</td>\n",
       "      <td>---</td>\n",
       "      <td>---</td>\n",
       "      <td>---</td>\n",
       "      <td>---</td>\n",
       "      <td>---</td>\n",
       "      <td>---</td>\n",
       "      <td>---</td>\n",
       "      <td>...</td>\n",
       "      <td>GTG</td>\n",
       "      <td>GTC</td>\n",
       "      <td>ACC</td>\n",
       "      <td>ACC</td>\n",
       "      <td>GAC</td>\n",
       "      <td>GAG</td>\n",
       "      <td>GTG</td>\n",
       "      <td>CTG</td>\n",
       "      <td>GAA</td>\n",
       "      <td>TGA</td>\n",
       "    </tr>\n",
       "    <tr>\n",
       "      <td>119</td>\n",
       "      <td>---</td>\n",
       "      <td>---</td>\n",
       "      <td>---</td>\n",
       "      <td>---</td>\n",
       "      <td>---</td>\n",
       "      <td>---</td>\n",
       "      <td>---</td>\n",
       "      <td>---</td>\n",
       "      <td>---</td>\n",
       "      <td>---</td>\n",
       "      <td>...</td>\n",
       "      <td>GTG</td>\n",
       "      <td>GTC</td>\n",
       "      <td>ACC</td>\n",
       "      <td>ACC</td>\n",
       "      <td>GAT</td>\n",
       "      <td>GAG</td>\n",
       "      <td>GTG</td>\n",
       "      <td>CTG</td>\n",
       "      <td>GAA</td>\n",
       "      <td>TGA</td>\n",
       "    </tr>\n",
       "    <tr>\n",
       "      <td>120</td>\n",
       "      <td>---</td>\n",
       "      <td>---</td>\n",
       "      <td>---</td>\n",
       "      <td>---</td>\n",
       "      <td>---</td>\n",
       "      <td>---</td>\n",
       "      <td>---</td>\n",
       "      <td>---</td>\n",
       "      <td>---</td>\n",
       "      <td>---</td>\n",
       "      <td>...</td>\n",
       "      <td>GTG</td>\n",
       "      <td>GTC</td>\n",
       "      <td>ACC</td>\n",
       "      <td>ACC</td>\n",
       "      <td>GAC</td>\n",
       "      <td>GAG</td>\n",
       "      <td>GTG</td>\n",
       "      <td>CTG</td>\n",
       "      <td>GAA</td>\n",
       "      <td>TGA</td>\n",
       "    </tr>\n",
       "    <tr>\n",
       "      <td>121</td>\n",
       "      <td>---</td>\n",
       "      <td>---</td>\n",
       "      <td>---</td>\n",
       "      <td>---</td>\n",
       "      <td>---</td>\n",
       "      <td>---</td>\n",
       "      <td>---</td>\n",
       "      <td>---</td>\n",
       "      <td>---</td>\n",
       "      <td>---</td>\n",
       "      <td>...</td>\n",
       "      <td>GTG</td>\n",
       "      <td>GTC</td>\n",
       "      <td>ACC</td>\n",
       "      <td>ACC</td>\n",
       "      <td>GAC</td>\n",
       "      <td>GAG</td>\n",
       "      <td>GTG</td>\n",
       "      <td>CTG</td>\n",
       "      <td>GAA</td>\n",
       "      <td>TGA</td>\n",
       "    </tr>\n",
       "  </tbody>\n",
       "</table>\n",
       "<p>122 rows × 161111 columns</p>\n",
       "</div>"
      ],
      "text/plain": [
       "    0      1      2      3      4      5      6      7      8      9       \\\n",
       "0      ATG    AGT    GAT    CTG    CCA    AGT    CCG    AAG    AAA    CAC   \n",
       "1      ATG    AGT    GAT    CTG    CCA    AGT    CCG    AAG    AAA    CAC   \n",
       "2      ATG    AGT    GAT    CTG    CCA    AGT    CCG    AAG    AAA    CAC   \n",
       "3      ATG    AGT    GAT    CTG    CCA    AGT    CCG    AAG    AAA    CAC   \n",
       "4      ATG    AGT    GAT    CTG    CCA    AGT    CCG    AAG    AAA    CAC   \n",
       "..     ...    ...    ...    ...    ...    ...    ...    ...    ...    ...   \n",
       "117    ---    ---    ---    ---    ---    ---    ---    ---    ---    ---   \n",
       "118    ---    ---    ---    ---    ---    ---    ---    ---    ---    ---   \n",
       "119    ---    ---    ---    ---    ---    ---    ---    ---    ---    ---   \n",
       "120    ---    ---    ---    ---    ---    ---    ---    ---    ---    ---   \n",
       "121    ---    ---    ---    ---    ---    ---    ---    ---    ---    ---   \n",
       "\n",
       "     ... 161101 161102 161103 161104 161105 161106 161107 161108 161109 161110  \n",
       "0    ...    ---    ---    ---    ---    ---    ---    ---    ---    ---    ---  \n",
       "1    ...    GTG    GTC    ACC    ACC    GAC    GAG    GTG    CTG    GAA    TGA  \n",
       "2    ...    GTG    GTC    ACC    ACC    GAC    GAG    GTG    CTG    GAA    TGA  \n",
       "3    ...    GTG    GTC    ACC    ACC    GAC    GAG    GTG    CTG    GAA    TGA  \n",
       "4    ...    GTG    GTC    ACC    ACC    GAC    GAG    GTG    CTG    GAA    TGA  \n",
       "..   ...    ...    ...    ...    ...    ...    ...    ...    ...    ...    ...  \n",
       "117  ...    GTG    GTC    ACC    ACC    GAC    GAG    GTG    CTG    GAA    TGA  \n",
       "118  ...    GTG    GTC    ACC    ACC    GAC    GAG    GTG    CTG    GAA    TGA  \n",
       "119  ...    GTG    GTC    ACC    ACC    GAT    GAG    GTG    CTG    GAA    TGA  \n",
       "120  ...    GTG    GTC    ACC    ACC    GAC    GAG    GTG    CTG    GAA    TGA  \n",
       "121  ...    GTG    GTC    ACC    ACC    GAC    GAG    GTG    CTG    GAA    TGA  \n",
       "\n",
       "[122 rows x 161111 columns]"
      ]
     },
     "execution_count": 57,
     "metadata": {},
     "output_type": "execute_result"
    }
   ],
   "source": [
    "pd.DataFrame(sequence_condonified.to_dict()).transpose()"
   ]
  },
  {
   "cell_type": "code",
   "execution_count": null,
   "metadata": {},
   "outputs": [],
   "source": [
    "len(c.keys())"
   ]
  },
  {
   "cell_type": "code",
   "execution_count": null,
   "metadata": {},
   "outputs": [],
   "source": [
    "c.keys()"
   ]
  },
  {
   "cell_type": "code",
   "execution_count": null,
   "metadata": {},
   "outputs": [],
   "source": [
    "# verify the result\n",
    "sum(c.values()) * 3 / 122 == seq_len"
   ]
  },
  {
   "cell_type": "code",
   "execution_count": null,
   "metadata": {},
   "outputs": [],
   "source": [
    "%time condon_df = pd.DataFrame(sequence_condonified.to_list())"
   ]
  },
  {
   "cell_type": "markdown",
   "metadata": {},
   "source": [
    "## no imputation"
   ]
  },
  {
   "cell_type": "code",
   "execution_count": null,
   "metadata": {},
   "outputs": [],
   "source": [
    "l = []\n",
    "for i in range(condon_df.shape[1]):\n",
    "    if condon_df.iloc[:, i].value_counts().size == 1:\n",
    "        l.append(i)"
   ]
  },
  {
   "cell_type": "code",
   "execution_count": null,
   "metadata": {},
   "outputs": [],
   "source": [
    "condon_df_variant = condon_df.drop(columns=l)\n",
    "condon_df_variant.shape"
   ]
  },
  {
   "cell_type": "markdown",
   "metadata": {},
   "source": [
    "## naive imputation"
   ]
  },
  {
   "cell_type": "code",
   "execution_count": null,
   "metadata": {},
   "outputs": [],
   "source": [
    "def impute(condons):\n",
    "    '''replace --- with the most frequent condon at this locus'''\n",
    "    counts = condons.value_counts()\n",
    "    if '---' in counts.index:\n",
    "        return condons.where(condons!='---', counts.idxmax())\n",
    "    return condons"
   ]
  },
  {
   "cell_type": "code",
   "execution_count": null,
   "metadata": {},
   "outputs": [],
   "source": [
    "%time condon_df_impute = condon_df.apply(impute)"
   ]
  },
  {
   "cell_type": "code",
   "execution_count": null,
   "metadata": {},
   "outputs": [],
   "source": [
    "l_impute = []\n",
    "for i in range(condon_df_impute.shape[1]):\n",
    "    if condon_df_impute.iloc[:, i].value_counts().size == 1:\n",
    "        l_impute.append(i)"
   ]
  },
  {
   "cell_type": "code",
   "execution_count": null,
   "metadata": {},
   "outputs": [],
   "source": [
    "condon_df_impute_variant = condon_df_impute.drop(columns=l_impute)\n",
    "condon_df_impute_variant.shape"
   ]
  },
  {
   "cell_type": "code",
   "execution_count": null,
   "metadata": {},
   "outputs": [],
   "source": [
    "c = []\n",
    "for col in condon_df_impute_variant.columns:\n",
    "    c.append(condon_df_impute_variant[col].value_counts().size)\n",
    "condon_counts = np.bincount(c)"
   ]
  },
  {
   "cell_type": "code",
   "execution_count": null,
   "metadata": {},
   "outputs": [],
   "source": [
    "# number of different condons at each loci\n",
    "plt.bar(np.arange(condon_counts.size), condon_counts)\n",
    "plt.xlim((0, 15))\n",
    "plt.xlabel('different condons at a particular locus')\n",
    "plt.ylabel('counts of different condons')"
   ]
  },
  {
   "cell_type": "code",
   "execution_count": null,
   "metadata": {},
   "outputs": [],
   "source": [
    "# condon_df_impute_variant['missing'] = condon_df_impute_variant.agg()\n",
    "missing = []\n",
    "count_missing = lambda series: Counter(''.join(series))['-']\n",
    "for row in range(condon_df_impute_variant.shape[0]):\n",
    "    missing.append(count_missing(condon_df_impute_variant.iloc[row]))"
   ]
  },
  {
   "cell_type": "code",
   "execution_count": null,
   "metadata": {},
   "outputs": [],
   "source": [
    "missing[:5]"
   ]
  },
  {
   "cell_type": "code",
   "execution_count": null,
   "metadata": {},
   "outputs": [],
   "source": [
    "len(''.join(condon_df_impute_variant.iloc[1])), count_missing(''.join(condon_df_impute_variant.iloc[1]))"
   ]
  },
  {
   "cell_type": "code",
   "execution_count": null,
   "metadata": {},
   "outputs": [],
   "source": [
    "seq_len_variant = condon_df_impute_variant.columns.size * 3\n",
    "missing_percent = np.array(missing) / seq_len_variant * 100\n",
    "plt.hist(missing_percent, bins=25)"
   ]
  },
  {
   "cell_type": "markdown",
   "metadata": {},
   "source": [
    "# Distance matrix & Phylogenetic tree"
   ]
  },
  {
   "cell_type": "code",
   "execution_count": null,
   "metadata": {},
   "outputs": [],
   "source": [
    "phylo.dist_mat(records)\n",
    "dist_mat.to_csv('../data/pseudo/pseudo_dist_mat.csv')"
   ]
  },
  {
   "cell_type": "code",
   "execution_count": 3,
   "metadata": {},
   "outputs": [
    {
     "name": "stdout",
     "output_type": "stream",
     "text": [
      "<class 'pandas.core.frame.DataFrame'>\n",
      "Index: 122 entries, TA151 to LiA131\n",
      "Columns: 122 entries, TA151 to LiA131\n",
      "dtypes: float64(122)\n",
      "memory usage: 117.2+ KB\n"
     ]
    }
   ],
   "source": [
    "dist_mat = pd.read_csv('../data/pseudo/pseudo_dist_mat.csv', index_col='id')\n",
    "dist_mat.info()"
   ]
  },
  {
   "cell_type": "code",
   "execution_count": 5,
   "metadata": {},
   "outputs": [
    {
     "name": "stdout",
     "output_type": "stream",
     "text": [
      "CPU times: user 1.83 s, sys: 3 µs, total: 1.83 s\n",
      "Wall time: 1.83 s\n"
     ]
    },
    {
     "data": {
      "text/plain": [
       "'(((((((((TA151,(((Jp222,(Bo559,W15Apr4)),Cotonu1),LiA179)),((((Lw1047,CPHL2000),(((LiA18,Jp241),A17),Aa249)),LiA145),(((A15,A9),Tu863),(Tu61,SWPA15J_NSWPA15a)))),((ATCC27853,((LiA50,(A22,(W15Aug23,Us411))),(M72,((A11,A13),(5BR2,CPHL10299))))),PhDW6)),(((((IC1,((CPHL950,Mi159),W5Aug16)),Pae85),((ESP06B,Br993),(Co380791,Co398373))),(((((A237,Pae113),(W15Okt31,Jp245)),(((C3128,PT31M),W5Aug28),(C5311,JD303))),LiA161),(A19,((((Pae110,Pae100),Pae102),CPHL8203),CPHL5083)))),(((((LiA96,LiA91),LiA131),PMM38),Mex2),((W15Dec3,CND03),Jp1303)))),((((((5920,(PHLS08959,W15Dec4)),(((A10,CPHL6749),Jp238),Pae160)),(Lo049,(CPHL1999,CPHL8058))),CPHL10701),(LiA70,Br670)),(((((Jp1170,Jp1200),(Jp1155,Jp1206)),TuD199),Jp224),LMG2107))),((CPHL10662,(Jp100,Jp97)),(J80UH1OS1,LiA133))),((((CN573_PSE143,(((Jp54,Jp60),J9UH1F),(W15Dec14,LiA63))),(PAO1,IDEXXCanine4)),LiA19),IDEXXCanine8)),((((JD312,JD317),(((((((JD310,JD326),JD329),JD315),JD322),JD335),JD324),JD304)),((((((JD332,JD323),JD314),(JD328,(JD316,(JD333,JD313)))),(JD334,(JD325,JD306))),JD318),JD320)),JD331)),(PA7,LMG5031));'"
      ]
     },
     "execution_count": 5,
     "metadata": {},
     "output_type": "execute_result"
    }
   ],
   "source": [
    "# create the tree\n",
    "%time tree_str = phylo.upgma(dist_mat)\n",
    "with open('../data/pseudo_tree.nwk', 'w') as nwk:\n",
    "    nwk.write(tree_str)\n",
    "tree_str"
   ]
  },
  {
   "cell_type": "code",
   "execution_count": 2,
   "metadata": {},
   "outputs": [],
   "source": [
    "with open('../data/pseudo/pseudo_tree.nwk', 'r') as nwk:\n",
    "    tree_str = nwk.read()"
   ]
  },
  {
   "cell_type": "code",
   "execution_count": 13,
   "metadata": {
    "collapsed": true
   },
   "outputs": [
    {
     "name": "stdout",
     "output_type": "stream",
     "text": [
      "                                       /---------------------- TA151           \n",
      "                                       |                                       \n",
      "                                       |             /-------- Jp222           \n",
      "                               /-------+        /----+                         \n",
      "                               |       |        |    |   /---- Bo559           \n",
      "                               |       |    /---+    \\---+                     \n",
      "                               |       |    |   |        \\---- W15Apr4         \n",
      "                               |       \\----+   |                              \n",
      "                               |            |   \\------------- Cotonu1         \n",
      "                               |            |                                  \n",
      "                               |            \\----------------- LiA179          \n",
      "                               |                                               \n",
      "                               |                         /---- Lw1047          \n",
      "                               |            /------------+                     \n",
      "                          /----+            |            \\---- CPHL2000        \n",
      "                          |    |            |                                  \n",
      "                          |    |       /----+            /---- LiA18           \n",
      "                          |    |       |    |        /---+                     \n",
      "                          |    |       |    |   /----+   \\---- Jp241           \n",
      "                          |    |       |    |   |    |                         \n",
      "                          |    |   /---+    \\---+    \\-------- A17             \n",
      "                          |    |   |   |        |                              \n",
      "                          |    |   |   |        \\------------- Aa249           \n",
      "                          |    |   |   |                                       \n",
      "                          |    |   |   \\---------------------- LiA145          \n",
      "                          |    \\---+                                           \n",
      "                          |        |                     /---- A15             \n",
      "                          |        |                 /---+                     \n",
      "                          |        |            /----+   \\---- A9              \n",
      "                          |        |            |    |                         \n",
      "                      /---+        \\------------+    \\-------- Tu863           \n",
      "                      |   |                     |                              \n",
      "                      |   |                     |        /---- Tu61            \n",
      "                      |   |                     \\--------+                     \n",
      "                      |   |                              \\---- SWPA15J NSWPA15a\n",
      "                      |   |                                                    \n",
      "                      |   |            /---------------------- ATCC27853       \n",
      "                      |   |            |                                       \n",
      "                      |   |            |        /------------- LiA50           \n",
      "                      |   |        /---+    /---+                              \n",
      "                      |   |        |   |    |   |    /-------- A22             \n",
      "                      |   |        |   |    |   \\----+                         \n",
      "                      |   |        |   |    |        |   /---- W15Aug23        \n",
      "                      |   |        |   \\----+        \\---+                     \n",
      "                      |   |        |        |            \\---- Us411           \n",
      "                      |   |        |        |                                  \n",
      "                      |   |        |        |   /------------- M72             \n",
      "                      |   \\--------+        |   |                              \n",
      "                      |            |        \\---+        /---- A11             \n",
      "                      |            |            |    /---+                     \n",
      "                      |            |            |    |   \\---- A13             \n",
      "                      |            |            \\----+                         \n",
      "                      |            |                 |   /---- 5BR2            \n",
      "                      |            |                 \\---+                     \n",
      "                      |            |                     \\---- CPHL10299       \n",
      "                      |            |                                           \n",
      "                      |            \\-------------------------- PhDW6           \n",
      "                      |                                                        \n",
      "                      |                         /------------- IC1             \n",
      "                      |                         |                              \n",
      "                      |                     /---+        /---- CPHL950         \n",
      "                      |                     |   |    /---+                     \n",
      "                      |                     |   \\----+   \\---- Mi159           \n",
      "                      |                /----+        |                         \n",
      "                 /----+                |    |        \\-------- W5Aug16         \n",
      "                 |    |                |    |                                  \n",
      "                 |    |                |    \\----------------- Pae85           \n",
      "                 |    |        /-------+                                       \n",
      "                 |    |        |       |                 /---- ESP06B          \n",
      "                 |    |        |       |             /---+                     \n",
      "                 |    |        |       |             |   \\---- Br993           \n",
      "                 |    |        |       \\-------------+                         \n",
      "                 |    |        |                     |   /---- Co380791        \n",
      "                 |    |        |                     \\---+                     \n",
      "                 |    |        |                         \\---- Co398373        \n",
      "                 |    |        |                                               \n",
      "                 |    |        |                         /---- A237            \n",
      "                 |    |        |                     /---+                     \n",
      "                 |    |        |                     |   \\---- Pae113          \n",
      "                 |    |        |            /--------+                         \n",
      "                 |    |   /----+            |        |   /---- W15Okt31        \n",
      "                 |    |   |    |            |        \\---+                     \n",
      "                 |    |   |    |            |            \\---- Jp245           \n",
      "                 |    |   |    |       /----+                                  \n",
      "                 |    |   |    |       |    |            /---- C3128           \n",
      "                 |    |   |    |       |    |        /---+                     \n",
      "                 |    |   |    |       |    |   /----+   \\---- PT31M           \n",
      "                 |    |   |    |       |    |   |    |                         \n",
      "                 |    |   |    |   /---+    \\---+    \\-------- W5Aug28         \n",
      "                 |    |   |    |   |   |        |                              \n",
      "                 |    |   |    |   |   |        |        /---- C5311           \n",
      "                 |    |   |    |   |   |        \\--------+                     \n",
      "                 |    |   |    |   |   |                 \\---- JD303           \n",
      "                 |    |   |    |   |   |                                       \n",
      "                 |    |   |    \\---+   \\---------------------- LiA161          \n",
      "                 |    |   |        |                                           \n",
      "                 |    |   |        |   /---------------------- A19             \n",
      "                 |    |   |        |   |                                       \n",
      "                 |    \\---+        |   |                 /---- Pae110          \n",
      "                 |        |        |   |             /---+                     \n",
      "                 |        |        \\---+        /----+   \\---- Pae100          \n",
      "                 |        |            |        |    |                         \n",
      "                 |        |            |    /---+    \\-------- Pae102          \n",
      "                 |        |            |    |   |                              \n",
      "                 |        |            \\----+   \\------------- CPHL8203        \n",
      "                 |        |                 |                                  \n",
      "                 |        |                 \\----------------- CPHL5083        \n",
      "             /---+        |                                                    \n",
      "             |   |        |                              /---- LiA96           \n",
      "             |   |        |                          /---+                     \n",
      "             |   |        |                     /----+   \\---- LiA91           \n",
      "             |   |        |                     |    |                         \n",
      "             |   |        |                 /---+    \\-------- LiA131          \n",
      "             |   |        |                 |   |                              \n",
      "             |   |        |            /----+   \\------------- PMM38           \n",
      "             |   |        |            |    |                                  \n",
      "             |   |        |            |    \\----------------- Mex2            \n",
      "             |   |        \\------------+                                       \n",
      "             |   |                     |                 /---- W15Dec3         \n",
      "             |   |                     |             /---+                     \n",
      "             |   |                     \\-------------+   \\---- CND03           \n",
      "             |   |                                   |                         \n",
      "             |   |                                   \\-------- Jp1303          \n",
      "             |   |                                                             \n",
      "             |   |                                   /-------- 5920            \n",
      "             |   |                          /--------+                         \n",
      "             |   |                          |        |   /---- PHLS08959       \n",
      "             |   |                          |        \\---+                     \n",
      "             |   |                          |            \\---- W15Dec4         \n",
      "             |   |                     /----+                                  \n",
      "             |   |                     |    |            /---- A10             \n",
      "             |   |                     |    |        /---+                     \n",
      "             |   |                     |    |   /----+   \\---- CPHL6749        \n",
      "             |   |                     |    |   |    |                         \n",
      "             |   |                 /---+    \\---+    \\-------- Jp238           \n",
      "             |   |                 |   |        |                              \n",
      "             |   |                 |   |        \\------------- Pae160          \n",
      "        /----+   |                 |   |                                       \n",
      "        |    |   |                 |   |             /-------- Lo049           \n",
      "        |    |   |             /---+   \\-------------+                         \n",
      "        |    |   |             |   |                 |   /---- CPHL1999        \n",
      "        |    |   |             |   |                 \\---+                     \n",
      "        |    |   |             |   |                     \\---- CPHL8058        \n",
      "        |    |   |        /----+   |                                           \n",
      "        |    |   |        |    |   \\-------------------------- CPHL10701       \n",
      "        |    |   |        |    |                                               \n",
      "        |    |   |        |    |                         /---- LiA70           \n",
      "        |    |   |        |    \\-------------------------+                     \n",
      "        |    |   |        |                              \\---- Br670           \n",
      "        |    |   |        |                                                    \n",
      "        |    |   |        |                              /---- Jp1170          \n",
      "        |    |   \\--------+                          /---+                     \n",
      "        |    |            |                          |   \\---- Jp1200          \n",
      "        |    |            |                     /----+                         \n",
      "        |    |            |                     |    |   /---- Jp1155          \n",
      "        |    |            |                 /---+    \\---+                     \n",
      "        |    |            |                 |   |        \\---- Jp1206          \n",
      "        |    |            |            /----+   |                              \n",
      "        |    |            |            |    |   \\------------- TuD199          \n",
      "        |    |            \\------------+    |                                  \n",
      "        |    |                         |    \\----------------- Jp224           \n",
      "        |    |                         |                                       \n",
      "        |    |                         \\---------------------- LMG2107         \n",
      "    /---+    |                                                                 \n",
      "    |   |    |                                       /-------- CPHL10662       \n",
      "    |   |    |                                  /----+                         \n",
      "    |   |    |                                  |    |   /---- Jp100           \n",
      "    |   |    |                                  |    \\---+                     \n",
      "    |   |    \\----------------------------------+        \\---- Jp97            \n",
      "    |   |                                       |                              \n",
      "    |   |                                       |        /---- J80UH1OS1       \n",
      "    |   |                                       \\--------+                     \n",
      "    |   |                                                \\---- LiA133          \n",
      "    |   |                                                                      \n",
      "    |   |                                   /----------------- CN573 PSE143    \n",
      "    |   |                                   |                                  \n",
      "    |   |                                   |            /---- Jp54            \n",
      "    |   |                              /----+        /---+                     \n",
      "    |   |                              |    |   /----+   \\---- Jp60            \n",
      "    |   |                              |    |   |    |                         \n",
      "    |   |                              |    \\---+    \\-------- J9UH1F          \n",
      "    |   |                              |        |                              \n",
      "    |   |                          /---+        |        /---- W15Dec14        \n",
      "    |   |                          |   |        \\--------+                     \n",
      "    |   |                          |   |                 \\---- LiA63           \n",
      "    |   |                          |   |                                       \n",
      "    |   |                      /---+   |                 /---- PAO1            \n",
      "    |   |                      |   |   \\-----------------+                     \n",
      "    |   |                      |   |                     \\---- IDEXXCanine4    \n",
      "    |   \\----------------------+   |                                           \n",
      "    |                          |   \\-------------------------- LiA19           \n",
      "    |                          |                                               \n",
      "    |                          \\------------------------------ IDEXXCanine8    \n",
      "    |                                                                          \n",
      "    |                                                    /---- JD312           \n",
      "/---+                     /------------------------------+                     \n",
      "|   |                     |                              \\---- JD317           \n",
      "|   |                     |                                                    \n",
      "|   |                     |                              /---- JD310           \n",
      "|   |                     |                          /---+                     \n",
      "|   |                     |                     /----+   \\---- JD326           \n",
      "|   |                     |                     |    |                         \n",
      "|   |                 /---+                 /---+    \\-------- JD329           \n",
      "|   |                 |   |                 |   |                              \n",
      "|   |                 |   |            /----+   \\------------- JD315           \n",
      "|   |                 |   |            |    |                                  \n",
      "|   |                 |   |        /---+    \\----------------- JD322           \n",
      "|   |                 |   |        |   |                                       \n",
      "|   |                 |   |    /---+   \\---------------------- JD335           \n",
      "|   |                 |   |    |   |                                           \n",
      "|   |                 |   \\----+   \\-------------------------- JD324           \n",
      "|   |                 |        |                                               \n",
      "|   |                 |        \\------------------------------ JD304           \n",
      "|   |                 |                                                        \n",
      "|   |                 |                                  /---- JD332           \n",
      "|   |                 |                              /---+                     \n",
      "|   |                 |                     /--------+   \\---- JD323           \n",
      "|   |            /----+                     |        |                         \n",
      "+   |            |    |                /----+        \\-------- JD314           \n",
      "|   |            |    |                |    |                                  \n",
      "|   |            |    |                |    |   /------------- JD328           \n",
      "|   |            |    |                |    \\---+                              \n",
      "|   |            |    |                |        |    /-------- JD316           \n",
      "|   |            |    |            /---+        \\----+                         \n",
      "|   |            |    |            |   |             |   /---- JD333           \n",
      "|   |            |    |            |   |             \\---+                     \n",
      "|   |            |    |            |   |                 \\---- JD313           \n",
      "|   \\------------+    |            |   |                                       \n",
      "|                |    |        /---+   |             /-------- JD334           \n",
      "|                |    |        |   |   \\-------------+                         \n",
      "|                |    |        |   |                 |   /---- JD325           \n",
      "|                |    |        |   |                 \\---+                     \n",
      "|                |    \\--------+   |                     \\---- JD306           \n",
      "|                |             |   |                                           \n",
      "|                |             |   \\-------------------------- JD318           \n",
      "|                |             |                                               \n",
      "|                |             \\------------------------------ JD320           \n",
      "|                |                                                             \n",
      "|                \\-------------------------------------------- JD331           \n",
      "|                                                                              \n",
      "|                                                        /---- PA7             \n",
      "\\--------------------------------------------------------+                     \n",
      "                                                         \\---- LMG5031         \n",
      "                                                                               \n",
      "                                                                               \n"
     ]
    }
   ],
   "source": [
    "# visualize tree with dendropy\n",
    "tree = dendropy.Tree.get(data=tree_str, schema='newick')\n",
    "print(tree.as_ascii_plot())"
   ]
  },
  {
   "cell_type": "code",
   "execution_count": 14,
   "metadata": {
    "collapsed": true
   },
   "outputs": [
    {
     "name": "stdout",
     "output_type": "stream",
     "text": [
      "                                       /---------------------- ta151:\t\t\tTrue/False           \n",
      "                                       |                                       \n",
      "                                       |             /-------- jp222:\t\t\tFalse/False           \n",
      "                               /-------+        /----+                         \n",
      "                               |       |        |    |   /---- bo559:\t\t\tFalse/False           \n",
      "                               |       |    /---+    \\---+                     \n",
      "                               |       |    |   |        \\---- w15apr4:\t\t\tFalse/False         \n",
      "                               |       \\----+   |                              \n",
      "                               |            |   \\------------- cotonu1:\t\t\tFalse/False         \n",
      "                               |            |                                  \n",
      "                               |            \\----------------- lia179:\t\t\tFalse/False          \n",
      "                               |                                               \n",
      "                               |                         /---- lw1047:\t\t\tFalse/False          \n",
      "                               |            /------------+                     \n",
      "                          /----+            |            \\---- cphl2000:\t\tFalse/False        \n",
      "                          |    |            |                                  \n",
      "                          |    |       /----+            /---- lia18:\t\t\tFalse/False           \n",
      "                          |    |       |    |        /---+                     \n",
      "                          |    |       |    |   /----+   \\---- jp241:\t\t\tFalse/False           \n",
      "                          |    |       |    |   |    |                         \n",
      "                          |    |   /---+    \\---+    \\-------- a17:\t\t\tTrue/False             \n",
      "                          |    |   |   |        |                              \n",
      "                          |    |   |   |        \\------------- aa249:\t\t\tFalse/False           \n",
      "                          |    |   |   |                                       \n",
      "                          |    |   |   \\---------------------- lia145:\t\t\tFalse/False          \n",
      "                          |    \\---+                                           \n",
      "                          |        |                     /---- a15:\t\t\tFalse/False             \n",
      "                          |        |                 /---+                     \n",
      "                          |        |            /----+   \\---- a9:\t\t\tFalse/False              \n",
      "                          |        |            |    |                         \n",
      "                      /---+        \\------------+    \\-------- tu863:\t\t\tFalse/False           \n",
      "                      |   |                     |                              \n",
      "                      |   |                     |        /---- tu61:\t\t\tFalse/False            \n",
      "                      |   |                     \\--------+                     \n",
      "                      |   |                              \\---- swpa15j_nswpa15a:\tTrue/False\n",
      "                      |   |                                                    \n",
      "                      |   |            /---------------------- atcc27853:\t\tFalse/False       \n",
      "                      |   |            |                                       \n",
      "                      |   |            |        /------------- lia50:\t\t\tFalse/False           \n",
      "                      |   |        /---+    /---+                              \n",
      "                      |   |        |   |    |   |    /-------- a22:\t\t\tFalse/False             \n",
      "                      |   |        |   |    |   \\----+                         \n",
      "                      |   |        |   |    |        |   /---- w15aug23:\t\tFalse/False        \n",
      "                      |   |        |   \\----+        \\---+                     \n",
      "                      |   |        |        |            \\---- us411:\t\t\tFalse/False           \n",
      "                      |   |        |        |                                  \n",
      "                      |   |        |        |   /------------- m72:\t\t\tFalse/False             \n",
      "                      |   \\--------+        |   |                              \n",
      "                      |            |        \\---+        /---- a11:\t\t\tTrue/False             \n",
      "                      |            |            |    /---+                     \n",
      "                      |            |            |    |   \\---- a13:\t\t\tTrue/True             \n",
      "                      |            |            \\----+                         \n",
      "                      |            |                 |   /---- 5br2:\t\t\tFalse/False            \n",
      "                      |            |                 \\---+                     \n",
      "                      |            |                     \\---- cphl10299:\t\tFalse/False       \n",
      "                      |            |                                           \n",
      "                      |            \\-------------------------- phdw6:\t\t\tFalse/False           \n",
      "                      |                                                        \n",
      "                      |                         /------------- ic1:\t\t\tFalse/False             \n",
      "                      |                         |                              \n",
      "                      |                     /---+        /---- cphl950:\t\t\tFalse/False         \n",
      "                      |                     |   |    /---+                     \n",
      "                      |                     |   \\----+   \\---- mi159:\t\t\tFalse/False           \n",
      "                      |                /----+        |                         \n",
      "                 /----+                |    |        \\-------- w5aug16:\t\t\tFalse/False         \n",
      "                 |    |                |    |                                  \n",
      "                 |    |                |    \\----------------- pae85:\t\t\tFalse/False           \n",
      "                 |    |        /-------+                                       \n",
      "                 |    |        |       |                 /---- esp06b:\t\t\tFalse/False          \n",
      "                 |    |        |       |             /---+                     \n",
      "                 |    |        |       |             |   \\---- br993:\t\t\tFalse/False           \n",
      "                 |    |        |       \\-------------+                         \n",
      "                 |    |        |                     |   /---- co380791:\t\tFalse/False        \n",
      "                 |    |        |                     \\---+                     \n",
      "                 |    |        |                         \\---- co398373:\t\tFalse/False        \n",
      "                 |    |        |                                               \n",
      "                 |    |        |                         /---- a237:\t\t\tTrue/False            \n",
      "                 |    |        |                     /---+                     \n",
      "                 |    |        |                     |   \\---- pae113:\t\t\tFalse/False          \n",
      "                 |    |        |            /--------+                         \n",
      "                 |    |   /----+            |        |   /---- w15okt31:\t\tFalse/False        \n",
      "                 |    |   |    |            |        \\---+                     \n",
      "                 |    |   |    |            |            \\---- jp245:\t\t\tFalse/False           \n",
      "                 |    |   |    |       /----+                                  \n",
      "                 |    |   |    |       |    |            /---- c3128:\t\t\tFalse/False           \n",
      "                 |    |   |    |       |    |        /---+                     \n",
      "                 |    |   |    |       |    |   /----+   \\---- pt31m:\t\t\tFalse/False           \n",
      "                 |    |   |    |       |    |   |    |                         \n",
      "                 |    |   |    |   /---+    \\---+    \\-------- w5aug28:\t\t\tFalse/False         \n",
      "                 |    |   |    |   |   |        |                              \n",
      "                 |    |   |    |   |   |        |        /---- c5311:\t\t\tFalse/False           \n",
      "                 |    |   |    |   |   |        \\--------+                     \n",
      "                 |    |   |    |   |   |                 \\---- jd303:\t\t\tFalse/False           \n",
      "                 |    |   |    |   |   |                                       \n",
      "                 |    |   |    \\---+   \\---------------------- lia161:\t\t\tFalse/False          \n",
      "                 |    |   |        |                                           \n",
      "                 |    |   |        |   /---------------------- a19:\t\t\tFalse/False             \n",
      "                 |    |   |        |   |                                       \n",
      "                 |    \\---+        |   |                 /---- pae110:\t\t\tFalse/False          \n",
      "                 |        |        |   |             /---+                     \n",
      "                 |        |        \\---+        /----+   \\---- pae100:\t\t\tFalse/False          \n",
      "                 |        |            |        |    |                         \n",
      "                 |        |            |    /---+    \\-------- pae102:\t\t\tFalse/False          \n",
      "                 |        |            |    |   |                              \n",
      "                 |        |            \\----+   \\------------- cphl8203:\t\tFalse/False        \n",
      "                 |        |                 |                                  \n",
      "                 |        |                 \\----------------- cphl5083:\t\tFalse/False        \n",
      "             /---+        |                                                    \n",
      "             |   |        |                              /---- lia96:\t\t\tFalse/False           \n",
      "             |   |        |                          /---+                     \n",
      "             |   |        |                     /----+   \\---- lia91:\t\t\tFalse/False           \n",
      "             |   |        |                     |    |                         \n",
      "             |   |        |                 /---+    \\-------- lia131:\t\t\tFalse/False          \n",
      "             |   |        |                 |   |                              \n",
      "             |   |        |            /----+   \\------------- pmm38:\t\t\tnan/nan           \n",
      "             |   |        |            |    |                                  \n",
      "             |   |        |            |    \\----------------- mex2:\t\t\tFalse/False            \n",
      "             |   |        \\------------+                                       \n",
      "             |   |                     |                 /---- w15dec3:\t\t\tFalse/False         \n",
      "             |   |                     |             /---+                     \n",
      "             |   |                     \\-------------+   \\---- cnd03:\t\t\tFalse/False           \n",
      "             |   |                                   |                         \n",
      "             |   |                                   \\-------- jp1303:\t\t\tFalse/False          \n",
      "             |   |                                                             \n",
      "             |   |                                   /-------- 5920:\t\t\tnan/nan            \n",
      "             |   |                          /--------+                         \n",
      "             |   |                          |        |   /---- phls08959:\t\tFalse/False       \n",
      "             |   |                          |        \\---+                     \n",
      "             |   |                          |            \\---- w15dec4:\t\t\tFalse/False         \n",
      "             |   |                     /----+                                  \n",
      "             |   |                     |    |            /---- a10:\t\t\tTrue/False             \n",
      "             |   |                     |    |        /---+                     \n",
      "             |   |                     |    |   /----+   \\---- cphl6749:\t\tFalse/False        \n",
      "             |   |                     |    |   |    |                         \n",
      "             |   |                 /---+    \\---+    \\-------- jp238:\t\t\tFalse/False           \n",
      "             |   |                 |   |        |                              \n",
      "             |   |                 |   |        \\------------- pae160:\t\t\tFalse/False          \n",
      "        /----+   |                 |   |                                       \n",
      "        |    |   |                 |   |             /-------- lo049:\t\t\tFalse/False           \n",
      "        |    |   |             /---+   \\-------------+                         \n",
      "        |    |   |             |   |                 |   /---- cphl1999:\t\tFalse/False        \n",
      "        |    |   |             |   |                 \\---+                     \n",
      "        |    |   |             |   |                     \\---- cphl8058:\t\tFalse/False        \n",
      "        |    |   |        /----+   |                                           \n",
      "        |    |   |        |    |   \\-------------------------- cphl10701:\t\tFalse/False       \n",
      "        |    |   |        |    |                                               \n",
      "        |    |   |        |    |                         /---- lia70:\t\t\tFalse/False           \n",
      "        |    |   |        |    \\-------------------------+                     \n",
      "        |    |   |        |                              \\---- br670:\t\t\tFalse/False           \n",
      "        |    |   |        |                                                    \n",
      "        |    |   |        |                              /---- jp1170:\t\t\tFalse/False          \n",
      "        |    |   \\--------+                          /---+                     \n",
      "        |    |            |                          |   \\---- jp1200:\t\t\tFalse/False          \n",
      "        |    |            |                     /----+                         \n",
      "        |    |            |                     |    |   /---- jp1155:\t\t\tTrue/False          \n",
      "        |    |            |                 /---+    \\---+                     \n",
      "        |    |            |                 |   |        \\---- jp1206:\t\t\tFalse/False          \n",
      "        |    |            |            /----+   |                              \n",
      "        |    |            |            |    |   \\------------- tud199:\t\t\tFalse/False          \n",
      "        |    |            \\------------+    |                                  \n",
      "        |    |                         |    \\----------------- jp224:\t\t\tFalse/False           \n",
      "        |    |                         |                                       \n",
      "        |    |                         \\---------------------- lmg2107:\t\t\tFalse/False         \n",
      "    /---+    |                                                                 \n",
      "    |   |    |                                       /-------- cphl10662:\t\tFalse/False       \n",
      "    |   |    |                                  /----+                         \n",
      "    |   |    |                                  |    |   /---- jp100:\t\t\tFalse/False           \n",
      "    |   |    |                                  |    \\---+                     \n",
      "    |   |    \\----------------------------------+        \\---- jp97:\t\t\tTrue/False            \n",
      "    |   |                                       |                              \n",
      "    |   |                                       |        /---- j80uh1os1:\t\tFalse/False       \n",
      "    |   |                                       \\--------+                     \n",
      "    |   |                                                \\---- lia133:\t\t\tTrue/False          \n",
      "    |   |                                                                      \n",
      "    |   |                                   /----------------- cn573_pse143:\t\tFalse/True    \n",
      "    |   |                                   |                                  \n",
      "    |   |                                   |            /---- jp54:\t\t\tFalse/False            \n",
      "    |   |                              /----+        /---+                     \n",
      "    |   |                              |    |   /----+   \\---- jp60:\t\t\tFalse/False            \n",
      "    |   |                              |    |   |    |                         \n",
      "    |   |                              |    \\---+    \\-------- j9uh1f:\t\t\tFalse/False          \n",
      "    |   |                              |        |                              \n",
      "    |   |                          /---+        |        /---- w15dec14:\t\tFalse/False        \n",
      "    |   |                          |   |        \\--------+                     \n",
      "    |   |                          |   |                 \\---- lia63:\t\t\tFalse/False           \n",
      "    |   |                          |   |                                       \n",
      "    |   |                      /---+   |                 /---- pao1:\t\t\tnan/nan            \n",
      "    |   |                      |   |   \\-----------------+                     \n",
      "    |   |                      |   |                     \\---- idexxcanine4:\t\tTrue/False    \n",
      "    |   \\----------------------+   |                                           \n",
      "    |                          |   \\-------------------------- lia19:\t\t\tFalse/False           \n",
      "    |                          |                                               \n",
      "    |                          \\------------------------------ idexxcanine8:\t\tTrue/False    \n",
      "    |                                                                          \n",
      "    |                                                    /---- jd312:\t\t\tTrue/False           \n",
      "/---+                     /------------------------------+                     \n",
      "|   |                     |                              \\---- jd317:\t\t\tTrue/False           \n",
      "|   |                     |                                                    \n",
      "|   |                     |                              /---- jd310:\t\t\tTrue/True           \n",
      "|   |                     |                          /---+                     \n",
      "|   |                     |                     /----+   \\---- jd326:\t\t\tTrue/False           \n",
      "|   |                     |                     |    |                         \n",
      "|   |                 /---+                 /---+    \\-------- jd329:\t\t\tFalse/False           \n",
      "|   |                 |   |                 |   |                              \n",
      "|   |                 |   |            /----+   \\------------- jd315:\t\t\tFalse/False           \n",
      "|   |                 |   |            |    |                                  \n",
      "|   |                 |   |        /---+    \\----------------- jd322:\t\t\tFalse/True           \n",
      "|   |                 |   |        |   |                                       \n",
      "|   |                 |   |    /---+   \\---------------------- jd335:\t\t\tFalse/False           \n",
      "|   |                 |   |    |   |                                           \n",
      "|   |                 |   \\----+   \\-------------------------- jd324:\t\t\tTrue/False           \n",
      "|   |                 |        |                                               \n",
      "|   |                 |        \\------------------------------ jd304:\t\t\tFalse/False           \n",
      "|   |                 |                                                        \n",
      "|   |                 |                                  /---- jd332:\t\t\tTrue/False           \n",
      "|   |                 |                              /---+                     \n",
      "|   |                 |                     /--------+   \\---- jd323:\t\t\tFalse/False           \n",
      "|   |            /----+                     |        |                         \n",
      "+   |            |    |                /----+        \\-------- jd314:\t\t\tFalse/False           \n",
      "|   |            |    |                |    |                                  \n",
      "|   |            |    |                |    |   /------------- jd328:\t\t\tTrue/False           \n",
      "|   |            |    |                |    \\---+                              \n",
      "|   |            |    |                |        |    /-------- jd316:\t\t\tFalse/True           \n",
      "|   |            |    |            /---+        \\----+                         \n",
      "|   |            |    |            |   |             |   /---- jd333:\t\t\tFalse/False           \n",
      "|   |            |    |            |   |             \\---+                     \n",
      "|   |            |    |            |   |                 \\---- jd313:\t\t\tFalse/False           \n",
      "|   \\------------+    |            |   |                                       \n",
      "|                |    |        /---+   |             /-------- jd334:\t\t\tTrue/True           \n",
      "|                |    |        |   |   \\-------------+                         \n",
      "|                |    |        |   |                 |   /---- jd325:\t\t\tTrue/False           \n",
      "|                |    |        |   |                 \\---+                     \n",
      "|                |    \\--------+   |                     \\---- jd306:\t\t\tTrue/False           \n",
      "|                |             |   |                                           \n",
      "|                |             |   \\-------------------------- jd318:\t\t\tFalse/False           \n",
      "|                |             |                                               \n",
      "|                |             \\------------------------------ jd320:\t\t\tTrue/False           \n",
      "|                |                                                             \n",
      "|                \\-------------------------------------------- jd331:\t\t\tTrue/False           \n",
      "|                                                                              \n",
      "|                                                        /---- pa7:\t\t\tFalse/False             \n",
      "\\--------------------------------------------------------+                     \n",
      "                                                         \\---- lmg5031:\t\t\tTrue/False         \n",
      "                                                                               \n",
      "                                                                               \n"
     ]
    }
   ],
   "source": [
    "# format the ascii tree with labels\n",
    "tree_ascii = tree.as_ascii_plot()\n",
    "for i, record in records.iterrows():\n",
    "    l = len(record['id'])\n",
    "    if l < 8:\n",
    "        indent = '\\t\\t\\t'\n",
    "    elif l < 13:\n",
    "        indent = '\\t\\t'\n",
    "    else:\n",
    "        indent = '\\t'\n",
    "    tree_ascii = tree_ascii.replace(record['id'].replace('_', ' '),\n",
    "                                    '{id__}:{indent}{carb}/{toby}'.format(\n",
    "                                        id__=record['id'].lower(), # lower case to avoid something wrong\n",
    "                                        indent=indent,carb=record['carb'],toby=record['toby']),\n",
    "                                    1)\n",
    "print(tree_ascii)"
   ]
  },
  {
   "cell_type": "code",
   "execution_count": 3,
   "metadata": {
    "collapsed": true
   },
   "outputs": [
    {
     "data": {
      "image/png": "[encoded data removed]",
      "text/plain": [
       "<Figure size 1656x1656 with 1 Axes>"
      ]
     },
     "metadata": {
      "needs_background": "light"
     },
     "output_type": "display_data"
    }
   ],
   "source": [
    "# visualize tree with biopython and matplotlib\n",
    "phylo.draw_tree('../data/pseudo/pseudo_tree.nwk', '$Pseudomonas$ phylogenetic tree')"
   ]
  },
  {
   "cell_type": "markdown",
   "metadata": {},
   "source": [
    "# Dimensionality reduction on distance matrix"
   ]
  },
  {
   "cell_type": "code",
   "execution_count": null,
   "metadata": {},
   "outputs": [],
   "source": [
    "from sklearn.manifold import TSNE\n",
    "from sklearn.decomposition import PCA\n",
    "from sklearn.preprocessing import StandardScaler"
   ]
  },
  {
   "cell_type": "code",
   "execution_count": null,
   "metadata": {},
   "outputs": [],
   "source": [
    "dist_mat = pd.read_csv('../data/pseudo_dist_mat.csv', index_col='id')\n",
    "dist_mat[dist_mat==np.inf] = 0"
   ]
  },
  {
   "cell_type": "code",
   "execution_count": null,
   "metadata": {},
   "outputs": [],
   "source": [
    "scaler = StandardScaler()\n",
    "dist_mat_scaled = scaler.fit_transform(dist_mat)"
   ]
  },
  {
   "cell_type": "code",
   "execution_count": null,
   "metadata": {},
   "outputs": [],
   "source": [
    "pca = PCA(n_components=2)\n",
    "dist_mat_pca = pca.fit_transform(dist_mat_scaled)"
   ]
  },
  {
   "cell_type": "code",
   "execution_count": null,
   "metadata": {},
   "outputs": [],
   "source": [
    "plt.figure(figsize=(9.6, 4.8))\n",
    "plt.subplot('121')\n",
    "plt.scatter(dist_mat_pca[:, 0], dist_mat_pca[:, 1], c=records['carb'])\n",
    "plt.subplot('122')\n",
    "plt.scatter(dist_mat_pca[:, 0], dist_mat_pca[:, 1], c=records['toby'])\n",
    "\n",
    "plt.tight_layout()\n",
    "plt.show()"
   ]
  },
  {
   "cell_type": "code",
   "execution_count": null,
   "metadata": {},
   "outputs": [],
   "source": [
    "tsne = TSNE(n_components=2)\n",
    "dist_mat_tsne = tsne.fit_transform(dist_mat_scaled)"
   ]
  },
  {
   "cell_type": "code",
   "execution_count": null,
   "metadata": {},
   "outputs": [],
   "source": [
    "plt.figure(figsize=(9.6, 4.8))\n",
    "plt.subplot('121')\n",
    "plt.scatter(dist_mat_tsne[:, 0], dist_mat_tsne[:, 1], c=records['carb'])\n",
    "plt.subplot('122')\n",
    "plt.scatter(dist_mat_tsne[:, 0], dist_mat_tsne[:, 1], c=records['toby'])\n",
    "\n",
    "plt.tight_layout()\n",
    "plt.show()"
   ]
  },
  {
   "cell_type": "markdown",
   "metadata": {},
   "source": [
    "# Experiment"
   ]
  },
  {
   "cell_type": "markdown",
   "metadata": {},
   "source": [
    "## remove redundant feature"
   ]
  },
  {
   "cell_type": "code",
   "execution_count": 14,
   "metadata": {},
   "outputs": [],
   "source": [
    "records.dropna(inplace=True)"
   ]
  },
  {
   "cell_type": "code",
   "execution_count": 4,
   "metadata": {},
   "outputs": [],
   "source": [
    "from sklearn.feature_selection import VarianceThreshold\n",
    "selector = VarianceThreshold()"
   ]
  },
  {
   "cell_type": "code",
   "execution_count": 5,
   "metadata": {},
   "outputs": [],
   "source": [
    "forward = str.maketrans('-ACTG', '01234')\n",
    "def transformation(str):\n",
    "    return [int(i) for i in str.translate(forward)]"
   ]
  },
  {
   "cell_type": "code",
   "execution_count": 6,
   "metadata": {},
   "outputs": [],
   "source": [
    "encoding = records['sequence'].apply(transformation)"
   ]
  },
  {
   "cell_type": "code",
   "execution_count": 7,
   "metadata": {},
   "outputs": [],
   "source": [
    "encoding = pd.DataFrame(encoding.to_dict()).transpose().to_numpy()"
   ]
  },
  {
   "cell_type": "code",
   "execution_count": 19,
   "metadata": {},
   "outputs": [
    {
     "name": "stdout",
     "output_type": "stream",
     "text": [
      "CPU times: user 847 ms, sys: 457 ms, total: 1.3 s\n",
      "Wall time: 1.3 s\n"
     ]
    }
   ],
   "source": [
    "%time encoding_trans = selector.fit_transform(encoding)"
   ]
  },
  {
   "cell_type": "code",
   "execution_count": 20,
   "metadata": {},
   "outputs": [
    {
     "data": {
      "text/plain": [
       "(119, 261677)"
      ]
     },
     "execution_count": 20,
     "metadata": {},
     "output_type": "execute_result"
    }
   ],
   "source": [
    "encoding_trans.shape"
   ]
  },
  {
   "cell_type": "markdown",
   "metadata": {},
   "source": [
    "## encoding"
   ]
  },
  {
   "cell_type": "code",
   "execution_count": 21,
   "metadata": {},
   "outputs": [],
   "source": [
    "from sklearn.preprocessing import OneHotEncoder\n",
    "encoder = OneHotEncoder(categories='auto', handle_unknown='ignore')"
   ]
  },
  {
   "cell_type": "code",
   "execution_count": 22,
   "metadata": {},
   "outputs": [],
   "source": [
    "encoding_seq = encoder.fit_transform(encoding_trans)"
   ]
  },
  {
   "cell_type": "code",
   "execution_count": null,
   "metadata": {},
   "outputs": [],
   "source": [
    "from sklearn.decomposition import TruncatedSVD\n",
    "svd = TruncatedSVD(n_components=2)\n",
    "encoding_seq_svd = svd.fit_transform(encoding_seq)"
   ]
  },
  {
   "cell_type": "code",
   "execution_count": null,
   "metadata": {},
   "outputs": [],
   "source": [
    "plt.figure(figsize=(9.6, 4.8))\n",
    "plt.subplot('121')\n",
    "plt.scatter(encoding_seq_svd[:, 0], encoding_seq_svd[:, 1], c=records['carb'])\n",
    "plt.subplot('122')\n",
    "plt.scatter(encoding_seq_svd[:, 0], encoding_seq_svd[:, 1], c=records['toby'])\n",
    "\n",
    "plt.tight_layout()\n",
    "plt.show()"
   ]
  },
  {
   "cell_type": "markdown",
   "metadata": {},
   "source": [
    "# Training"
   ]
  },
  {
   "cell_type": "code",
   "execution_count": 30,
   "metadata": {},
   "outputs": [],
   "source": [
    "from sklearn.model_selection import train_test_split"
   ]
  },
  {
   "cell_type": "code",
   "execution_count": 31,
   "metadata": {},
   "outputs": [],
   "source": [
    "X  = encoding_seq.todense()\n",
    "y1, y2 = records['carb'].astype(int), records['toby'].astype(int)"
   ]
  },
  {
   "cell_type": "code",
   "execution_count": 32,
   "metadata": {},
   "outputs": [],
   "source": [
    "X1_train, X1_test, y1_train, y1_test = train_test_split(X, y1, stratify=y1)\n",
    "X2_train, X2_test, y2_train, y2_test = train_test_split(X, y2, stratify=y2)"
   ]
  },
  {
   "cell_type": "code",
   "execution_count": 33,
   "metadata": {},
   "outputs": [],
   "source": [
    "from sklearn.ensemble import RandomForestClassifier\n",
    "rf_clf = RandomForestClassifier(n_estimators=100)"
   ]
  },
  {
   "cell_type": "code",
   "execution_count": 34,
   "metadata": {},
   "outputs": [
    {
     "data": {
      "text/plain": [
       "RandomForestClassifier(bootstrap=True, class_weight=None, criterion='gini',\n",
       "                       max_depth=None, max_features='auto', max_leaf_nodes=None,\n",
       "                       min_impurity_decrease=0.0, min_impurity_split=None,\n",
       "                       min_samples_leaf=1, min_samples_split=2,\n",
       "                       min_weight_fraction_leaf=0.0, n_estimators=100,\n",
       "                       n_jobs=None, oob_score=False, random_state=None,\n",
       "                       verbose=0, warm_start=False)"
      ]
     },
     "execution_count": 34,
     "metadata": {},
     "output_type": "execute_result"
    }
   ],
   "source": [
    "rf_clf.fit(X1_train, y1_train)"
   ]
  },
  {
   "cell_type": "code",
   "execution_count": 36,
   "metadata": {},
   "outputs": [
    {
     "data": {
      "text/plain": [
       "array([[23,  1],\n",
       "       [ 4,  2]])"
      ]
     },
     "execution_count": 36,
     "metadata": {},
     "output_type": "execute_result"
    }
   ],
   "source": [
    "from sklearn.metrics import confusion_matrix\n",
    "confusion_matrix(y1_test, rf_clf.predict(X1_test))"
   ]
  },
  {
   "cell_type": "code",
   "execution_count": 37,
   "metadata": {},
   "outputs": [
    {
     "data": {
      "text/plain": [
       "array([[28,  0],\n",
       "       [ 2,  0]])"
      ]
     },
     "execution_count": 37,
     "metadata": {},
     "output_type": "execute_result"
    }
   ],
   "source": [
    "rf_clf.fit(X2_train, y2_train)\n",
    "confusion_matrix(y2_test, rf_clf.predict(X2_test))"
   ]
  },
  {
   "cell_type": "code",
   "execution_count": 38,
   "metadata": {},
   "outputs": [],
   "source": [
    "from sklearn.linear_model import LogisticRegression\n",
    "lr = LogisticRegression(solver='lbfgs')"
   ]
  },
  {
   "cell_type": "code",
   "execution_count": 39,
   "metadata": {},
   "outputs": [
    {
     "data": {
      "text/plain": [
       "array([[23,  1],\n",
       "       [ 4,  2]])"
      ]
     },
     "execution_count": 39,
     "metadata": {},
     "output_type": "execute_result"
    }
   ],
   "source": [
    "lr.fit(X1_train, y1_train)\n",
    "confusion_matrix(y1_test, lr.predict(X1_test))"
   ]
  },
  {
   "cell_type": "code",
   "execution_count": 40,
   "metadata": {},
   "outputs": [
    {
     "data": {
      "text/plain": [
       "array([[28,  0],\n",
       "       [ 2,  0]])"
      ]
     },
     "execution_count": 40,
     "metadata": {},
     "output_type": "execute_result"
    }
   ],
   "source": [
    "lr.fit(X2_train, y2_train)\n",
    "confusion_matrix(y2_test, lr.predict(X2_test))"
   ]
  },
  {
   "cell_type": "code",
   "execution_count": 49,
   "metadata": {},
   "outputs": [
    {
     "data": {
      "text/plain": [
       "0    70\n",
       "1    19\n",
       "Name: carb, dtype: int64"
      ]
     },
     "execution_count": 49,
     "metadata": {},
     "output_type": "execute_result"
    }
   ],
   "source": [
    "y1_train.astype(int).value_counts()"
   ]
  },
  {
   "cell_type": "code",
   "execution_count": 50,
   "metadata": {},
   "outputs": [
    {
     "data": {
      "text/plain": [
       "0    24\n",
       "1     6\n",
       "Name: carb, dtype: int64"
      ]
     },
     "execution_count": 50,
     "metadata": {},
     "output_type": "execute_result"
    }
   ],
   "source": [
    "y1_test.astype(int).value_counts()"
   ]
  },
  {
   "cell_type": "code",
   "execution_count": 51,
   "metadata": {},
   "outputs": [
    {
     "data": {
      "text/plain": [
       "0    85\n",
       "1     4\n",
       "Name: toby, dtype: int64"
      ]
     },
     "execution_count": 51,
     "metadata": {},
     "output_type": "execute_result"
    }
   ],
   "source": [
    "y2_train.astype(int).value_counts()"
   ]
  },
  {
   "cell_type": "code",
   "execution_count": 52,
   "metadata": {},
   "outputs": [
    {
     "data": {
      "text/plain": [
       "0    28\n",
       "1     2\n",
       "Name: toby, dtype: int64"
      ]
     },
     "execution_count": 52,
     "metadata": {},
     "output_type": "execute_result"
    }
   ],
   "source": [
    "y2_test.astype(int).value_counts()"
   ]
  },
  {
   "cell_type": "code",
   "execution_count": null,
   "metadata": {},
   "outputs": [],
   "source": []
  }
 ],
 "metadata": {
  "kernelspec": {
   "display_name": "Python 3",
   "language": "python",
   "name": "python3"
  },
  "language_info": {
   "codemirror_mode": {
    "name": "ipython",
    "version": 3
   },
   "file_extension": ".py",
   "mimetype": "text/x-python",
   "name": "python",
   "nbconvert_exporter": "python",
   "pygments_lexer": "ipython3",
   "version": "3.7.4"
  }
 },
 "nbformat": 4,
 "nbformat_minor": 2
}
