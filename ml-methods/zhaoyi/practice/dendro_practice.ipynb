{
 "cells": [
  {
   "cell_type": "code",
   "execution_count": 2,
   "metadata": {},
   "outputs": [],
   "source": [
    "import dendropy"
   ]
  },
  {
   "cell_type": "code",
   "execution_count": 3,
   "metadata": {},
   "outputs": [],
   "source": [
    "tree_str1 = '((A, B),C);'"
   ]
  },
  {
   "cell_type": "code",
   "execution_count": 5,
   "metadata": {},
   "outputs": [
    {
     "data": {
      "text/plain": [
       "1"
      ]
     },
     "execution_count": 5,
     "metadata": {},
     "output_type": "execute_result"
    }
   ],
   "source": [
    "tree_list = dendropy.TreeList()\n",
    "tree_list.read(data=tree_str1, schema='newick')"
   ]
  },
  {
   "cell_type": "code",
   "execution_count": 7,
   "metadata": {},
   "outputs": [
    {
     "data": {
      "text/plain": [
       "<TaxonNamespace 0x7f17c5ccea50 'None': [<Taxon 0x7f17abfccc50 'A'>, <Taxon 0x7f17abfcc290 'B'>, <Taxon 0x7f17bd713450 'C'>]>"
      ]
     },
     "execution_count": 7,
     "metadata": {},
     "output_type": "execute_result"
    }
   ],
   "source": [
    "tree_list.taxon_namespace"
   ]
  },
  {
   "cell_type": "code",
   "execution_count": 11,
   "metadata": {},
   "outputs": [
    {
     "name": "stdout",
     "output_type": "stream",
     "text": [
      "(<Node object at 0x7f17bc78e610: 'None' (None)>,)\n",
      "(<Node object at 0x7f17c416f1d0: 'None' (None)>,)\n",
      "(<Node object at 0x7f17abfcc590: 'None' (<Taxon 0x7f17abfccc50 'A'>)>,)\n",
      "(<Node object at 0x7f17abfcc890: 'None' (<Taxon 0x7f17abfcc290 'B'>)>,)\n",
      "(<Node object at 0x7f17abfcc9d0: 'None' (<Taxon 0x7f17bd713450 'C'>)>,)\n"
     ]
    }
   ],
   "source": [
    "for nd in zip(tree_list[0]):\n",
    "    print(repr(nd))"
   ]
  },
  {
   "cell_type": "code",
   "execution_count": 13,
   "metadata": {},
   "outputs": [
    {
     "data": {
      "text/plain": [
       "(0, 1, 0)"
      ]
     },
     "execution_count": 13,
     "metadata": {},
     "output_type": "execute_result"
    }
   ],
   "source": [
    "from dendropy.calculate import treecompare\n",
    "\n",
    "tree_str1 = '((A,B),C);'\n",
    "tree_str2 = '((A,B),C);'\n",
    "\n",
    "ds2 = dendropy.DataSet()\n",
    "ds2.read(data=tree_str1, schema='newick')\n",
    "ds2.read(data=tree_str1, schema='newick', taxon_namespace=ds2.tree_lists[0].taxon_namespace)"
   ]
  },
  {
   "cell_type": "code",
   "execution_count": 14,
   "metadata": {},
   "outputs": [
    {
     "name": "stdout",
     "output_type": "stream",
     "text": [
      "1\n"
     ]
    }
   ],
   "source": [
    "print(len(ds2.taxon_namespaces))"
   ]
  },
  {
   "cell_type": "code",
   "execution_count": 29,
   "metadata": {},
   "outputs": [
    {
     "ename": "TaxonNamespaceIdentityError",
     "evalue": "Non-identical taxon namespace references: <TaxonNamespace object at 0x7f17aac4bc90> is not <TaxonNamespace object at 0x7f17aa3d6050>",
     "output_type": "error",
     "traceback": [
      "\u001b[0;31m---------------------------------------------------------------------------\u001b[0m",
      "\u001b[0;31mTaxonNamespaceIdentityError\u001b[0m               Traceback (most recent call last)",
      "\u001b[0;32m<ipython-input-29-fd6553ba5926>\u001b[0m in \u001b[0;36m<module>\u001b[0;34m\u001b[0m\n\u001b[1;32m     13\u001b[0m         \u001b[0;31m# this branch is never visited\u001b[0m\u001b[0;34m\u001b[0m\u001b[0;34m\u001b[0m\u001b[0;34m\u001b[0m\u001b[0m\n\u001b[1;32m     14\u001b[0m         \u001b[0mprint\u001b[0m\u001b[0;34m(\u001b[0m\u001b[0;34m\"Taxon '{}': found in both trees\"\u001b[0m\u001b[0;34m.\u001b[0m\u001b[0mformat\u001b[0m\u001b[0;34m(\u001b[0m\u001b[0mtaxon\u001b[0m\u001b[0;34m.\u001b[0m\u001b[0mlabel\u001b[0m\u001b[0;34m)\u001b[0m\u001b[0;34m)\u001b[0m\u001b[0;34m\u001b[0m\u001b[0;34m\u001b[0m\u001b[0m\n\u001b[0;32m---> 15\u001b[0;31m \u001b[0mprint\u001b[0m\u001b[0;34m(\u001b[0m\u001b[0mtreecompare\u001b[0m\u001b[0;34m.\u001b[0m\u001b[0msymmetric_difference\u001b[0m\u001b[0;34m(\u001b[0m\u001b[0mtree_list1\u001b[0m\u001b[0;34m[\u001b[0m\u001b[0;36m0\u001b[0m\u001b[0;34m]\u001b[0m\u001b[0;34m,\u001b[0m \u001b[0mtree_list2\u001b[0m\u001b[0;34m[\u001b[0m\u001b[0;36m0\u001b[0m\u001b[0;34m]\u001b[0m\u001b[0;34m)\u001b[0m\u001b[0;34m)\u001b[0m\u001b[0;34m\u001b[0m\u001b[0;34m\u001b[0m\u001b[0m\n\u001b[0m",
      "\u001b[0;32m~/.local/lib/python3.7/site-packages/dendropy/calculate/treecompare.py\u001b[0m in \u001b[0;36msymmetric_difference\u001b[0;34m(tree1, tree2, is_bipartitions_updated)\u001b[0m\n\u001b[1;32m     87\u001b[0m             \u001b[0mtree1\u001b[0m\u001b[0;34m,\u001b[0m\u001b[0;34m\u001b[0m\u001b[0;34m\u001b[0m\u001b[0m\n\u001b[1;32m     88\u001b[0m             \u001b[0mtree2\u001b[0m\u001b[0;34m,\u001b[0m\u001b[0;34m\u001b[0m\u001b[0;34m\u001b[0m\u001b[0m\n\u001b[0;32m---> 89\u001b[0;31m             is_bipartitions_updated=is_bipartitions_updated)\n\u001b[0m\u001b[1;32m     90\u001b[0m     \u001b[0;32mreturn\u001b[0m \u001b[0mt\u001b[0m\u001b[0;34m[\u001b[0m\u001b[0;36m0\u001b[0m\u001b[0;34m]\u001b[0m \u001b[0;34m+\u001b[0m \u001b[0mt\u001b[0m\u001b[0;34m[\u001b[0m\u001b[0;36m1\u001b[0m\u001b[0;34m]\u001b[0m\u001b[0;34m\u001b[0m\u001b[0;34m\u001b[0m\u001b[0m\n\u001b[1;32m     91\u001b[0m \u001b[0;34m\u001b[0m\u001b[0m\n",
      "\u001b[0;32m~/.local/lib/python3.7/site-packages/dendropy/calculate/treecompare.py\u001b[0m in \u001b[0;36mfalse_positives_and_negatives\u001b[0;34m(reference_tree, comparison_tree, is_bipartitions_updated)\u001b[0m\n\u001b[1;32m    223\u001b[0m     \"\"\"\n\u001b[1;32m    224\u001b[0m     \u001b[0;32mif\u001b[0m \u001b[0mreference_tree\u001b[0m\u001b[0;34m.\u001b[0m\u001b[0mtaxon_namespace\u001b[0m \u001b[0;32mis\u001b[0m \u001b[0;32mnot\u001b[0m \u001b[0mcomparison_tree\u001b[0m\u001b[0;34m.\u001b[0m\u001b[0mtaxon_namespace\u001b[0m\u001b[0;34m:\u001b[0m\u001b[0;34m\u001b[0m\u001b[0;34m\u001b[0m\u001b[0m\n\u001b[0;32m--> 225\u001b[0;31m         \u001b[0;32mraise\u001b[0m \u001b[0merror\u001b[0m\u001b[0;34m.\u001b[0m\u001b[0mTaxonNamespaceIdentityError\u001b[0m\u001b[0;34m(\u001b[0m\u001b[0mreference_tree\u001b[0m\u001b[0;34m,\u001b[0m \u001b[0mcomparison_tree\u001b[0m\u001b[0;34m)\u001b[0m\u001b[0;34m\u001b[0m\u001b[0;34m\u001b[0m\u001b[0m\n\u001b[0m\u001b[1;32m    226\u001b[0m     \u001b[0;32mif\u001b[0m \u001b[0;32mnot\u001b[0m \u001b[0mis_bipartitions_updated\u001b[0m\u001b[0;34m:\u001b[0m\u001b[0;34m\u001b[0m\u001b[0;34m\u001b[0m\u001b[0m\n\u001b[1;32m    227\u001b[0m         \u001b[0mreference_tree\u001b[0m\u001b[0;34m.\u001b[0m\u001b[0mencode_bipartitions\u001b[0m\u001b[0;34m(\u001b[0m\u001b[0;34m)\u001b[0m\u001b[0;34m\u001b[0m\u001b[0;34m\u001b[0m\u001b[0m\n",
      "\u001b[0;31mTaxonNamespaceIdentityError\u001b[0m: Non-identical taxon namespace references: <TaxonNamespace object at 0x7f17aac4bc90> is not <TaxonNamespace object at 0x7f17aa3d6050>"
     ]
    }
   ],
   "source": [
    "import dendropy\n",
    "from dendropy.calculate import treecompare\n",
    "\n",
    "tree_str1 = \"((A,B),C);\"\n",
    "\n",
    "tree_list1 = dendropy.TreeList()\n",
    "tree_list1.read(data=tree_str1, schema=\"newick\")\n",
    "tree_list2 = dendropy.TreeList()\n",
    "tree_list2.read(data=tree_str1, schema=\"newick\")\n",
    "\n",
    "for taxon in tree_list1.taxon_namespace:\n",
    "    if taxon in tree_list2.taxon_namespace:\n",
    "        # this branch is never visited\n",
    "        print(\"Taxon '{}': found in both trees\".format(taxon.label))\n",
    "print(treecompare.symmetric_difference(tree_list1[0], tree_list2[0]))"
   ]
  },
  {
   "cell_type": "code",
   "execution_count": 30,
   "metadata": {},
   "outputs": [
    {
     "name": "stdout",
     "output_type": "stream",
     "text": [
      "Taxon 'A': found in both trees\n",
      "Taxon 'B': found in both trees\n",
      "Taxon 'C': found in both trees\n",
      "0\n"
     ]
    }
   ],
   "source": [
    "import dendropy\n",
    "from dendropy.calculate import treecompare\n",
    "\n",
    "tree_str1 = \"((A,B),C);\"\n",
    "tree_str2 = \"(A,(B,C));\"\n",
    "tns = ds2.new_taxon_namespace()\n",
    "\n",
    "tree_list1 = dendropy.TreeList(taxon_namespace=tns)\n",
    "tree_list1.read(data=tree_str1, schema=\"newick\")\n",
    "tree_list2 = dendropy.TreeList(taxon_namespace=tns)\n",
    "tree_list2.read(data=tree_str2, schema=\"newick\")\n",
    "\n",
    "for taxon in tree_list1.taxon_namespace:\n",
    "    if taxon in tree_list2.taxon_namespace:\n",
    "        # this branch is never visited\n",
    "        print(\"Taxon '{}': found in both trees\".format(taxon.label))\n",
    "print(treecompare.symmetric_difference(tree_list1[0], tree_list2[0]))"
   ]
  },
  {
   "cell_type": "code",
   "execution_count": 31,
   "metadata": {},
   "outputs": [],
   "source": [
    "tree_str = '[&R] (A,(B,(C,(D,E))));'\n",
    "\n",
    "tree = dendropy.Tree.get_from_string(tree_str, 'newick')"
   ]
  },
  {
   "cell_type": "code",
   "execution_count": 32,
   "metadata": {},
   "outputs": [
    {
     "name": "stdout",
     "output_type": "stream",
     "text": [
      "Original\n",
      "/---------------------------------------------------------------------------- A\n",
      "+                                                                              \n",
      "|                  /--------------------------------------------------------- B\n",
      "\\------------------+                                                           \n",
      "                   |                  /-------------------------------------- C\n",
      "                   \\------------------+                                        \n",
      "                                      |                  /------------------- D\n",
      "                                      \\------------------+                     \n",
      "                                                         \\------------------- E\n",
      "                                                                               \n",
      "                                                                               \n",
      "After `is_rooted=False`\n",
      "/---------------------------------------------------------------------------- A\n",
      "+                                                                              \n",
      "|                  /--------------------------------------------------------- B\n",
      "\\------------------+                                                           \n",
      "                   |                  /-------------------------------------- C\n",
      "                   \\------------------+                                        \n",
      "                                      |                  /------------------- D\n",
      "                                      \\------------------+                     \n",
      "                                                         \\------------------- E\n",
      "                                                                               \n",
      "                                                                               \n",
      "After `update_bipartitions()`:\n",
      "/---------------------------------------------------------------------------- A\n",
      "|                                                                              \n",
      "+---------------------------------------------------------------------------- B\n",
      "|                                                                              \n",
      "|                        /--------------------------------------------------- C\n",
      "\\------------------------+                                                     \n",
      "                         |                         /------------------------- D\n",
      "                         \\-------------------------+                           \n",
      "                                                   \\------------------------- E\n",
      "                                                                               \n",
      "                                                                               \n"
     ]
    }
   ],
   "source": [
    "print('Original')\n",
    "print(tree.as_ascii_plot())\n",
    "\n",
    "tree.is_rooted = False\n",
    "print('After `is_rooted=False`')\n",
    "print(tree.as_ascii_plot())\n",
    "\n",
    "tree.update_bipartitions()\n",
    "print(\"After `update_bipartitions()`:\")\n",
    "print(tree.as_ascii_plot())"
   ]
  },
  {
   "cell_type": "code",
   "execution_count": null,
   "metadata": {},
   "outputs": [],
   "source": []
  }
 ],
 "metadata": {
  "kernelspec": {
   "display_name": "Python 3",
   "language": "python",
   "name": "python3"
  },
  "language_info": {
   "codemirror_mode": {
    "name": "ipython",
    "version": 3
   },
   "file_extension": ".py",
   "mimetype": "text/x-python",
   "name": "python",
   "nbconvert_exporter": "python",
   "pygments_lexer": "ipython3",
   "version": "3.7.4"
  }
 },
 "nbformat": 4,
 "nbformat_minor": 2
}
