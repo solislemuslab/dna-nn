{
 "cells": [
  {
   "cell_type": "code",
   "execution_count": 1,
   "metadata": {},
   "outputs": [],
   "source": [
    "from collections import Counter\n",
    "\n",
    "import numpy as np\n",
    "import pandas as pd\n",
    "import matplotlib.pyplot as plt\n",
    "import dendropy\n",
    "from Bio import SeqIO, Phylo\n",
    "\n",
    "%matplotlib inline\n",
    "pd.options.display.precision = 3"
   ]
  },
  {
   "cell_type": "code",
   "execution_count": 2,
   "metadata": {},
   "outputs": [],
   "source": [
    "src = SeqIO.parse('../data/staph/saureus_core_gene_alignment.aln', 'fasta')\n",
    "data = [(record.id, record.seq._data.upper()) for record in src]\n",
    "seq = pd.DataFrame(data=data, columns=['id', 'sequence'])"
   ]
  },
  {
   "cell_type": "code",
   "execution_count": 3,
   "metadata": {},
   "outputs": [
    {
     "data": {
      "text/plain": [
       "0          107\n",
       "1          109\n",
       "2          115\n",
       "3      1203158\n",
       "4       120335\n",
       "        ...   \n",
       "258     SR4152\n",
       "259     SR4153\n",
       "260     SR4155\n",
       "261     SR4156\n",
       "262     SR4187\n",
       "Name: id, Length: 263, dtype: object"
      ]
     },
     "execution_count": 3,
     "metadata": {},
     "output_type": "execute_result"
    }
   ],
   "source": [
    "seq['id']"
   ]
  },
  {
   "cell_type": "code",
   "execution_count": 4,
   "metadata": {},
   "outputs": [
    {
     "data": {
      "text/plain": [
       "910519"
      ]
     },
     "execution_count": 4,
     "metadata": {},
     "output_type": "execute_result"
    }
   ],
   "source": [
    "# the samples in the previous one have length 983088\n",
    "l = 0\n",
    "for sequence in seq['sequence']:\n",
    "    l += len(sequence)\n",
    "l // len(seq['sequence'])"
   ]
  },
  {
   "cell_type": "code",
   "execution_count": null,
   "metadata": {},
   "outputs": [],
   "source": []
  }
 ],
 "metadata": {
  "kernelspec": {
   "display_name": "Python 3",
   "language": "python",
   "name": "python3"
  },
  "language_info": {
   "codemirror_mode": {
    "name": "ipython",
    "version": 3
   },
   "file_extension": ".py",
   "mimetype": "text/x-python",
   "name": "python",
   "nbconvert_exporter": "python",
   "pygments_lexer": "ipython3",
   "version": "3.7.4"
  }
 },
 "nbformat": 4,
 "nbformat_minor": 2
}
