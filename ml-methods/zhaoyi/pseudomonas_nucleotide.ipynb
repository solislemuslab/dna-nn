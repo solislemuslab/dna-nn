{
 "cells": [
  {
   "cell_type": "code",
   "execution_count": 1,
   "metadata": {},
   "outputs": [],
   "source": [
    "import numpy as np\n",
    "import pandas as pd\n",
    "import matplotlib.pyplot as plt\n",
    "\n",
    "from load import load_pseudo, load_nucleotides\n",
    "\n",
    "pd.options.display.precision = 3\n",
    "pd.options.display.max_colwidth = 10\n",
    "\n",
    "%matplotlib inline"
   ]
  },
  {
   "cell_type": "code",
   "execution_count": 3,
   "metadata": {
    "scrolled": false
   },
   "outputs": [
    {
     "name": "stdout",
     "output_type": "stream",
     "text": [
      "CPU times: user 5.31 s, sys: 120 ms, total: 5.43 s\n",
      "Wall time: 5.44 s\n"
     ]
    },
    {
     "data": {
      "text/html": [
       "<div>\n",
       "<style scoped>\n",
       "    .dataframe tbody tr th:only-of-type {\n",
       "        vertical-align: middle;\n",
       "    }\n",
       "\n",
       "    .dataframe tbody tr th {\n",
       "        vertical-align: top;\n",
       "    }\n",
       "\n",
       "    .dataframe thead th {\n",
       "        text-align: right;\n",
       "    }\n",
       "</style>\n",
       "<table border=\"1\" class=\"dataframe\">\n",
       "  <thead>\n",
       "    <tr style=\"text-align: right;\">\n",
       "      <th></th>\n",
       "      <th>id</th>\n",
       "      <th>sequence</th>\n",
       "      <th>missing</th>\n",
       "      <th>missing_%</th>\n",
       "      <th>sequence_i</th>\n",
       "      <th>missing_i</th>\n",
       "      <th>missing_%_i</th>\n",
       "      <th>lab-id</th>\n",
       "      <th>carb</th>\n",
       "      <th>toby</th>\n",
       "    </tr>\n",
       "  </thead>\n",
       "  <tbody>\n",
       "    <tr>\n",
       "      <td>0</td>\n",
       "      <td>TA151</td>\n",
       "      <td>ATGAGT...</td>\n",
       "      <td>31842</td>\n",
       "      <td>6.588</td>\n",
       "      <td>ATGAGT...</td>\n",
       "      <td>28410</td>\n",
       "      <td>5.878</td>\n",
       "      <td>210.0</td>\n",
       "      <td>True</td>\n",
       "      <td>False</td>\n",
       "    </tr>\n",
       "    <tr>\n",
       "      <td>1</td>\n",
       "      <td>IC1</td>\n",
       "      <td>ATGAGT...</td>\n",
       "      <td>46071</td>\n",
       "      <td>9.532</td>\n",
       "      <td>ATGAGT...</td>\n",
       "      <td>34714</td>\n",
       "      <td>7.182</td>\n",
       "      <td>55.0</td>\n",
       "      <td>False</td>\n",
       "      <td>False</td>\n",
       "    </tr>\n",
       "    <tr>\n",
       "      <td>2</td>\n",
       "      <td>A237</td>\n",
       "      <td>ATGAGT...</td>\n",
       "      <td>44514</td>\n",
       "      <td>9.210</td>\n",
       "      <td>ATGAGT...</td>\n",
       "      <td>35933</td>\n",
       "      <td>7.434</td>\n",
       "      <td>14.0</td>\n",
       "      <td>True</td>\n",
       "      <td>False</td>\n",
       "    </tr>\n",
       "    <tr>\n",
       "      <td>3</td>\n",
       "      <td>5920</td>\n",
       "      <td>ATGAGT...</td>\n",
       "      <td>49497</td>\n",
       "      <td>10.241</td>\n",
       "      <td>ATGAGT...</td>\n",
       "      <td>36873</td>\n",
       "      <td>7.629</td>\n",
       "      <td>NaN</td>\n",
       "      <td>NaN</td>\n",
       "      <td>NaN</td>\n",
       "    </tr>\n",
       "    <tr>\n",
       "      <td>4</td>\n",
       "      <td>LiA96</td>\n",
       "      <td>ATGAGT...</td>\n",
       "      <td>44067</td>\n",
       "      <td>9.117</td>\n",
       "      <td>ATGAGT...</td>\n",
       "      <td>34454</td>\n",
       "      <td>7.128</td>\n",
       "      <td>175.0</td>\n",
       "      <td>False</td>\n",
       "      <td>False</td>\n",
       "    </tr>\n",
       "  </tbody>\n",
       "</table>\n",
       "</div>"
      ],
      "text/plain": [
       "      id   sequence  missing  missing_% sequence_i  missing_i  missing_%_i  \\\n",
       "0  TA151  ATGAGT...    31842      6.588  ATGAGT...      28410      5.878     \n",
       "1    IC1  ATGAGT...    46071      9.532  ATGAGT...      34714      7.182     \n",
       "2   A237  ATGAGT...    44514      9.210  ATGAGT...      35933      7.434     \n",
       "3   5920  ATGAGT...    49497     10.241  ATGAGT...      36873      7.629     \n",
       "4  LiA96  ATGAGT...    44067      9.117  ATGAGT...      34454      7.128     \n",
       "\n",
       "   lab-id   carb   toby  \n",
       "0   210.0   True  False  \n",
       "1    55.0  False  False  \n",
       "2    14.0   True  False  \n",
       "3     NaN    NaN    NaN  \n",
       "4   175.0  False  False  "
      ]
     },
     "execution_count": 3,
     "metadata": {},
     "output_type": "execute_result"
    }
   ],
   "source": [
    "%time records = load_pseudo()\n",
    "mask = (records['toby'].notna() & records['carb'].notna())\n",
    "records.head()"
   ]
  },
  {
   "cell_type": "markdown",
   "metadata": {},
   "source": [
    "# Feature selection"
   ]
  },
  {
   "cell_type": "code",
   "execution_count": 4,
   "metadata": {},
   "outputs": [
    {
     "name": "stdout",
     "output_type": "stream",
     "text": [
      "CPU times: user 45 s, sys: 1.01 s, total: 46 s\n",
      "Wall time: 42.5 s\n",
      "CPU times: user 47.2 s, sys: 972 ms, total: 48.1 s\n",
      "Wall time: 42.5 s\n"
     ]
    }
   ],
   "source": [
    "# 40*2 seconds\n",
    "%time o_n = load_nucleotides('../data/pseudo/concatenated.fasta')\n",
    "%time i_n = load_nucleotides('../data/pseudo/concatenated_naive_impute.fasta')\n",
    "\n",
    "# 45*2 seconds\n",
    "forward = str.maketrans('-ACTG', '01234')\n",
    "def transformation(str):\n",
    "    return [int(i) for i in str.translate(forward)]\n",
    "%time o_n = pd.DataFrame(records['sequence'].apply(transformation).to_list())\n",
    "%time i_n = pd.DataFrame(records['sequence_i'].apply(transformation).to_list())\n",
    "np.save('../data/pseudo/preprocess/o_n_-_-.npy', o_n[mask])\n",
    "np.save('../data/pseudo/preprocess/i_n_-_-.npy', i_n[mask])"
   ]
  },
  {
   "cell_type": "code",
   "execution_count": 6,
   "metadata": {},
   "outputs": [],
   "source": [
    "o_n = np.load('../data/pseudo/preprocess/o_n_-_-.npy')\n",
    "i_n = np.load('../data/pseudo/preprocess/i_n_-_-.npy')"
   ]
  },
  {
   "cell_type": "markdown",
   "metadata": {},
   "source": [
    "### Variance threshold (not as good as the one based on SNP counts)"
   ]
  },
  {
   "cell_type": "code",
   "execution_count": 7,
   "metadata": {},
   "outputs": [],
   "source": [
    "from sklearn.feature_selection import VarianceThreshold\n",
    "selector = VarianceThreshold(0.01)\n",
    "\n",
    "# justification(not rigorous) for why < 0.016 is the threshold to drop a column\n",
    "a, b = 4, 3\n",
    "arr = np.ones((122, 1))*a\n",
    "arr[:2] = b\n",
    "np.var(arr)\n",
    "\n",
    "o_n_v = selector.fit_transform(o_n)\n",
    "o_n_v_selected = pd.Series(selector.get_support())\n",
    "o_n_v_selected.value_counts()\n",
    "\n",
    "i_n_v = selector.fit_transform(i_n)\n",
    "i_n_v_selected = pd.Series(selector.get_support())\n",
    "i_n_v_selected.value_counts()"
   ]
  },
  {
   "cell_type": "markdown",
   "metadata": {},
   "source": [
    "### Remove based on SNP counts\n",
    "similar to variance threshold but seems better"
   ]
  },
  {
   "cell_type": "code",
   "execution_count": null,
   "metadata": {},
   "outputs": [],
   "source": [
    "# less than 6*2 minutes\n",
    "%time snp_counts_o = o_n.apply(pd.Series.value_counts, axis=0)\n",
    "%time snp_counts_i = i_n.apply(pd.Series.value_counts, axis=0)\n",
    "np.save('../data/pseudo/preprocess/others/snp_counts_o.npy', snp_counts_o.to_numpy())\n",
    "np.save('../data/pseudo/preprocess/others/snp_counts_i.npy', snp_counts_i.to_numpy())"
   ]
  },
  {
   "cell_type": "code",
   "execution_count": 8,
   "metadata": {},
   "outputs": [],
   "source": [
    "snp_counts_o = pd.DataFrame(np.load('../data/pseudo/preprocess/others/snp_counts_o.npy'))\n",
    "snp_counts_i = pd.DataFrame(np.load('../data/pseudo/preprocess/others/snp_counts_i.npy'))\n",
    "\n",
    "# True     204101\n",
    "snp_max_counts_o = snp_counts_o.max()\n",
    "# True     91789\n",
    "snp_max_counts_i = snp_counts_i.max()\n",
    "\n",
    "o_n_v = o_n[mask].loc[:, (snp_max_counts_o<121)]\n",
    "i_n_v = i_n[mask].loc[:, (snp_max_counts_i<121)]\n",
    "np.save('../data/pseudo/preprocess/o_n_v_-.npy', o_n_v)\n",
    "np.save('../data/pseudo/preprocess/i_n_v_-.npy', i_n_v)"
   ]
  },
  {
   "cell_type": "markdown",
   "metadata": {},
   "source": [
    "### $\\chi^2$ on the previous result\n",
    "because some features are all 0's, so gives `divide by 0` warning\n",
    "\n",
    "no warning if we remove those features (on the previous step)"
   ]
  },
  {
   "cell_type": "code",
   "execution_count": 11,
   "metadata": {
    "scrolled": true
   },
   "outputs": [],
   "source": [
    "from sklearn.feature_selection import SelectKBest\n",
    "from sklearn.feature_selection import chi2\n",
    "\n",
    "o_n_x = SelectKBest(chi2, k=204101//2).fit_transform(o_n_v, records['toby'][mask].astype('i4'))\n",
    "i_n_x = SelectKBest(chi2, k=91789//2).fit_transform(i_n_v, records['toby'][mask].astype('i4'))\n",
    "np.save('../data/pseudo/preprocess/o_n_x_-.npy', o_n_x)\n",
    "np.save('../data/pseudo/preprocess/i_n_x_-.npy', i_n_x)"
   ]
  },
  {
   "cell_type": "markdown",
   "metadata": {},
   "source": [
    "# Feature extraction"
   ]
  },
  {
   "cell_type": "code",
   "execution_count": 12,
   "metadata": {},
   "outputs": [],
   "source": [
    "o_n_v = np.load('../data/pseudo/preprocess/o_n_v_-.npy')\n",
    "i_n_v = np.load('../data/pseudo/preprocess/i_n_v_-.npy')\n",
    "o_n_x = np.load('../data/pseudo/preprocess/o_n_x_-.npy')\n",
    "i_n_x = np.load('../data/pseudo/preprocess/i_n_x_-.npy')"
   ]
  },
  {
   "cell_type": "markdown",
   "metadata": {},
   "source": [
    "### String kernel"
   ]
  },
  {
   "cell_type": "code",
   "execution_count": 13,
   "metadata": {},
   "outputs": [
    {
     "name": "stdout",
     "output_type": "stream",
     "text": [
      "CPU times: user 1h 20min 23s, sys: 5min 38s, total: 1h 26min 2s\n",
      "Wall time: 8min 49s\n",
      "CPU times: user 1h 13min 33s, sys: 5min 33s, total: 1h 19min 7s\n",
      "Wall time: 9min 24s\n",
      "CPU times: user 7min 14s, sys: 1min 4s, total: 8min 19s\n",
      "Wall time: 3min 44s\n",
      "CPU times: user 1min 29s, sys: 5.91 s, total: 1min 35s\n",
      "Wall time: 1min 35s\n",
      "CPU times: user 1min 42s, sys: 8.22 s, total: 1min 50s\n",
      "Wall time: 1min 50s\n",
      "CPU times: user 45.9 s, sys: 3.78 s, total: 49.7 s\n",
      "Wall time: 49.8 s\n"
     ]
    }
   ],
   "source": [
    "from strkernel.mismatch_kernel import MismatchKernel\n",
    "\n",
    "# 9*2 minutes\n",
    "%time o_n__s = MismatchKernel(l=5, k=4, m=1).get_kernel(o_n)\n",
    "%time i_n__s = MismatchKernel(l=5, k=4, m=1).get_kernel(i_n)\n",
    "np.save('../data/pseudo/preprocess/o_n_-_s.npy', o_n__s.kernel)\n",
    "np.save('../data/pseudo/preprocess/i_n_-_s.npy', i_n__s.kernel)\n",
    "\n",
    "# 3+1 minutes\n",
    "%time o_n_v_s = MismatchKernel(l=5, k=4, m=1).get_kernel(o_n_v)\n",
    "%time i_n_v_s = MismatchKernel(l=5, k=4, m=1).get_kernel(i_n_v)\n",
    "np.save('../data/pseudo/preprocess/o_n_v_s.npy', o_n_v_s.kernel)\n",
    "np.save('../data/pseudo/preprocess/i_n_v_s.npy', i_n_v_s.kernel)\n",
    "\n",
    "# 2+1 minutes\n",
    "%time o_n_x_s = MismatchKernel(l=5, k=4, m=1).get_kernel(o_n_x)\n",
    "%time i_n_x_s = MismatchKernel(l=5, k=4, m=1).get_kernel(i_n_x)\n",
    "np.save('../data/pseudo/preprocess/o_n_x_s.npy', o_n_x_s.kernel)\n",
    "np.save('../data/pseudo/preprocess/i_n_x_s.npy', i_n_x_s.kernel)"
   ]
  },
  {
   "cell_type": "markdown",
   "metadata": {},
   "source": [
    "### PCA"
   ]
  },
  {
   "cell_type": "code",
   "execution_count": 14,
   "metadata": {},
   "outputs": [
    {
     "name": "stdout",
     "output_type": "stream",
     "text": [
      "CPU times: user 6min 34s, sys: 21.5 s, total: 6min 55s\n",
      "Wall time: 14.7 s\n",
      "CPU times: user 6min, sys: 19.8 s, total: 6min 19s\n",
      "Wall time: 13.7 s\n",
      "CPU times: user 2min 21s, sys: 8.61 s, total: 2min 30s\n",
      "Wall time: 5.76 s\n",
      "CPU times: user 1min 8s, sys: 7.81 s, total: 1min 16s\n",
      "Wall time: 2.73 s\n",
      "CPU times: user 1min 21s, sys: 7.9 s, total: 1min 28s\n",
      "Wall time: 3.34 s\n",
      "CPU times: user 44.4 s, sys: 5.28 s, total: 49.7 s\n",
      "Wall time: 1.79 s\n"
     ]
    }
   ],
   "source": [
    "from sklearn.decomposition import PCA\n",
    "\n",
    "%time o_n__p = PCA(n_components=119).fit_transform(o_n)\n",
    "%time i_n__p = PCA(n_components=119).fit_transform(i_n)\n",
    "np.save('../data/pseudo/preprocess/o_n_-_p.npy', o_n__p)\n",
    "np.save('../data/pseudo/preprocess/i_n_-_p.npy', i_n__p)\n",
    "\n",
    "%time o_n_v_p = PCA(n_components=119).fit_transform(o_n_v)\n",
    "%time i_n_v_p = PCA(n_components=119).fit_transform(i_n_v)\n",
    "np.save('../data/pseudo/preprocess/o_n_v_p.npy', o_n_v_p)\n",
    "np.save('../data/pseudo/preprocess/i_n_v_p.npy', i_n_v_p)\n",
    "\n",
    "%time o_n_x_p = PCA(n_components=119).fit_transform(o_n_x)\n",
    "%time i_n_x_p = PCA(n_components=119).fit_transform(i_n_x)\n",
    "np.save('../data/pseudo/preprocess/o_n_x_p.npy', o_n_x_p)\n",
    "np.save('../data/pseudo/preprocess/i_n_x_p.npy', i_n_x_p)"
   ]
  },
  {
   "cell_type": "markdown",
   "metadata": {},
   "source": [
    "### T-SNE"
   ]
  },
  {
   "cell_type": "code",
   "execution_count": 15,
   "metadata": {},
   "outputs": [
    {
     "name": "stdout",
     "output_type": "stream",
     "text": [
      "CPU times: user 3min 28s, sys: 12.8 s, total: 3min 41s\n",
      "Wall time: 10.6 s\n",
      "CPU times: user 3min 12s, sys: 11.9 s, total: 3min 24s\n",
      "Wall time: 10 s\n",
      "CPU times: user 1min 18s, sys: 4.59 s, total: 1min 23s\n",
      "Wall time: 5.35 s\n",
      "CPU times: user 44.4 s, sys: 2.52 s, total: 46.9 s\n",
      "Wall time: 4 s\n",
      "CPU times: user 43.8 s, sys: 2.44 s, total: 46.2 s\n",
      "Wall time: 4.04 s\n",
      "CPU times: user 21.4 s, sys: 1.33 s, total: 22.8 s\n",
      "Wall time: 3.53 s\n"
     ]
    }
   ],
   "source": [
    "from sklearn.manifold import TSNE\n",
    "\n",
    "%time o_n__t = TSNE(n_components=3).fit_transform(o_n)\n",
    "%time i_n__t = TSNE(n_components=3).fit_transform(i_n)\n",
    "np.save('../data/pseudo/preprocess/o_n_-_t.npy', o_n__t)\n",
    "np.save('../data/pseudo/preprocess/i_n_-_t.npy', i_n__t)\n",
    "\n",
    "%time o_n_v_t = TSNE(n_components=3).fit_transform(o_n_v)\n",
    "%time i_n_v_t = TSNE(n_components=3).fit_transform(i_n_v)\n",
    "np.save('../data/pseudo/preprocess/o_n_v_t.npy', o_n_v_t)\n",
    "np.save('../data/pseudo/preprocess/i_n_v_t.npy', i_n_v_t)\n",
    "\n",
    "%time o_n_x_t = TSNE(n_components=3).fit_transform(o_n_x)\n",
    "%time i_n_x_t = TSNE(n_components=3).fit_transform(i_n_x)\n",
    "np.save('../data/pseudo/preprocess/o_n_x_t.npy', o_n_x_t)\n",
    "np.save('../data/pseudo/preprocess/i_n_x_t.npy', i_n_x_t)"
   ]
  },
  {
   "cell_type": "markdown",
   "metadata": {},
   "source": [
    "# Encoding"
   ]
  },
  {
   "cell_type": "code",
   "execution_count": 7,
   "metadata": {},
   "outputs": [],
   "source": [
    "import os\n",
    "\n",
    "s = {'{}_n_{}_{}.npy'.format(impute, selection, extraction)\n",
    "     for impute in 'io'\n",
    "     for selection in '-vx'\n",
    "     for extraction in '-pts'}\n",
    "\n",
    "data = {d: np.load(os.path.join('../data/pseudo/preprocess', d)) for d in s}"
   ]
  },
  {
   "cell_type": "code",
   "execution_count": null,
   "metadata": {
    "scrolled": true
   },
   "outputs": [],
   "source": [
    "from sklearn.preprocessing import OneHotEncoder\n",
    "\n",
    "for file, X in data.items():\n",
    "    encoder = OneHotEncoder(categories='auto', sparse=False, dtype=np.int32)\n",
    "    X_encode = encoder.fit_transform(X)\n",
    "    np.save(os.path.join('../data/pseudo/preprocess/onehot', file), X_encode)"
   ]
  },
  {
   "cell_type": "code",
   "execution_count": null,
   "metadata": {},
   "outputs": [],
   "source": []
  }
 ],
 "metadata": {
  "kernelspec": {
   "display_name": "Python 3",
   "language": "python",
   "name": "python3"
  },
  "language_info": {
   "codemirror_mode": {
    "name": "ipython",
    "version": 3
   },
   "file_extension": ".py",
   "mimetype": "text/x-python",
   "name": "python",
   "nbconvert_exporter": "python",
   "pygments_lexer": "ipython3",
   "version": "3.7.4"
  }
 },
 "nbformat": 4,
 "nbformat_minor": 2
}
