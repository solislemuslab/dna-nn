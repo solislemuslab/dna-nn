{
 "cells": [
  {
   "cell_type": "code",
   "execution_count": 1,
   "metadata": {},
   "outputs": [],
   "source": [
    "#import sys\n",
    "#sys.path\n",
    "#sys.path.append(\"/usr/local/lib/python3.7/site-packages\")\n",
    "\n",
    "import pandas as pd\n",
    "import numpy as np\n",
    "import matplotlib.pyplot as plt\n",
    "from Bio import SeqIO\n",
    "%matplotlib inline"
   ]
  },
  {
   "cell_type": "markdown",
   "metadata": {},
   "source": [
    "# Pseudomonas"
   ]
  },
  {
   "cell_type": "code",
   "execution_count": 2,
   "metadata": {},
   "outputs": [
    {
     "data": {
      "text/html": [
       "<div>\n",
       "<style scoped>\n",
       "    .dataframe tbody tr th:only-of-type {\n",
       "        vertical-align: middle;\n",
       "    }\n",
       "\n",
       "    .dataframe tbody tr th {\n",
       "        vertical-align: top;\n",
       "    }\n",
       "\n",
       "    .dataframe thead th {\n",
       "        text-align: right;\n",
       "    }\n",
       "</style>\n",
       "<table border=\"1\" class=\"dataframe\">\n",
       "  <thead>\n",
       "    <tr style=\"text-align: right;\">\n",
       "      <th></th>\n",
       "      <th>id</th>\n",
       "      <th>sequence</th>\n",
       "      <th>strain</th>\n",
       "      <th>carb</th>\n",
       "      <th>toby</th>\n",
       "    </tr>\n",
       "  </thead>\n",
       "  <tbody>\n",
       "    <tr>\n",
       "      <th>0</th>\n",
       "      <td>TA151</td>\n",
       "      <td>ATGAGTGATCTGCCAAGTCCGAAGAAACACAAGACCTCGAACTGGT...</td>\n",
       "      <td>210.0</td>\n",
       "      <td>True</td>\n",
       "      <td>False</td>\n",
       "    </tr>\n",
       "    <tr>\n",
       "      <th>1</th>\n",
       "      <td>IC1</td>\n",
       "      <td>ATGAGTGATCTGCCAAGTCCGAAGAAACACAAGACCTCGAACTGGT...</td>\n",
       "      <td>55.0</td>\n",
       "      <td>False</td>\n",
       "      <td>False</td>\n",
       "    </tr>\n",
       "    <tr>\n",
       "      <th>2</th>\n",
       "      <td>A237</td>\n",
       "      <td>ATGAGTGATCTGCCAAGTCCGAAGAAACACAAGACCTCGAACTGGT...</td>\n",
       "      <td>14.0</td>\n",
       "      <td>True</td>\n",
       "      <td>False</td>\n",
       "    </tr>\n",
       "    <tr>\n",
       "      <th>3</th>\n",
       "      <td>5920</td>\n",
       "      <td>ATGAGTGATCTGCCAAGTCCGAAGAAACACAAGACCTCGAACTGGT...</td>\n",
       "      <td>NaN</td>\n",
       "      <td>NaN</td>\n",
       "      <td>NaN</td>\n",
       "    </tr>\n",
       "    <tr>\n",
       "      <th>4</th>\n",
       "      <td>LiA96</td>\n",
       "      <td>ATGAGTGATCTGCCAAGTCCGAAGAAACACAAGACCTCGAACTGGT...</td>\n",
       "      <td>175.0</td>\n",
       "      <td>False</td>\n",
       "      <td>False</td>\n",
       "    </tr>\n",
       "    <tr>\n",
       "      <th>...</th>\n",
       "      <td>...</td>\n",
       "      <td>...</td>\n",
       "      <td>...</td>\n",
       "      <td>...</td>\n",
       "      <td>...</td>\n",
       "    </tr>\n",
       "    <tr>\n",
       "      <th>117</th>\n",
       "      <td>JD318</td>\n",
       "      <td>----------------------------------------------...</td>\n",
       "      <td>360.0</td>\n",
       "      <td>False</td>\n",
       "      <td>False</td>\n",
       "    </tr>\n",
       "    <tr>\n",
       "      <th>118</th>\n",
       "      <td>Jp238</td>\n",
       "      <td>----------------------------------------------...</td>\n",
       "      <td>126.0</td>\n",
       "      <td>False</td>\n",
       "      <td>False</td>\n",
       "    </tr>\n",
       "    <tr>\n",
       "      <th>119</th>\n",
       "      <td>Jp1303</td>\n",
       "      <td>----------------------------------------------...</td>\n",
       "      <td>134.0</td>\n",
       "      <td>False</td>\n",
       "      <td>False</td>\n",
       "    </tr>\n",
       "    <tr>\n",
       "      <th>120</th>\n",
       "      <td>JD304</td>\n",
       "      <td>----------------------------------------------...</td>\n",
       "      <td>351.0</td>\n",
       "      <td>False</td>\n",
       "      <td>False</td>\n",
       "    </tr>\n",
       "    <tr>\n",
       "      <th>121</th>\n",
       "      <td>LiA131</td>\n",
       "      <td>----------------------------------------------...</td>\n",
       "      <td>148.0</td>\n",
       "      <td>False</td>\n",
       "      <td>False</td>\n",
       "    </tr>\n",
       "  </tbody>\n",
       "</table>\n",
       "<p>122 rows × 5 columns</p>\n",
       "</div>"
      ],
      "text/plain": [
       "         id                                           sequence  strain   carb  \\\n",
       "0     TA151  ATGAGTGATCTGCCAAGTCCGAAGAAACACAAGACCTCGAACTGGT...   210.0   True   \n",
       "1       IC1  ATGAGTGATCTGCCAAGTCCGAAGAAACACAAGACCTCGAACTGGT...    55.0  False   \n",
       "2      A237  ATGAGTGATCTGCCAAGTCCGAAGAAACACAAGACCTCGAACTGGT...    14.0   True   \n",
       "3      5920  ATGAGTGATCTGCCAAGTCCGAAGAAACACAAGACCTCGAACTGGT...     NaN    NaN   \n",
       "4     LiA96  ATGAGTGATCTGCCAAGTCCGAAGAAACACAAGACCTCGAACTGGT...   175.0  False   \n",
       "..      ...                                                ...     ...    ...   \n",
       "117   JD318  ----------------------------------------------...   360.0  False   \n",
       "118   Jp238  ----------------------------------------------...   126.0  False   \n",
       "119  Jp1303  ----------------------------------------------...   134.0  False   \n",
       "120   JD304  ----------------------------------------------...   351.0  False   \n",
       "121  LiA131  ----------------------------------------------...   148.0  False   \n",
       "\n",
       "      toby  \n",
       "0    False  \n",
       "1    False  \n",
       "2    False  \n",
       "3      NaN  \n",
       "4    False  \n",
       "..     ...  \n",
       "117  False  \n",
       "118  False  \n",
       "119  False  \n",
       "120  False  \n",
       "121  False  \n",
       "\n",
       "[122 rows x 5 columns]"
      ]
     },
     "execution_count": 2,
     "metadata": {},
     "output_type": "execute_result"
    }
   ],
   "source": [
    "presp = pd.read_csv('../data/pseudo/responses-pseudo.csv')\n",
    "presp.rename(columns = {'OriginalID':'id', 'LabID': 'strain'}, inplace = True)\n",
    "raw = SeqIO.parse('../data/pseudo/concatenated.fasta', 'fasta')\n",
    "pseq = [(record.id, record.seq._data) for record in raw]\n",
    "pseq_df = pd.DataFrame(data = pseq, columns = ['id', 'sequence'])\n",
    "pseudo = pd.merge(pseq_df, presp, on = 'id')\n",
    "pseudo"
   ]
  },
  {
   "cell_type": "code",
   "execution_count": 3,
   "metadata": {},
   "outputs": [
    {
     "data": {
      "image/png": "[encoded data removed]",
      "text/plain": [
       "<Figure size 432x288 with 1 Axes>"
      ]
     },
     "metadata": {
      "needs_background": "light"
     },
     "output_type": "display_data"
    }
   ],
   "source": [
    "# carb - imbalanced responses\n",
    "pseudo.groupby('carb').size().plot.bar()\n",
    "plt.show()"
   ]
  },
  {
   "cell_type": "code",
   "execution_count": 4,
   "metadata": {},
   "outputs": [
    {
     "data": {
      "image/png": "[encoded data removed]",
      "text/plain": [
       "<Figure size 432x288 with 1 Axes>"
      ]
     },
     "metadata": {
      "needs_background": "light"
     },
     "output_type": "display_data"
    }
   ],
   "source": [
    "# toby\n",
    "pseudo.groupby('toby').size().plot.bar()\n",
    "plt.show()"
   ]
  },
  {
   "cell_type": "code",
   "execution_count": 5,
   "metadata": {},
   "outputs": [
    {
     "data": {
      "text/plain": [
       "<matplotlib.axes._subplots.AxesSubplot at 0x114188110>"
      ]
     },
     "execution_count": 5,
     "metadata": {},
     "output_type": "execute_result"
    },
    {
     "data": {
      "image/png": "[encoded data removed]",
      "text/plain": [
       "<Figure size 1800x720 with 2 Axes>"
      ]
     },
     "metadata": {
      "needs_background": "light"
     },
     "output_type": "display_data"
    }
   ],
   "source": [
    "# missingness\n",
    "import missingno as msno\n",
    "\n",
    "def explode(data):\n",
    "    seq_dict = dict()\n",
    "    for i in range(len(vis[0])):\n",
    "        for j in range(len(vis[1])):\n",
    "            if i == j:\n",
    "                seq_dict[vis[0][i]] = list(vis[1][j])\n",
    "    return seq_dict\n",
    "\n",
    "vis = pd.DataFrame(data = pseq)\n",
    "vis_df = pd.DataFrame(explode(vis)).replace('-', np.NaN)\n",
    "msno.matrix(vis_df)"
   ]
  },
  {
   "cell_type": "code",
   "execution_count": 6,
   "metadata": {},
   "outputs": [
    {
     "data": {
      "text/plain": [
       "<matplotlib.axes._subplots.AxesSubplot at 0x12eee3cd0>"
      ]
     },
     "execution_count": 6,
     "metadata": {},
     "output_type": "execute_result"
    },
    {
     "data": {
      "image/png": "[encoded data removed]",
      "text/plain": [
       "<Figure size 864x432 with 2 Axes>"
      ]
     },
     "metadata": {
      "needs_background": "light"
     },
     "output_type": "display_data"
    }
   ],
   "source": [
    "msno.bar(vis_df, figsize=(12, 6), fontsize=12, color='steelblue')"
   ]
  },
  {
   "cell_type": "markdown",
   "metadata": {},
   "source": [
    "# Staph"
   ]
  },
  {
   "cell_type": "code",
   "execution_count": 7,
   "metadata": {},
   "outputs": [
    {
     "data": {
      "text/html": [
       "<div>\n",
       "<style scoped>\n",
       "    .dataframe tbody tr th:only-of-type {\n",
       "        vertical-align: middle;\n",
       "    }\n",
       "\n",
       "    .dataframe tbody tr th {\n",
       "        vertical-align: top;\n",
       "    }\n",
       "\n",
       "    .dataframe thead th {\n",
       "        text-align: right;\n",
       "    }\n",
       "</style>\n",
       "<table border=\"1\" class=\"dataframe\">\n",
       "  <thead>\n",
       "    <tr style=\"text-align: right;\">\n",
       "      <th></th>\n",
       "      <th>id</th>\n",
       "      <th>sequence</th>\n",
       "      <th>response</th>\n",
       "    </tr>\n",
       "  </thead>\n",
       "  <tbody>\n",
       "    <tr>\n",
       "      <th>0</th>\n",
       "      <td>NRS001</td>\n",
       "      <td>ATGAACATTTATGATGAATATAGAAGTTATTTAATAGAAGAACTGG...</td>\n",
       "      <td>False</td>\n",
       "    </tr>\n",
       "    <tr>\n",
       "      <th>1</th>\n",
       "      <td>NRS002</td>\n",
       "      <td>----------------------------------------------...</td>\n",
       "      <td>False</td>\n",
       "    </tr>\n",
       "    <tr>\n",
       "      <th>2</th>\n",
       "      <td>NRS003</td>\n",
       "      <td>ATGAACATTTATGATGAATATAGAAGTTATTTAATAGAAGAACTGG...</td>\n",
       "      <td>False</td>\n",
       "    </tr>\n",
       "    <tr>\n",
       "      <th>3</th>\n",
       "      <td>NRS021</td>\n",
       "      <td>ATGAAAATTTATGATGAATATAGAAGTTATGTAATAGAAGAACTGG...</td>\n",
       "      <td>False</td>\n",
       "    </tr>\n",
       "    <tr>\n",
       "      <th>4</th>\n",
       "      <td>NRS022</td>\n",
       "      <td>ATGAACATTTATGATGAATATAGAAGTTATGTAATAGAAGAACTGG...</td>\n",
       "      <td>False</td>\n",
       "    </tr>\n",
       "    <tr>\n",
       "      <th>...</th>\n",
       "      <td>...</td>\n",
       "      <td>...</td>\n",
       "      <td>...</td>\n",
       "    </tr>\n",
       "    <tr>\n",
       "      <th>120</th>\n",
       "      <td>NRS272</td>\n",
       "      <td>ATGAAAATTTATGATGAATATAGAAGTTATGTAATAGAAGAACTGG...</td>\n",
       "      <td>False</td>\n",
       "    </tr>\n",
       "    <tr>\n",
       "      <th>121</th>\n",
       "      <td>NRS275</td>\n",
       "      <td>ATGAAAATTTATGATGAATATAGAAGTTATGTAATAGAAGAACTGG...</td>\n",
       "      <td>False</td>\n",
       "    </tr>\n",
       "    <tr>\n",
       "      <th>122</th>\n",
       "      <td>NRS383</td>\n",
       "      <td>ATGAACATTTATGATGAATATAGAAGTTATGTAATAGAAGAACTGG...</td>\n",
       "      <td>False</td>\n",
       "    </tr>\n",
       "    <tr>\n",
       "      <th>123</th>\n",
       "      <td>NRS386</td>\n",
       "      <td>ATGAAAATTTATGATGAATATAGAAGTTATGTAATAGAAGAACTGG...</td>\n",
       "      <td>True</td>\n",
       "    </tr>\n",
       "    <tr>\n",
       "      <th>124</th>\n",
       "      <td>NRS387</td>\n",
       "      <td>ATGAACATTTATGATGAATATAGAAGTTATTTAATAGAAGAACTGG...</td>\n",
       "      <td>False</td>\n",
       "    </tr>\n",
       "  </tbody>\n",
       "</table>\n",
       "<p>125 rows × 3 columns</p>\n",
       "</div>"
      ],
      "text/plain": [
       "         id                                           sequence response\n",
       "0    NRS001  ATGAACATTTATGATGAATATAGAAGTTATTTAATAGAAGAACTGG...    False\n",
       "1    NRS002  ----------------------------------------------...    False\n",
       "2    NRS003  ATGAACATTTATGATGAATATAGAAGTTATTTAATAGAAGAACTGG...    False\n",
       "3    NRS021  ATGAAAATTTATGATGAATATAGAAGTTATGTAATAGAAGAACTGG...    False\n",
       "4    NRS022  ATGAACATTTATGATGAATATAGAAGTTATGTAATAGAAGAACTGG...    False\n",
       "..      ...                                                ...      ...\n",
       "120  NRS272  ATGAAAATTTATGATGAATATAGAAGTTATGTAATAGAAGAACTGG...    False\n",
       "121  NRS275  ATGAAAATTTATGATGAATATAGAAGTTATGTAATAGAAGAACTGG...    False\n",
       "122  NRS383  ATGAACATTTATGATGAATATAGAAGTTATGTAATAGAAGAACTGG...    False\n",
       "123  NRS386  ATGAAAATTTATGATGAATATAGAAGTTATGTAATAGAAGAACTGG...     True\n",
       "124  NRS387  ATGAACATTTATGATGAATATAGAAGTTATTTAATAGAAGAACTGG...    False\n",
       "\n",
       "[125 rows x 3 columns]"
      ]
     },
     "execution_count": 7,
     "metadata": {},
     "output_type": "execute_result"
    }
   ],
   "source": [
    "sresp = pd.read_csv('../data/staph/responses-staph.csv')\n",
    "sresp.rename(columns = {'ids': 'id', 'resp': 'response'}, inplace = True)\n",
    "raw = SeqIO.parse('../data/staph/core_gene_alignment-narsa.aln', 'fasta')\n",
    "sseq = [(record.id, record.seq._data.upper()) for record in raw]\n",
    "sseq_df = pd.DataFrame(data = sseq, columns = ['id', 'sequence'])\n",
    "staph = pd.merge(sseq_df, sresp, on = 'id')\n",
    "staph"
   ]
  },
  {
   "cell_type": "code",
   "execution_count": null,
   "metadata": {},
   "outputs": [],
   "source": [
    "staph.groupby('response').size().plot.bar()\n",
    "plt.show()"
   ]
  },
  {
   "cell_type": "code",
   "execution_count": null,
   "metadata": {},
   "outputs": [
    {
     "data": {
      "text/plain": [
       "<matplotlib.axes._subplots.AxesSubplot at 0x11eaf1750>"
      ]
     },
     "execution_count": 8,
     "metadata": {},
     "output_type": "execute_result"
    }
   ],
   "source": [
    "vis = pd.DataFrame(data = sseq)\n",
    "vis_df = pd.DataFrame(explode(vis)).replace('-', np.NaN)\n",
    "msno.matrix(vis_df)"
   ]
  },
  {
   "cell_type": "code",
   "execution_count": null,
   "metadata": {},
   "outputs": [],
   "source": [
    "msno.bar(vis_df, figsize=(12, 6), fontsize=12, color='steelblue')"
   ]
  }
 ],
 "metadata": {
  "kernelspec": {
   "display_name": "Python 3",
   "language": "python",
   "name": "python3"
  },
  "language_info": {
   "codemirror_mode": {
    "name": "ipython",
    "version": 3
   },
   "file_extension": ".py",
   "mimetype": "text/x-python",
   "name": "python",
   "nbconvert_exporter": "python",
   "pygments_lexer": "ipython3",
   "version": "3.7.4"
  }
 },
 "nbformat": 4,
 "nbformat_minor": 4
}
