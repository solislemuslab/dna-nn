{
 "cells": [
  {
   "cell_type": "code",
   "execution_count": 3,
   "metadata": {},
   "outputs": [],
   "source": [
    "import numpy as np\n",
    "import pandas as pd\n",
    "import matplotlib.pyplot as plt\n",
    "from Bio import SeqIO, Phylo\n",
    "%matplotlib inline"
   ]
  },
  {
   "cell_type": "code",
   "execution_count": 4,
   "metadata": {},
   "outputs": [
    {
     "data": {
      "text/html": [
       "<div>\n",
       "<style scoped>\n",
       "    .dataframe tbody tr th:only-of-type {\n",
       "        vertical-align: middle;\n",
       "    }\n",
       "\n",
       "    .dataframe tbody tr th {\n",
       "        vertical-align: top;\n",
       "    }\n",
       "\n",
       "    .dataframe thead th {\n",
       "        text-align: right;\n",
       "    }\n",
       "</style>\n",
       "<table border=\"1\" class=\"dataframe\">\n",
       "  <thead>\n",
       "    <tr style=\"text-align: right;\">\n",
       "      <th></th>\n",
       "      <th>id</th>\n",
       "      <th>strain</th>\n",
       "      <th>carb</th>\n",
       "      <th>toby</th>\n",
       "      <th>carb.lag.delta</th>\n",
       "      <th>toby.lag.delta</th>\n",
       "    </tr>\n",
       "  </thead>\n",
       "  <tbody>\n",
       "    <tr>\n",
       "      <th>0</th>\n",
       "      <td>TA151</td>\n",
       "      <td>210.0</td>\n",
       "      <td>True</td>\n",
       "      <td>False</td>\n",
       "      <td>-2</td>\n",
       "      <td>16</td>\n",
       "    </tr>\n",
       "    <tr>\n",
       "      <th>1</th>\n",
       "      <td>IC1</td>\n",
       "      <td>55.0</td>\n",
       "      <td>False</td>\n",
       "      <td>False</td>\n",
       "      <td>2</td>\n",
       "      <td>14</td>\n",
       "    </tr>\n",
       "    <tr>\n",
       "      <th>2</th>\n",
       "      <td>A237</td>\n",
       "      <td>14.0</td>\n",
       "      <td>True</td>\n",
       "      <td>False</td>\n",
       "      <td>-1</td>\n",
       "      <td>4</td>\n",
       "    </tr>\n",
       "    <tr>\n",
       "      <th>3</th>\n",
       "      <td>LiA96</td>\n",
       "      <td>175.0</td>\n",
       "      <td>False</td>\n",
       "      <td>False</td>\n",
       "      <td>0</td>\n",
       "      <td>18</td>\n",
       "    </tr>\n",
       "    <tr>\n",
       "      <th>4</th>\n",
       "      <td>LiA91</td>\n",
       "      <td>174.0</td>\n",
       "      <td>False</td>\n",
       "      <td>False</td>\n",
       "      <td>1</td>\n",
       "      <td>19</td>\n",
       "    </tr>\n",
       "    <tr>\n",
       "      <th>...</th>\n",
       "      <td>...</td>\n",
       "      <td>...</td>\n",
       "      <td>...</td>\n",
       "      <td>...</td>\n",
       "      <td>...</td>\n",
       "      <td>...</td>\n",
       "    </tr>\n",
       "    <tr>\n",
       "      <th>114</th>\n",
       "      <td>JD318</td>\n",
       "      <td>360.0</td>\n",
       "      <td>False</td>\n",
       "      <td>False</td>\n",
       "      <td>27</td>\n",
       "      <td>0</td>\n",
       "    </tr>\n",
       "    <tr>\n",
       "      <th>115</th>\n",
       "      <td>Jp238</td>\n",
       "      <td>126.0</td>\n",
       "      <td>False</td>\n",
       "      <td>False</td>\n",
       "      <td>1</td>\n",
       "      <td>21</td>\n",
       "    </tr>\n",
       "    <tr>\n",
       "      <th>116</th>\n",
       "      <td>Jp1303</td>\n",
       "      <td>134.0</td>\n",
       "      <td>False</td>\n",
       "      <td>False</td>\n",
       "      <td>16</td>\n",
       "      <td>9</td>\n",
       "    </tr>\n",
       "    <tr>\n",
       "      <th>117</th>\n",
       "      <td>JD304</td>\n",
       "      <td>351.0</td>\n",
       "      <td>False</td>\n",
       "      <td>False</td>\n",
       "      <td>6</td>\n",
       "      <td>1</td>\n",
       "    </tr>\n",
       "    <tr>\n",
       "      <th>118</th>\n",
       "      <td>LiA131</td>\n",
       "      <td>148.0</td>\n",
       "      <td>False</td>\n",
       "      <td>False</td>\n",
       "      <td>0</td>\n",
       "      <td>23</td>\n",
       "    </tr>\n",
       "  </tbody>\n",
       "</table>\n",
       "<p>119 rows × 6 columns</p>\n",
       "</div>"
      ],
      "text/plain": [
       "         id  strain   carb   toby  carb.lag.delta  toby.lag.delta\n",
       "0     TA151   210.0   True  False              -2              16\n",
       "1       IC1    55.0  False  False               2              14\n",
       "2      A237    14.0   True  False              -1               4\n",
       "3     LiA96   175.0  False  False               0              18\n",
       "4     LiA91   174.0  False  False               1              19\n",
       "..      ...     ...    ...    ...             ...             ...\n",
       "114   JD318   360.0  False  False              27               0\n",
       "115   Jp238   126.0  False  False               1              21\n",
       "116  Jp1303   134.0  False  False              16               9\n",
       "117   JD304   351.0  False  False               6               1\n",
       "118  LiA131   148.0  False  False               0              23\n",
       "\n",
       "[119 rows x 6 columns]"
      ]
     },
     "execution_count": 4,
     "metadata": {},
     "output_type": "execute_result"
    }
   ],
   "source": [
    "# read numerical responses\n",
    "binary = pd.read_csv('../data/pseudo/responses-pseudo.csv')\n",
    "binary.rename(columns = {'OriginalID':'id', 'LabID': 'strain'}, inplace = True)\n",
    "num = pd.read_csv('../data/pseudo/Perron_phenotype-GSU-training.csv')[['strain','carb.lag.delta','toby.lag.delta']]\n",
    "resp = pd.merge(binary, num, on = 'strain')\n",
    "resp"
   ]
  },
  {
   "cell_type": "code",
   "execution_count": 5,
   "metadata": {},
   "outputs": [
    {
     "data": {
      "text/html": [
       "<div>\n",
       "<style scoped>\n",
       "    .dataframe tbody tr th:only-of-type {\n",
       "        vertical-align: middle;\n",
       "    }\n",
       "\n",
       "    .dataframe tbody tr th {\n",
       "        vertical-align: top;\n",
       "    }\n",
       "\n",
       "    .dataframe thead th {\n",
       "        text-align: right;\n",
       "    }\n",
       "</style>\n",
       "<table border=\"1\" class=\"dataframe\">\n",
       "  <thead>\n",
       "    <tr style=\"text-align: right;\">\n",
       "      <th></th>\n",
       "      <th>id</th>\n",
       "      <th>sequence</th>\n",
       "      <th>strain</th>\n",
       "      <th>carb.lag.delta</th>\n",
       "      <th>toby.lag.delta</th>\n",
       "    </tr>\n",
       "  </thead>\n",
       "  <tbody>\n",
       "    <tr>\n",
       "      <th>0</th>\n",
       "      <td>TA151</td>\n",
       "      <td>ATGAGTGATCTGCCAAGTCCGAAGAAACACAAGACCTCGAACTGGT...</td>\n",
       "      <td>210.0</td>\n",
       "      <td>-2</td>\n",
       "      <td>16</td>\n",
       "    </tr>\n",
       "    <tr>\n",
       "      <th>1</th>\n",
       "      <td>IC1</td>\n",
       "      <td>ATGAGTGATCTGCCAAGTCCGAAGAAACACAAGACCTCGAACTGGT...</td>\n",
       "      <td>55.0</td>\n",
       "      <td>2</td>\n",
       "      <td>14</td>\n",
       "    </tr>\n",
       "    <tr>\n",
       "      <th>2</th>\n",
       "      <td>A237</td>\n",
       "      <td>ATGAGTGATCTGCCAAGTCCGAAGAAACACAAGACCTCGAACTGGT...</td>\n",
       "      <td>14.0</td>\n",
       "      <td>-1</td>\n",
       "      <td>4</td>\n",
       "    </tr>\n",
       "    <tr>\n",
       "      <th>3</th>\n",
       "      <td>LiA96</td>\n",
       "      <td>ATGAGTGATCTGCCAAGTCCGAAGAAACACAAGACCTCGAACTGGT...</td>\n",
       "      <td>175.0</td>\n",
       "      <td>0</td>\n",
       "      <td>18</td>\n",
       "    </tr>\n",
       "    <tr>\n",
       "      <th>4</th>\n",
       "      <td>LiA91</td>\n",
       "      <td>ATGAGTGATCTGCCAAGTCCGAAGAAACACAAGACCTCGAACTGGT...</td>\n",
       "      <td>174.0</td>\n",
       "      <td>1</td>\n",
       "      <td>19</td>\n",
       "    </tr>\n",
       "    <tr>\n",
       "      <th>...</th>\n",
       "      <td>...</td>\n",
       "      <td>...</td>\n",
       "      <td>...</td>\n",
       "      <td>...</td>\n",
       "      <td>...</td>\n",
       "    </tr>\n",
       "    <tr>\n",
       "      <th>114</th>\n",
       "      <td>JD318</td>\n",
       "      <td>----------------------------------------------...</td>\n",
       "      <td>360.0</td>\n",
       "      <td>27</td>\n",
       "      <td>0</td>\n",
       "    </tr>\n",
       "    <tr>\n",
       "      <th>115</th>\n",
       "      <td>Jp238</td>\n",
       "      <td>----------------------------------------------...</td>\n",
       "      <td>126.0</td>\n",
       "      <td>1</td>\n",
       "      <td>21</td>\n",
       "    </tr>\n",
       "    <tr>\n",
       "      <th>116</th>\n",
       "      <td>Jp1303</td>\n",
       "      <td>----------------------------------------------...</td>\n",
       "      <td>134.0</td>\n",
       "      <td>16</td>\n",
       "      <td>9</td>\n",
       "    </tr>\n",
       "    <tr>\n",
       "      <th>117</th>\n",
       "      <td>JD304</td>\n",
       "      <td>----------------------------------------------...</td>\n",
       "      <td>351.0</td>\n",
       "      <td>6</td>\n",
       "      <td>1</td>\n",
       "    </tr>\n",
       "    <tr>\n",
       "      <th>118</th>\n",
       "      <td>LiA131</td>\n",
       "      <td>----------------------------------------------...</td>\n",
       "      <td>148.0</td>\n",
       "      <td>0</td>\n",
       "      <td>23</td>\n",
       "    </tr>\n",
       "  </tbody>\n",
       "</table>\n",
       "<p>119 rows × 5 columns</p>\n",
       "</div>"
      ],
      "text/plain": [
       "         id                                           sequence  strain  \\\n",
       "0     TA151  ATGAGTGATCTGCCAAGTCCGAAGAAACACAAGACCTCGAACTGGT...   210.0   \n",
       "1       IC1  ATGAGTGATCTGCCAAGTCCGAAGAAACACAAGACCTCGAACTGGT...    55.0   \n",
       "2      A237  ATGAGTGATCTGCCAAGTCCGAAGAAACACAAGACCTCGAACTGGT...    14.0   \n",
       "3     LiA96  ATGAGTGATCTGCCAAGTCCGAAGAAACACAAGACCTCGAACTGGT...   175.0   \n",
       "4     LiA91  ATGAGTGATCTGCCAAGTCCGAAGAAACACAAGACCTCGAACTGGT...   174.0   \n",
       "..      ...                                                ...     ...   \n",
       "114   JD318  ----------------------------------------------...   360.0   \n",
       "115   Jp238  ----------------------------------------------...   126.0   \n",
       "116  Jp1303  ----------------------------------------------...   134.0   \n",
       "117   JD304  ----------------------------------------------...   351.0   \n",
       "118  LiA131  ----------------------------------------------...   148.0   \n",
       "\n",
       "     carb.lag.delta  toby.lag.delta  \n",
       "0                -2              16  \n",
       "1                 2              14  \n",
       "2                -1               4  \n",
       "3                 0              18  \n",
       "4                 1              19  \n",
       "..              ...             ...  \n",
       "114              27               0  \n",
       "115               1              21  \n",
       "116              16               9  \n",
       "117               6               1  \n",
       "118               0              23  \n",
       "\n",
       "[119 rows x 5 columns]"
      ]
     },
     "execution_count": 5,
     "metadata": {},
     "output_type": "execute_result"
    }
   ],
   "source": [
    "# read gene sequences\n",
    "src = SeqIO.parse('../data/pseudo/concatenated.fasta', 'fasta')\n",
    "seq = [(record.id, record.seq._data) for record in src]\n",
    "seq_df = pd.DataFrame(data = seq, columns = ['id', 'sequence'])\n",
    "data = pd.merge(seq_df, resp, on = 'id').drop(columns=['carb', 'toby'])\n",
    "data"
   ]
  },
  {
   "cell_type": "markdown",
   "metadata": {},
   "source": [
    "# Encoding"
   ]
  },
  {
   "cell_type": "code",
   "execution_count": 6,
   "metadata": {},
   "outputs": [],
   "source": [
    "from numpy import array\n",
    "from sklearn.preprocessing import LabelEncoder\n",
    "from sklearn.preprocessing import OneHotEncoder"
   ]
  },
  {
   "cell_type": "code",
   "execution_count": 7,
   "metadata": {
    "scrolled": true
   },
   "outputs": [],
   "source": [
    "# integer encoding\n",
    "def base2integer(str):\n",
    "    label_encoder = LabelEncoder()\n",
    "    label_encoder.fit(['A','T','C','G','-'])\n",
    "    for i in str.split():\n",
    "        return label_encoder.transform(list(i))\n",
    "\n",
    "def integer(series):\n",
    "    label_encoded = series.apply(base2integer)\n",
    "    return pd.DataFrame(label_encoded.to_dict()).transpose()\n",
    "\n",
    "data.dropna(inplace=True)\n",
    "label_encoded = integer(data['sequence'])"
   ]
  },
  {
   "cell_type": "code",
   "execution_count": 8,
   "metadata": {},
   "outputs": [
    {
     "data": {
      "text/plain": [
       "<119x814557 sparse matrix of type '<class 'numpy.float64'>'\n",
       "\twith 57516627 stored elements in Compressed Sparse Row format>"
      ]
     },
     "execution_count": 8,
     "metadata": {},
     "output_type": "execute_result"
    }
   ],
   "source": [
    "# one-hot encoding\n",
    "def onehot(series):\n",
    "    label_encoded = integer(series).to_numpy()   \n",
    "    onehot_encoder = OneHotEncoder(categories='auto', handle_unknown='ignore')\n",
    "    onehot_encoded = onehot_encoder.fit_transform(label_encoded)\n",
    "    return onehot_encoded\n",
    "\n",
    "seq_encoded = onehot(data['sequence'])\n",
    "seq_encoded"
   ]
  },
  {
   "cell_type": "markdown",
   "metadata": {},
   "source": [
    "# Imputation"
   ]
  },
  {
   "cell_type": "code",
   "execution_count": 19,
   "metadata": {},
   "outputs": [
    {
     "name": "stdout",
     "output_type": "stream",
     "text": [
      "CPU times: user 39.5 s, sys: 3.35 s, total: 42.8 s\n",
      "Wall time: 45.3 s\n"
     ]
    }
   ],
   "source": [
    "seq_imputed = data['sequence'].replace('-', np.NaN)\n",
    "naive = SimpleImputer(missing_values=np.nan, strategy='most_frequent')\n",
    "%time naive.fit(seq_encoded)"
   ]
  },
  {
   "cell_type": "markdown",
   "metadata": {},
   "source": [
    "# Training"
   ]
  },
  {
   "cell_type": "code",
   "execution_count": 9,
   "metadata": {},
   "outputs": [],
   "source": [
    "from sklearn.model_selection import train_test_split\n",
    "from sklearn.linear_model import LinearRegression\n",
    "from sklearn.metrics import r2_score, mean_absolute_error, mean_squared_error\n",
    "from sklearn import svm\n",
    "from sklearn.ensemble import RandomForestRegressor"
   ]
  },
  {
   "cell_type": "markdown",
   "metadata": {},
   "source": [
    "## 1) Integer Encoded"
   ]
  },
  {
   "cell_type": "code",
   "execution_count": 10,
   "metadata": {},
   "outputs": [],
   "source": [
    "X = label_encoded\n",
    "y1, y2 = data['carb.lag.delta'], data['toby.lag.delta']\n",
    "X1_train, X1_test, y1_train, y1_test = train_test_split(X, y1, test_size=0.3)\n",
    "X2_train, X2_test, y2_train, y2_test = train_test_split(X, y2, test_size=0.3)"
   ]
  },
  {
   "cell_type": "markdown",
   "metadata": {},
   "source": [
    "### Linear Regression"
   ]
  },
  {
   "cell_type": "code",
   "execution_count": 11,
   "metadata": {},
   "outputs": [
    {
     "name": "stdout",
     "output_type": "stream",
     "text": [
      "carb\n",
      "R^2: -0.7327962038931339\n",
      "MAE: 9.960322443254148\n",
      "MSE: 160.1379121423492\n",
      "RMSE: 12.654560922542876\n"
     ]
    }
   ],
   "source": [
    "lr = LinearRegression()\n",
    "lr.fit(X1_train, y1_train)\n",
    "y1_pred = lr.predict(X1_test)\n",
    "print('carb')\n",
    "print(f'R^2: {r2_score(y1_test, y1_pred)}')\n",
    "print(f'MAE: {mean_absolute_error(y1_test, y1_pred)}')\n",
    "print(f'MSE: {mean_squared_error(y1_test, y1_pred)}')\n",
    "print(f'RMSE: {np.sqrt(mean_squared_error(y1_test, y1_pred))}')"
   ]
  },
  {
   "cell_type": "code",
   "execution_count": 12,
   "metadata": {},
   "outputs": [
    {
     "name": "stdout",
     "output_type": "stream",
     "text": [
      "toby\n",
      "R^2: -0.10449908479344239\n",
      "MAE: 8.192469108206023\n",
      "MSE: 107.80030380756737\n",
      "RMSE: 10.38269251242506\n"
     ]
    }
   ],
   "source": [
    "lr.fit(X2_train, y2_train)\n",
    "y2_pred = lr.predict(X2_test)\n",
    "print('toby')\n",
    "print(f'R^2: {r2_score(y2_test, y2_pred)}')\n",
    "print(f'MAE: {mean_absolute_error(y2_test, y2_pred)}')\n",
    "print(f'MSE: {mean_squared_error(y2_test, y2_pred)}')\n",
    "print(f'RMSE: {np.sqrt(mean_squared_error(y2_test, y2_pred))}')"
   ]
  },
  {
   "cell_type": "markdown",
   "metadata": {},
   "source": [
    "### Support Vector Machine"
   ]
  },
  {
   "cell_type": "code",
   "execution_count": 13,
   "metadata": {},
   "outputs": [
    {
     "name": "stdout",
     "output_type": "stream",
     "text": [
      "carb\n",
      "R^2: -0.7287787293003767\n",
      "MAE: 9.94802681973126\n",
      "MSE: 159.76663363197179\n",
      "RMSE: 12.639882658947897\n"
     ]
    }
   ],
   "source": [
    "svm = svm.SVR(kernel = \"linear\", C=0.01)\n",
    "svm.fit(X1_train, y1_train)\n",
    "y1_pred = svm.predict(X1_test)\n",
    "print('carb')\n",
    "print(f'R^2: {r2_score(y1_test, y1_pred)}')\n",
    "print(f'MAE: {mean_absolute_error(y1_test, y1_pred)}')\n",
    "print(f'MSE: {mean_squared_error(y1_test, y1_pred)}')\n",
    "print(f'RMSE: {np.sqrt(mean_squared_error(y1_test, y1_pred))}')"
   ]
  },
  {
   "cell_type": "code",
   "execution_count": 14,
   "metadata": {},
   "outputs": [
    {
     "name": "stdout",
     "output_type": "stream",
     "text": [
      "toby\n",
      "R^2: -1.1365290070672298\n",
      "MAE: 11.596263068372004\n",
      "MSE: 208.52753906862728\n",
      "RMSE: 14.440482646664801\n"
     ]
    }
   ],
   "source": [
    "svm.fit(X2_train, y2_train)\n",
    "y2_pred = svm.predict(X1_test)\n",
    "print('toby')\n",
    "print(f'R^2: {r2_score(y2_test, y2_pred)}')\n",
    "print(f'MAE: {mean_absolute_error(y2_test, y2_pred)}')\n",
    "print(f'MSE: {mean_squared_error(y2_test, y2_pred)}')\n",
    "print(f'RMSE: {np.sqrt(mean_squared_error(y2_test, y2_pred))}')"
   ]
  },
  {
   "cell_type": "markdown",
   "metadata": {},
   "source": [
    "### Random Forest"
   ]
  },
  {
   "cell_type": "code",
   "execution_count": 15,
   "metadata": {},
   "outputs": [
    {
     "name": "stdout",
     "output_type": "stream",
     "text": [
      "carb\n",
      "R^2: -0.2402455519282629\n",
      "MAE: 8.00138888888889\n",
      "MSE: 114.61840277777777\n",
      "RMSE: 10.705998448429636\n"
     ]
    }
   ],
   "source": [
    "rf = RandomForestRegressor(n_estimators=100, n_jobs=5)\n",
    "rf.fit(X1_train, y1_train)\n",
    "y1_pred = rf.predict(X1_test)\n",
    "print('carb')\n",
    "print(f'R^2: {r2_score(y1_test, y1_pred)}')\n",
    "print(f'MAE: {mean_absolute_error(y1_test, y1_pred)}')\n",
    "print(f'MSE: {mean_squared_error(y1_test, y1_pred)}')\n",
    "print(f'RMSE: {np.sqrt(mean_squared_error(y1_test, y1_pred))}')"
   ]
  },
  {
   "cell_type": "code",
   "execution_count": 16,
   "metadata": {},
   "outputs": [
    {
     "name": "stdout",
     "output_type": "stream",
     "text": [
      "toby\n",
      "R^2: 0.12069970827964038\n",
      "MAE: 7.22361111111111\n",
      "MSE: 85.82065833333334\n",
      "RMSE: 9.263943994505436\n"
     ]
    }
   ],
   "source": [
    "rf.fit(X2_train, y2_train)\n",
    "y2_pred = rf.predict(X2_test)\n",
    "print('toby')\n",
    "print(f'R^2: {r2_score(y2_test, y2_pred)}')\n",
    "print(f'MAE: {mean_absolute_error(y2_test, y2_pred)}')\n",
    "print(f'MSE: {mean_squared_error(y2_test, y2_pred)}')\n",
    "print(f'RMSE: {np.sqrt(mean_squared_error(y2_test, y2_pred))}')"
   ]
  },
  {
   "cell_type": "markdown",
   "metadata": {},
   "source": [
    "## 2) One-hot Encoded"
   ]
  },
  {
   "cell_type": "code",
   "execution_count": null,
   "metadata": {},
   "outputs": [],
   "source": [
    "X = seq_encoded.todense()\n",
    "y1, y2 = data['carb.lag.delta'], data['toby.lag.delta']\n",
    "X1_train, X1_test, y1_train, y1_test = train_test_split(X, y1, test_size=0.3)\n",
    "X2_train, X2_test, y2_train, y2_test = train_test_split(X, y2, test_size=0.3)"
   ]
  },
  {
   "cell_type": "markdown",
   "metadata": {},
   "source": [
    "### Linear Regression"
   ]
  },
  {
   "cell_type": "code",
   "execution_count": 53,
   "metadata": {},
   "outputs": [
    {
     "name": "stdout",
     "output_type": "stream",
     "text": [
      "carb\n",
      "R^2: -0.19706966704240303\n",
      "MAE: 8.815375519133855\n",
      "MSE: 142.86047391392546\n",
      "RMSE: 11.952425440634443\n"
     ]
    }
   ],
   "source": [
    "lr = LinearRegression()\n",
    "lr.fit(X1_train, y1_train)\n",
    "y1_pred = lr.predict(X1_test)\n",
    "print('carb')\n",
    "print(f'R^2: {r2_score(y1_test, y1_pred)}')\n",
    "print(f'MAE: {mean_absolute_error(y1_test, y1_pred)}')\n",
    "print(f'MSE: {mean_squared_error(y1_test, y1_pred)}')\n",
    "print(f'RMSE: {np.sqrt(mean_squared_error(y1_test, y1_pred))}')"
   ]
  },
  {
   "cell_type": "code",
   "execution_count": 54,
   "metadata": {},
   "outputs": [
    {
     "name": "stdout",
     "output_type": "stream",
     "text": [
      "toby\n",
      "R^2: -0.027744502449325692\n",
      "MAE: 8.736252612665318\n",
      "MSE: 134.82723191507094\n",
      "RMSE: 11.61151290379815\n"
     ]
    }
   ],
   "source": [
    "lr.fit(X2_train, y2_train)\n",
    "y2_pred = lr.predict(X2_test)\n",
    "print('toby')\n",
    "print(f'R^2: {r2_score(y2_test, y2_pred)}')\n",
    "print(f'MAE: {mean_absolute_error(y2_test, y2_pred)}')\n",
    "print(f'MSE: {mean_squared_error(y2_test, y2_pred)}')\n",
    "print(f'RMSE: {np.sqrt(mean_squared_error(y2_test, y2_pred))}')"
   ]
  },
  {
   "cell_type": "markdown",
   "metadata": {},
   "source": [
    "### Support Vector Machine"
   ]
  },
  {
   "cell_type": "code",
   "execution_count": 55,
   "metadata": {},
   "outputs": [
    {
     "name": "stdout",
     "output_type": "stream",
     "text": [
      "carb\n",
      "R^2: -0.19538765965343852\n",
      "MAE: 8.798782319645754\n",
      "MSE: 142.65974008921174\n",
      "RMSE: 11.944025288369568\n"
     ]
    }
   ],
   "source": [
    "svm = svm.SVR(kernel = \"linear\", C=0.01)\n",
    "svm.fit(X1_train, y1_train)\n",
    "y1_pred = svm.predict(X1_test)\n",
    "print('carb')\n",
    "print(f'R^2: {r2_score(y1_test, y1_pred)}')\n",
    "print(f'MAE: {mean_absolute_error(y1_test, y1_pred)}')\n",
    "print(f'MSE: {mean_squared_error(y1_test, y1_pred)}')\n",
    "print(f'RMSE: {np.sqrt(mean_squared_error(y1_test, y1_pred))}')"
   ]
  },
  {
   "cell_type": "code",
   "execution_count": 56,
   "metadata": {},
   "outputs": [
    {
     "name": "stdout",
     "output_type": "stream",
     "text": [
      "toby\n",
      "R^2: -0.9287409860405842\n",
      "MAE: 12.704333328296098\n",
      "MSE: 253.02670810619918\n",
      "RMSE: 15.906813260555968\n"
     ]
    }
   ],
   "source": [
    "svm.fit(X2_train, y2_train)\n",
    "y2_pred = svm.predict(X1_test)\n",
    "print('toby')\n",
    "print(f'R^2: {r2_score(y2_test, y2_pred)}')\n",
    "print(f'MAE: {mean_absolute_error(y2_test, y2_pred)}')\n",
    "print(f'MSE: {mean_squared_error(y2_test, y2_pred)}')\n",
    "print(f'RMSE: {np.sqrt(mean_squared_error(y2_test, y2_pred))}')"
   ]
  },
  {
   "cell_type": "markdown",
   "metadata": {},
   "source": [
    "### Random Forest"
   ]
  },
  {
   "cell_type": "code",
   "execution_count": 51,
   "metadata": {},
   "outputs": [
    {
     "name": "stdout",
     "output_type": "stream",
     "text": [
      "carb\n",
      "R^2: -0.2879026476236042\n",
      "MAE: 8.804166666666667\n",
      "MSE: 153.70064722222224\n",
      "RMSE: 12.397606511832123\n"
     ]
    }
   ],
   "source": [
    "rf = RandomForestRegressor(n_estimators=100, n_jobs=5)\n",
    "rf.fit(X1_train, y1_train)\n",
    "y1_pred = rf.predict(X1_test)\n",
    "print('carb')\n",
    "print(f'R^2: {r2_score(y1_test, y1_pred)}')\n",
    "print(f'MAE: {mean_absolute_error(y1_test, y1_pred)}')\n",
    "print(f'MSE: {mean_squared_error(y1_test, y1_pred)}')\n",
    "print(f'RMSE: {np.sqrt(mean_squared_error(y1_test, y1_pred))}')"
   ]
  },
  {
   "cell_type": "code",
   "execution_count": 52,
   "metadata": {},
   "outputs": [
    {
     "name": "stdout",
     "output_type": "stream",
     "text": [
      "toby\n",
      "R^2: 0.27553835159599827\n",
      "MAE: 7.347888888888887\n",
      "MSE: 95.0403125\n",
      "RMSE: 9.748862113087865\n"
     ]
    }
   ],
   "source": [
    "rf.fit(X2_train, y2_train)\n",
    "y2_pred = rf.predict(X2_test)\n",
    "print('toby')\n",
    "print(f'R^2: {r2_score(y2_test, y2_pred)}')\n",
    "print(f'MAE: {mean_absolute_error(y2_test, y2_pred)}')\n",
    "print(f'MSE: {mean_squared_error(y2_test, y2_pred)}')\n",
    "print(f'RMSE: {np.sqrt(mean_squared_error(y2_test, y2_pred))}')"
   ]
  },
  {
   "cell_type": "code",
   "execution_count": null,
   "metadata": {},
   "outputs": [],
   "source": []
  }
 ],
 "metadata": {
  "kernelspec": {
   "display_name": "Python 3",
   "language": "python",
   "name": "python3"
  },
  "language_info": {
   "codemirror_mode": {
    "name": "ipython",
    "version": 3
   },
   "file_extension": ".py",
   "mimetype": "text/x-python",
   "name": "python",
   "nbconvert_exporter": "python",
   "pygments_lexer": "ipython3",
   "version": "3.7.4"
  }
 },
 "nbformat": 4,
 "nbformat_minor": 4
}
