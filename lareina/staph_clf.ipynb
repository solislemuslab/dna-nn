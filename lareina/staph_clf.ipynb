{
 "cells": [
  {
   "cell_type": "code",
   "execution_count": 1,
   "metadata": {},
   "outputs": [],
   "source": [
    "import numpy as np\n",
    "import pandas as pd\n",
    "from Bio import SeqIO\n",
    "from sklearn.impute import SimpleImputer\n",
    "%matplotlib inline"
   ]
  },
  {
   "cell_type": "code",
   "execution_count": 2,
   "metadata": {},
   "outputs": [
    {
     "data": {
      "text/html": [
       "<div>\n",
       "<style scoped>\n",
       "    .dataframe tbody tr th:only-of-type {\n",
       "        vertical-align: middle;\n",
       "    }\n",
       "\n",
       "    .dataframe tbody tr th {\n",
       "        vertical-align: top;\n",
       "    }\n",
       "\n",
       "    .dataframe thead th {\n",
       "        text-align: right;\n",
       "    }\n",
       "</style>\n",
       "<table border=\"1\" class=\"dataframe\">\n",
       "  <thead>\n",
       "    <tr style=\"text-align: right;\">\n",
       "      <th></th>\n",
       "      <th>id</th>\n",
       "      <th>sequence</th>\n",
       "      <th>response</th>\n",
       "    </tr>\n",
       "  </thead>\n",
       "  <tbody>\n",
       "    <tr>\n",
       "      <th>0</th>\n",
       "      <td>NRS001</td>\n",
       "      <td>ATGAACATTTATGATGAATATAGAAGTTATTTAATAGAAGAACTGG...</td>\n",
       "      <td>False</td>\n",
       "    </tr>\n",
       "    <tr>\n",
       "      <th>1</th>\n",
       "      <td>NRS002</td>\n",
       "      <td>----------------------------------------------...</td>\n",
       "      <td>False</td>\n",
       "    </tr>\n",
       "    <tr>\n",
       "      <th>2</th>\n",
       "      <td>NRS003</td>\n",
       "      <td>ATGAACATTTATGATGAATATAGAAGTTATTTAATAGAAGAACTGG...</td>\n",
       "      <td>False</td>\n",
       "    </tr>\n",
       "    <tr>\n",
       "      <th>3</th>\n",
       "      <td>NRS021</td>\n",
       "      <td>ATGAAAATTTATGATGAATATAGAAGTTATGTAATAGAAGAACTGG...</td>\n",
       "      <td>False</td>\n",
       "    </tr>\n",
       "    <tr>\n",
       "      <th>4</th>\n",
       "      <td>NRS022</td>\n",
       "      <td>ATGAACATTTATGATGAATATAGAAGTTATGTAATAGAAGAACTGG...</td>\n",
       "      <td>False</td>\n",
       "    </tr>\n",
       "    <tr>\n",
       "      <th>...</th>\n",
       "      <td>...</td>\n",
       "      <td>...</td>\n",
       "      <td>...</td>\n",
       "    </tr>\n",
       "    <tr>\n",
       "      <th>120</th>\n",
       "      <td>NRS272</td>\n",
       "      <td>ATGAAAATTTATGATGAATATAGAAGTTATGTAATAGAAGAACTGG...</td>\n",
       "      <td>False</td>\n",
       "    </tr>\n",
       "    <tr>\n",
       "      <th>121</th>\n",
       "      <td>NRS275</td>\n",
       "      <td>ATGAAAATTTATGATGAATATAGAAGTTATGTAATAGAAGAACTGG...</td>\n",
       "      <td>False</td>\n",
       "    </tr>\n",
       "    <tr>\n",
       "      <th>122</th>\n",
       "      <td>NRS383</td>\n",
       "      <td>ATGAACATTTATGATGAATATAGAAGTTATGTAATAGAAGAACTGG...</td>\n",
       "      <td>False</td>\n",
       "    </tr>\n",
       "    <tr>\n",
       "      <th>123</th>\n",
       "      <td>NRS386</td>\n",
       "      <td>ATGAAAATTTATGATGAATATAGAAGTTATGTAATAGAAGAACTGG...</td>\n",
       "      <td>True</td>\n",
       "    </tr>\n",
       "    <tr>\n",
       "      <th>124</th>\n",
       "      <td>NRS387</td>\n",
       "      <td>ATGAACATTTATGATGAATATAGAAGTTATTTAATAGAAGAACTGG...</td>\n",
       "      <td>False</td>\n",
       "    </tr>\n",
       "  </tbody>\n",
       "</table>\n",
       "<p>125 rows × 3 columns</p>\n",
       "</div>"
      ],
      "text/plain": [
       "         id                                           sequence response\n",
       "0    NRS001  ATGAACATTTATGATGAATATAGAAGTTATTTAATAGAAGAACTGG...    False\n",
       "1    NRS002  ----------------------------------------------...    False\n",
       "2    NRS003  ATGAACATTTATGATGAATATAGAAGTTATTTAATAGAAGAACTGG...    False\n",
       "3    NRS021  ATGAAAATTTATGATGAATATAGAAGTTATGTAATAGAAGAACTGG...    False\n",
       "4    NRS022  ATGAACATTTATGATGAATATAGAAGTTATGTAATAGAAGAACTGG...    False\n",
       "..      ...                                                ...      ...\n",
       "120  NRS272  ATGAAAATTTATGATGAATATAGAAGTTATGTAATAGAAGAACTGG...    False\n",
       "121  NRS275  ATGAAAATTTATGATGAATATAGAAGTTATGTAATAGAAGAACTGG...    False\n",
       "122  NRS383  ATGAACATTTATGATGAATATAGAAGTTATGTAATAGAAGAACTGG...    False\n",
       "123  NRS386  ATGAAAATTTATGATGAATATAGAAGTTATGTAATAGAAGAACTGG...     True\n",
       "124  NRS387  ATGAACATTTATGATGAATATAGAAGTTATTTAATAGAAGAACTGG...    False\n",
       "\n",
       "[125 rows x 3 columns]"
      ]
     },
     "execution_count": 2,
     "metadata": {},
     "output_type": "execute_result"
    }
   ],
   "source": [
    "resp = pd.read_csv('../data/staph/responses-staph.csv')\n",
    "resp.rename(columns = {'ids': 'id', 'resp': 'response'}, inplace = True)\n",
    "src = SeqIO.parse('../data/staph/core_gene_alignment-narsa.aln', 'fasta')\n",
    "seq = [(record.id, record.seq._data.upper()) for record in src]\n",
    "seq_df = pd.DataFrame(data = seq, columns = ['id', 'sequence'])\n",
    "data = pd.merge(seq_df, resp, on = 'id')\n",
    "data"
   ]
  },
  {
   "cell_type": "markdown",
   "metadata": {},
   "source": [
    "# Encoding"
   ]
  },
  {
   "cell_type": "code",
   "execution_count": 3,
   "metadata": {},
   "outputs": [],
   "source": [
    "from numpy import array\n",
    "from sklearn.preprocessing import LabelEncoder\n",
    "from sklearn.preprocessing import OneHotEncoder"
   ]
  },
  {
   "cell_type": "code",
   "execution_count": 10,
   "metadata": {
    "scrolled": true
   },
   "outputs": [],
   "source": [
    "# integer encoding\n",
    "def base2integer(str):\n",
    "    label_encoder = LabelEncoder()\n",
    "    label_encoder.fit(['A','T','C','G','N','-'])\n",
    "    for i in str.split():\n",
    "        return label_encoder.transform(list(i))\n",
    "\n",
    "def integer(series):\n",
    "    label_encoded = series.apply(base2integer)\n",
    "    return pd.DataFrame(label_encoded.to_dict()).transpose()\n",
    "\n",
    "data.dropna(inplace=True)\n",
    "label_encoded = integer(data['sequence'])"
   ]
  },
  {
   "cell_type": "code",
   "execution_count": 11,
   "metadata": {},
   "outputs": [
    {
     "data": {
      "text/plain": [
       "<124x1509775 sparse matrix of type '<class 'numpy.float64'>'\n",
       "\twith 121902912 stored elements in Compressed Sparse Row format>"
      ]
     },
     "execution_count": 11,
     "metadata": {},
     "output_type": "execute_result"
    }
   ],
   "source": [
    "# one-hot encoding\n",
    "def onehot(series):\n",
    "    label_encoded = integer(series).to_numpy()   \n",
    "    onehot_encoder = OneHotEncoder(categories='auto', handle_unknown='ignore')\n",
    "    onehot_encoded = onehot_encoder.fit_transform(label_encoded)\n",
    "    return onehot_encoded\n",
    "\n",
    "seq_encoded = onehot(data['sequence'])\n",
    "seq_encoded"
   ]
  },
  {
   "cell_type": "markdown",
   "metadata": {},
   "source": [
    "# Imputation"
   ]
  },
  {
   "cell_type": "code",
   "execution_count": 12,
   "metadata": {},
   "outputs": [],
   "source": [
    "seq_imputed = data['sequence'].replace('-', np.NaN)\n",
    "naive = SimpleImputer(missing_values=np.nan, strategy='most_frequent')\n",
    "naive.fit(seq_encoded)"
   ]
  },
  {
   "cell_type": "markdown",
   "metadata": {},
   "source": [
    "# Training"
   ]
  },
  {
   "cell_type": "code",
   "execution_count": 13,
   "metadata": {},
   "outputs": [],
   "source": [
    "from sklearn.model_selection import train_test_split\n",
    "from sklearn.linear_model import LogisticRegression\n",
    "from sklearn.metrics import f1_score, precision_score, recall_score, r2_score, mean_absolute_error, mean_squared_error\n",
    "from sklearn import svm\n",
    "from sklearn.ensemble import RandomForestClassifier\n",
    "from sklearn.model_selection import train_test_split"
   ]
  },
  {
   "cell_type": "markdown",
   "metadata": {},
   "source": [
    "## 1) Integer Encoded"
   ]
  },
  {
   "cell_type": "code",
   "execution_count": 15,
   "metadata": {},
   "outputs": [],
   "source": [
    "X  = seq_encoded.todense()\n",
    "y = data['response'].astype('bool')\n",
    "X_train, X_test, y_train, y_test = train_test_split(X, y, stratify=y)"
   ]
  },
  {
   "cell_type": "markdown",
   "metadata": {},
   "source": [
    "### Logistic Regression"
   ]
  },
  {
   "cell_type": "code",
   "execution_count": 16,
   "metadata": {},
   "outputs": [
    {
     "name": "stdout",
     "output_type": "stream",
     "text": [
      "Accuracy Score: 0.7096774193548387\n",
      "F1 score: 0.4\n",
      "Recall score: 0.6\n",
      "Precision score: 0.3\n"
     ]
    }
   ],
   "source": [
    "lr_l1 = LogisticRegression(C=1, tol=0.01, penalty='l1', solver='saga', class_weight='balanced')\n",
    "lr_l1.fit(X_train, y_train)\n",
    "y_pred = lr_l1.predict(X_test)\n",
    "print(f'Accuracy Score: {lr_l1.score(X_test, y_test)}')\n",
    "print(f'F1 score: {f1_score(y_test, y_pred)}')\n",
    "print(f'Recall score: {recall_score(y_test, y_pred)}')\n",
    "print(f'Precision score: {precision_score(y_test, y_pred)}')"
   ]
  },
  {
   "cell_type": "code",
   "execution_count": 19,
   "metadata": {},
   "outputs": [
    {
     "name": "stdout",
     "output_type": "stream",
     "text": [
      "Accuracy Score: 0.7419354838709677\n",
      "F1 score: 0.3333333333333333\n",
      "Recall score: 0.4\n",
      "Precision score: 0.2857142857142857\n"
     ]
    }
   ],
   "source": [
    "lr_l2 = LogisticRegression(C=1, tol=0.01, penalty='l2', solver='lbfgs', class_weight='balanced', max_iter=2000)\n",
    "lr_l2.fit(X_train, y_train)\n",
    "y_pred = lr_l2.predict(X_test)\n",
    "print(f'Accuracy Score: {lr_l2.score(X_test, y_test)}')\n",
    "print(f'F1 score: {f1_score(y_test, y_pred)}')\n",
    "print(f'Recall score: {recall_score(y_test, y_pred)}')\n",
    "print(f'Precision score: {precision_score(y_test, y_pred)}')"
   ]
  },
  {
   "cell_type": "code",
   "execution_count": 20,
   "metadata": {},
   "outputs": [
    {
     "name": "stdout",
     "output_type": "stream",
     "text": [
      "Accuracy Score: 0.7419354838709677\n",
      "F1 score: 0.3333333333333333\n",
      "Recall score: 0.4\n",
      "Precision score: 0.2857142857142857\n"
     ]
    }
   ],
   "source": [
    "lr_en = LogisticRegression(C=1, tol=0.01, penalty='elasticnet', solver='saga', l1_ratio=0.5, class_weight='balanced')\n",
    "lr_en.fit(X_train, y_train)\n",
    "y_pred = lr_en.predict(X_test)\n",
    "print(f'Accuracy Score: {lr_en.score(X_test, y_test)}')\n",
    "print(f'F1 score: {f1_score(y_test, y_pred)}')\n",
    "print(f'Recall score: {recall_score(y_test, y_pred)}')\n",
    "print(f'Precision score: {precision_score(y_test, y_pred)}')"
   ]
  },
  {
   "cell_type": "markdown",
   "metadata": {},
   "source": [
    "### Support Vector Machine"
   ]
  },
  {
   "cell_type": "code",
   "execution_count": 21,
   "metadata": {},
   "outputs": [
    {
     "name": "stdout",
     "output_type": "stream",
     "text": [
      "Accuracy Score: 0.8387096774193549\n",
      "F1 score: 0.0\n",
      "Recall score: 0.0\n",
      "Precision score: 0.0\n"
     ]
    },
    {
     "name": "stderr",
     "output_type": "stream",
     "text": [
      "/usr/local/lib/python3.7/site-packages/sklearn/metrics/_classification.py:1272: UndefinedMetricWarning: Precision is ill-defined and being set to 0.0 due to no predicted samples. Use `zero_division` parameter to control this behavior.\n",
      "  _warn_prf(average, modifier, msg_start, len(result))\n"
     ]
    }
   ],
   "source": [
    "svm = svm.SVC(gamma='auto', class_weight='balanced')\n",
    "svm.fit(X_train, y_train)\n",
    "y_pred = svm.predict(X_test)\n",
    "print(f'Accuracy Score: {svm.score(X_test, y_test)}')\n",
    "print(f'F1 score: {f1_score(y_test, y_pred)}')\n",
    "print(f'Recall score: {recall_score(y_test, y_pred)}')\n",
    "print(f'Precision score: {precision_score(y_test, y_pred)}')"
   ]
  },
  {
   "cell_type": "markdown",
   "metadata": {},
   "source": [
    "### Random Forest"
   ]
  },
  {
   "cell_type": "code",
   "execution_count": 22,
   "metadata": {},
   "outputs": [
    {
     "name": "stdout",
     "output_type": "stream",
     "text": [
      "Accuracy Score: 0.8709677419354839\n",
      "F1 score: 0.5\n",
      "Recall score: 0.4\n",
      "Precision score: 0.6666666666666666\n"
     ]
    }
   ],
   "source": [
    "rf = RandomForestClassifier(n_estimators=100, n_jobs=5)\n",
    "rf.fit(X_train, y_train)\n",
    "y_pred = rf.predict(X_test)\n",
    "print(f'Accuracy Score: {rf.score(X_test, y_test)}')\n",
    "print(f'F1 score: {f1_score(y_test, y_pred)}')\n",
    "print(f'Recall score: {recall_score(y_test, y_pred)}')\n",
    "print(f'Precision score: {precision_score(y_test, y_pred)}')"
   ]
  },
  {
   "cell_type": "markdown",
   "metadata": {},
   "source": [
    "## 2) One-hot Encoded"
   ]
  },
  {
   "cell_type": "code",
   "execution_count": 23,
   "metadata": {},
   "outputs": [],
   "source": [
    "X = seq_encoded.todense()\n",
    "y = data['response'].astype('bool')\n",
    "X_train, X_test, y_train, y_test = train_test_split(X, y, stratify=y)"
   ]
  },
  {
   "cell_type": "markdown",
   "metadata": {},
   "source": [
    "### Logistic Regression"
   ]
  },
  {
   "cell_type": "code",
   "execution_count": 24,
   "metadata": {},
   "outputs": [
    {
     "name": "stdout",
     "output_type": "stream",
     "text": [
      "Accuracy Score: 0.7419354838709677\n",
      "F1 score: 0.5000000000000001\n",
      "Recall score: 0.8\n",
      "Precision score: 0.36363636363636365\n"
     ]
    }
   ],
   "source": [
    "lr_l1 = LogisticRegression(C=1, tol=0.01, penalty='l1', solver='saga', class_weight='balanced')\n",
    "lr_l1.fit(X_train, y_train)\n",
    "y_pred = lr_l1.predict(X_test)\n",
    "print(f'Accuracy Score: {lr_l1.score(X_test, y_test)}')\n",
    "print(f'F1 score: {f1_score(y_test, y_pred)}')\n",
    "print(f'Recall score: {recall_score(y_test, y_pred)}')\n",
    "print(f'Precision score: {precision_score(y_test, y_pred)}')"
   ]
  },
  {
   "cell_type": "code",
   "execution_count": 25,
   "metadata": {},
   "outputs": [
    {
     "name": "stdout",
     "output_type": "stream",
     "text": [
      "Accuracy Score: 0.9032258064516129\n",
      "F1 score: 0.6666666666666665\n",
      "Recall score: 0.6\n",
      "Precision score: 0.75\n"
     ]
    }
   ],
   "source": [
    "lr_l2 = LogisticRegression(C=1, tol=0.01, penalty='l2', solver='lbfgs', class_weight='balanced', max_iter=2000)\n",
    "lr_l2.fit(X_train, y_train)\n",
    "y_pred = lr_l2.predict(X_test)\n",
    "print(f'Accuracy Score: {lr_l2.score(X_test, y_test)}')\n",
    "print(f'F1 score: {f1_score(y_test, y_pred)}')\n",
    "print(f'Recall score: {recall_score(y_test, y_pred)}')\n",
    "print(f'Precision score: {precision_score(y_test, y_pred)}')"
   ]
  },
  {
   "cell_type": "code",
   "execution_count": 26,
   "metadata": {},
   "outputs": [
    {
     "name": "stdout",
     "output_type": "stream",
     "text": [
      "Accuracy Score: 0.7419354838709677\n",
      "F1 score: 0.5000000000000001\n",
      "Recall score: 0.8\n",
      "Precision score: 0.36363636363636365\n"
     ]
    }
   ],
   "source": [
    "lr_en = LogisticRegression(C=1, tol=0.01, penalty='elasticnet', solver='saga', l1_ratio=0.5, class_weight='balanced')\n",
    "lr_en.fit(X_train, y_train)\n",
    "y_pred = lr_en.predict(X_test)\n",
    "print(f'Accuracy Score: {lr_en.score(X_test, y_test)}')\n",
    "print(f'F1 score: {f1_score(y_test, y_pred)}')\n",
    "print(f'Recall score: {recall_score(y_test, y_pred)}')\n",
    "print(f'Precision score: {precision_score(y_test, y_pred)}')"
   ]
  },
  {
   "cell_type": "markdown",
   "metadata": {},
   "source": [
    "### Support Vector Machine"
   ]
  },
  {
   "cell_type": "code",
   "execution_count": 28,
   "metadata": {},
   "outputs": [
    {
     "name": "stdout",
     "output_type": "stream",
     "text": [
      "Accuracy Score: 0.8387096774193549\n",
      "F1 score: 0.0\n",
      "Recall score: 0.0\n",
      "Precision score: 0.0\n"
     ]
    },
    {
     "name": "stderr",
     "output_type": "stream",
     "text": [
      "/usr/local/lib/python3.7/site-packages/sklearn/metrics/_classification.py:1272: UndefinedMetricWarning: Precision is ill-defined and being set to 0.0 due to no predicted samples. Use `zero_division` parameter to control this behavior.\n",
      "  _warn_prf(average, modifier, msg_start, len(result))\n"
     ]
    }
   ],
   "source": [
    "from sklearn import svm\n",
    "svm = svm.SVC(gamma='auto', class_weight='balanced')\n",
    "svm.fit(X_train, y_train)\n",
    "y_pred = svm.predict(X_test)\n",
    "print(f'Accuracy Score: {svm.score(X_test, y_test)}')\n",
    "print(f'F1 score: {f1_score(y_test, y_pred)}')\n",
    "print(f'Recall score: {recall_score(y_test, y_pred)}')\n",
    "print(f'Precision score: {precision_score(y_test, y_pred)}')"
   ]
  },
  {
   "cell_type": "markdown",
   "metadata": {},
   "source": [
    "### Random Forest"
   ]
  },
  {
   "cell_type": "code",
   "execution_count": 29,
   "metadata": {},
   "outputs": [
    {
     "name": "stdout",
     "output_type": "stream",
     "text": [
      "Accuracy Score: 0.8709677419354839\n",
      "F1 score: 0.5\n",
      "Recall score: 0.4\n",
      "Precision score: 0.6666666666666666\n"
     ]
    }
   ],
   "source": [
    "rf = RandomForestClassifier(n_estimators=100, n_jobs=5)\n",
    "rf.fit(X_train, y_train)\n",
    "y_pred = rf.predict(X_test)\n",
    "print(f'Accuracy Score: {rf.score(X_test, y_test)}')\n",
    "print(f'F1 score: {f1_score(y_test, y_pred)}')\n",
    "print(f'Recall score: {recall_score(y_test, y_pred)}')\n",
    "print(f'Precision score: {precision_score(y_test, y_pred)}')"
   ]
  },
  {
   "cell_type": "code",
   "execution_count": null,
   "metadata": {},
   "outputs": [],
   "source": []
  }
 ],
 "metadata": {
  "kernelspec": {
   "display_name": "Python 3",
   "language": "python",
   "name": "python3"
  },
  "language_info": {
   "codemirror_mode": {
    "name": "ipython",
    "version": 3
   },
   "file_extension": ".py",
   "mimetype": "text/x-python",
   "name": "python",
   "nbconvert_exporter": "python",
   "pygments_lexer": "ipython3",
   "version": "3.7.4"
  }
 },
 "nbformat": 4,
 "nbformat_minor": 4
}
