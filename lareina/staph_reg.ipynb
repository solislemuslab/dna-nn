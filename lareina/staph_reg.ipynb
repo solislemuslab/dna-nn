{
 "cells": [
  {
   "cell_type": "code",
   "execution_count": 2,
   "metadata": {},
   "outputs": [],
   "source": [
    "import numpy as np\n",
    "import pandas as pd\n",
    "from Bio import SeqIO\n",
    "from sklearn.impute import SimpleImputer\n",
    "%matplotlib inline"
   ]
  },
  {
   "cell_type": "code",
   "execution_count": 9,
   "metadata": {},
   "outputs": [
    {
     "data": {
      "text/html": [
       "<div>\n",
       "<style scoped>\n",
       "    .dataframe tbody tr th:only-of-type {\n",
       "        vertical-align: middle;\n",
       "    }\n",
       "\n",
       "    .dataframe tbody tr th {\n",
       "        vertical-align: top;\n",
       "    }\n",
       "\n",
       "    .dataframe thead th {\n",
       "        text-align: right;\n",
       "    }\n",
       "</style>\n",
       "<table border=\"1\" class=\"dataframe\">\n",
       "  <thead>\n",
       "    <tr style=\"text-align: right;\">\n",
       "      <th></th>\n",
       "      <th>id</th>\n",
       "      <th>sequence</th>\n",
       "      <th>area</th>\n",
       "    </tr>\n",
       "  </thead>\n",
       "  <tbody>\n",
       "    <tr>\n",
       "      <th>0</th>\n",
       "      <td>NRS001</td>\n",
       "      <td>ATGAACATTTATGATGAATATAGAAGTTATTTAATAGAAGAACTGG...</td>\n",
       "      <td>0.000000</td>\n",
       "    </tr>\n",
       "    <tr>\n",
       "      <th>1</th>\n",
       "      <td>NRS002</td>\n",
       "      <td>----------------------------------------------...</td>\n",
       "      <td>0.000000</td>\n",
       "    </tr>\n",
       "    <tr>\n",
       "      <th>2</th>\n",
       "      <td>NRS003</td>\n",
       "      <td>ATGAACATTTATGATGAATATAGAAGTTATTTAATAGAAGAACTGG...</td>\n",
       "      <td>0.000000</td>\n",
       "    </tr>\n",
       "    <tr>\n",
       "      <th>3</th>\n",
       "      <td>NRS021</td>\n",
       "      <td>ATGAAAATTTATGATGAATATAGAAGTTATGTAATAGAAGAACTGG...</td>\n",
       "      <td>473.151678</td>\n",
       "    </tr>\n",
       "    <tr>\n",
       "      <th>4</th>\n",
       "      <td>NRS022</td>\n",
       "      <td>ATGAACATTTATGATGAATATAGAAGTTATGTAATAGAAGAACTGG...</td>\n",
       "      <td>6686.805947</td>\n",
       "    </tr>\n",
       "    <tr>\n",
       "      <th>...</th>\n",
       "      <td>...</td>\n",
       "      <td>...</td>\n",
       "      <td>...</td>\n",
       "    </tr>\n",
       "    <tr>\n",
       "      <th>119</th>\n",
       "      <td>NRS272</td>\n",
       "      <td>ATGAAAATTTATGATGAATATAGAAGTTATGTAATAGAAGAACTGG...</td>\n",
       "      <td>15672.551160</td>\n",
       "    </tr>\n",
       "    <tr>\n",
       "      <th>120</th>\n",
       "      <td>NRS275</td>\n",
       "      <td>ATGAAAATTTATGATGAATATAGAAGTTATGTAATAGAAGAACTGG...</td>\n",
       "      <td>9560.675684</td>\n",
       "    </tr>\n",
       "    <tr>\n",
       "      <th>121</th>\n",
       "      <td>NRS383</td>\n",
       "      <td>ATGAACATTTATGATGAATATAGAAGTTATGTAATAGAAGAACTGG...</td>\n",
       "      <td>2600.718086</td>\n",
       "    </tr>\n",
       "    <tr>\n",
       "      <th>122</th>\n",
       "      <td>NRS386</td>\n",
       "      <td>ATGAAAATTTATGATGAATATAGAAGTTATGTAATAGAAGAACTGG...</td>\n",
       "      <td>20275.395700</td>\n",
       "    </tr>\n",
       "    <tr>\n",
       "      <th>123</th>\n",
       "      <td>NRS387</td>\n",
       "      <td>ATGAACATTTATGATGAATATAGAAGTTATTTAATAGAAGAACTGG...</td>\n",
       "      <td>14382.518050</td>\n",
       "    </tr>\n",
       "  </tbody>\n",
       "</table>\n",
       "<p>124 rows × 3 columns</p>\n",
       "</div>"
      ],
      "text/plain": [
       "         id                                           sequence          area\n",
       "0    NRS001  ATGAACATTTATGATGAATATAGAAGTTATTTAATAGAAGAACTGG...      0.000000\n",
       "1    NRS002  ----------------------------------------------...      0.000000\n",
       "2    NRS003  ATGAACATTTATGATGAATATAGAAGTTATTTAATAGAAGAACTGG...      0.000000\n",
       "3    NRS021  ATGAAAATTTATGATGAATATAGAAGTTATGTAATAGAAGAACTGG...    473.151678\n",
       "4    NRS022  ATGAACATTTATGATGAATATAGAAGTTATGTAATAGAAGAACTGG...   6686.805947\n",
       "..      ...                                                ...           ...\n",
       "119  NRS272  ATGAAAATTTATGATGAATATAGAAGTTATGTAATAGAAGAACTGG...  15672.551160\n",
       "120  NRS275  ATGAAAATTTATGATGAATATAGAAGTTATGTAATAGAAGAACTGG...   9560.675684\n",
       "121  NRS383  ATGAACATTTATGATGAATATAGAAGTTATGTAATAGAAGAACTGG...   2600.718086\n",
       "122  NRS386  ATGAAAATTTATGATGAATATAGAAGTTATGTAATAGAAGAACTGG...  20275.395700\n",
       "123  NRS387  ATGAACATTTATGATGAATATAGAAGTTATTTAATAGAAGAACTGG...  14382.518050\n",
       "\n",
       "[124 rows x 3 columns]"
      ]
     },
     "execution_count": 9,
     "metadata": {},
     "output_type": "execute_result"
    }
   ],
   "source": [
    "resp = pd.read_csv('../data/staph/nrs_metadata3.txt', sep='\\t')\n",
    "resp.rename(columns = {'sample_tag':'id', 'Total.Area':'area'}, inplace=True)\n",
    "src = SeqIO.parse('../data/staph/core_gene_alignment-narsa.aln', 'fasta')\n",
    "seq = [(record.id, record.seq._data.upper()) for record in src]\n",
    "seq_df = pd.DataFrame(data = seq, columns = ['id', 'sequence'])\n",
    "data = pd.merge(seq_df, resp, on = 'id')[['id', 'sequence', 'area']]\n",
    "data"
   ]
  },
  {
   "cell_type": "markdown",
   "metadata": {},
   "source": [
    "# Encoding"
   ]
  },
  {
   "cell_type": "code",
   "execution_count": 5,
   "metadata": {},
   "outputs": [],
   "source": [
    "from numpy import array\n",
    "from sklearn.preprocessing import LabelEncoder\n",
    "from sklearn.preprocessing import OneHotEncoder"
   ]
  },
  {
   "cell_type": "code",
   "execution_count": 10,
   "metadata": {
    "scrolled": true
   },
   "outputs": [],
   "source": [
    "# integer encoding\n",
    "def base2integer(str):\n",
    "    label_encoder = LabelEncoder()\n",
    "    label_encoder.fit(['A','T','C','G','N','-'])\n",
    "    for i in str.split():\n",
    "        return label_encoder.transform(list(i))\n",
    "\n",
    "def integer(series):\n",
    "    label_encoded = series.apply(base2integer)\n",
    "    return pd.DataFrame(label_encoded.to_dict()).transpose()\n",
    "\n",
    "data.dropna(inplace=True)\n",
    "label_encoded = integer(data['sequence'])"
   ]
  },
  {
   "cell_type": "code",
   "execution_count": 11,
   "metadata": {},
   "outputs": [
    {
     "data": {
      "text/plain": [
       "<124x1509775 sparse matrix of type '<class 'numpy.float64'>'\n",
       "\twith 121902912 stored elements in Compressed Sparse Row format>"
      ]
     },
     "execution_count": 11,
     "metadata": {},
     "output_type": "execute_result"
    }
   ],
   "source": [
    "# one-hot encoding\n",
    "def onehot(series):\n",
    "    label_encoded = integer(series).to_numpy()   \n",
    "    onehot_encoder = OneHotEncoder(categories='auto', handle_unknown='ignore')\n",
    "    onehot_encoded = onehot_encoder.fit_transform(label_encoded)\n",
    "    return onehot_encoded\n",
    "\n",
    "seq_encoded = onehot(data['sequence'])\n",
    "seq_encoded"
   ]
  },
  {
   "cell_type": "markdown",
   "metadata": {},
   "source": [
    "# Imputation"
   ]
  },
  {
   "cell_type": "code",
   "execution_count": 12,
   "metadata": {},
   "outputs": [],
   "source": [
    "seq_imputed = data['sequence'].replace('-', np.NaN)\n",
    "naive = SimpleImputer(missing_values=np.nan, strategy='most_frequent')\n",
    "naive.fit(seq_encoded)"
   ]
  },
  {
   "cell_type": "markdown",
   "metadata": {},
   "source": [
    "# Training"
   ]
  },
  {
   "cell_type": "code",
   "execution_count": 13,
   "metadata": {},
   "outputs": [],
   "source": [
    "from sklearn.model_selection import train_test_split\n",
    "from sklearn.linear_model import LinearRegression\n",
    "from sklearn.metrics import r2_score, mean_absolute_error, mean_squared_error\n",
    "from sklearn import svm\n",
    "from sklearn.ensemble import RandomForestRegressor"
   ]
  },
  {
   "cell_type": "markdown",
   "metadata": {},
   "source": [
    "## 1) Integer Encoded"
   ]
  },
  {
   "cell_type": "code",
   "execution_count": 15,
   "metadata": {},
   "outputs": [],
   "source": [
    "X = label_encoded\n",
    "y = data['area']\n",
    "X_train, X_test, y_train, y_test = train_test_split(X, y, test_size=0.3)"
   ]
  },
  {
   "cell_type": "markdown",
   "metadata": {},
   "source": [
    "### Linear Regression"
   ]
  },
  {
   "cell_type": "code",
   "execution_count": 17,
   "metadata": {},
   "outputs": [
    {
     "name": "stdout",
     "output_type": "stream",
     "text": [
      "R^2: -0.7812493268386256\n",
      "MAE: 9438.549066078487\n",
      "MSE: 167417788.21735057\n",
      "RMSE: 12939.002597470586\n"
     ]
    }
   ],
   "source": [
    "lr = LinearRegression()\n",
    "lr.fit(X_train, y_train)\n",
    "y_pred = lr.predict(X_test)\n",
    "print(f'R^2: {r2_score(y_test, y_pred)}')\n",
    "print(f'MAE: {mean_absolute_error(y_test, y_pred)}')\n",
    "print(f'MSE: {mean_squared_error(y_test, y_pred)}')\n",
    "print(f'RMSE: {np.sqrt(mean_squared_error(y_test, y_pred))}')"
   ]
  },
  {
   "cell_type": "markdown",
   "metadata": {},
   "source": [
    "### Support Vector Machine"
   ]
  },
  {
   "cell_type": "code",
   "execution_count": 18,
   "metadata": {},
   "outputs": [
    {
     "name": "stdout",
     "output_type": "stream",
     "text": [
      "R^2: -0.007576700094627409\n",
      "MAE: 7018.458236966264\n",
      "MSE: 94701095.4881678\n",
      "RMSE: 9731.448786700148\n"
     ]
    }
   ],
   "source": [
    "svm = svm.SVR(kernel = \"linear\", C=0.01)\n",
    "svm.fit(X_train, y_train)\n",
    "y_pred = svm.predict(X_test)\n",
    "print(f'R^2: {r2_score(y_test, y_pred)}')\n",
    "print(f'MAE: {mean_absolute_error(y_test, y_pred)}')\n",
    "print(f'MSE: {mean_squared_error(y_test, y_pred)}')\n",
    "print(f'RMSE: {np.sqrt(mean_squared_error(y_test, y_pred))}')"
   ]
  },
  {
   "cell_type": "markdown",
   "metadata": {},
   "source": [
    "### Random Forest"
   ]
  },
  {
   "cell_type": "code",
   "execution_count": 19,
   "metadata": {},
   "outputs": [
    {
     "name": "stdout",
     "output_type": "stream",
     "text": [
      "R^2: -0.2218611771031498\n",
      "MAE: 7976.63064048964\n",
      "MSE: 114841472.6097411\n",
      "RMSE: 10716.411368071922\n"
     ]
    }
   ],
   "source": [
    "rf = RandomForestRegressor(n_estimators=100, n_jobs=5)\n",
    "rf.fit(X_train, y_train)\n",
    "y_pred = rf.predict(X_test)\n",
    "print(f'R^2: {r2_score(y_test, y_pred)}')\n",
    "print(f'MAE: {mean_absolute_error(y_test, y_pred)}')\n",
    "print(f'MSE: {mean_squared_error(y_test, y_pred)}')\n",
    "print(f'RMSE: {np.sqrt(mean_squared_error(y_test, y_pred))}')"
   ]
  },
  {
   "cell_type": "markdown",
   "metadata": {},
   "source": [
    "## 2) One-hot Encoded"
   ]
  },
  {
   "cell_type": "code",
   "execution_count": 20,
   "metadata": {},
   "outputs": [],
   "source": [
    "X = seq_encoded.todense()\n",
    "y = data['area']\n",
    "X_train, X_test, y_train, y_test = train_test_split(X, y, test_size=0.3)"
   ]
  },
  {
   "cell_type": "markdown",
   "metadata": {},
   "source": [
    "### Linear Regression"
   ]
  },
  {
   "cell_type": "code",
   "execution_count": 21,
   "metadata": {},
   "outputs": [
    {
     "name": "stdout",
     "output_type": "stream",
     "text": [
      "R^2: -0.004940734754247611\n",
      "MAE: 8567.093176603788\n",
      "MSE: 118900184.01109944\n",
      "RMSE: 10904.136096504822\n"
     ]
    }
   ],
   "source": [
    "lr = LinearRegression()\n",
    "lr.fit(X_train, y_train)\n",
    "y_pred = lr.predict(X_test)\n",
    "print(f'R^2: {r2_score(y_test, y_pred)}')\n",
    "print(f'MAE: {mean_absolute_error(y_test, y_pred)}')\n",
    "print(f'MSE: {mean_squared_error(y_test, y_pred)}')\n",
    "print(f'RMSE: {np.sqrt(mean_squared_error(y_test, y_pred))}')"
   ]
  },
  {
   "cell_type": "markdown",
   "metadata": {},
   "source": [
    "### Support Vector Machine"
   ]
  },
  {
   "cell_type": "code",
   "execution_count": 23,
   "metadata": {},
   "outputs": [
    {
     "name": "stdout",
     "output_type": "stream",
     "text": [
      "R^2: 0.02134396305167041\n",
      "MAE: 8249.866790727183\n",
      "MSE: 115790293.74820343\n",
      "RMSE: 10760.589842020901\n"
     ]
    }
   ],
   "source": [
    "from sklearn import svm\n",
    "svm = svm.SVR(kernel = \"linear\", C=0.01)\n",
    "svm.fit(X_train, y_train)\n",
    "y_pred = svm.predict(X_test)\n",
    "print(f'R^2: {r2_score(y_test, y_pred)}')\n",
    "print(f'MAE: {mean_absolute_error(y_test, y_pred)}')\n",
    "print(f'MSE: {mean_squared_error(y_test, y_pred)}')\n",
    "print(f'RMSE: {np.sqrt(mean_squared_error(y_test, y_pred))}')"
   ]
  },
  {
   "cell_type": "markdown",
   "metadata": {},
   "source": [
    "### Random Forest"
   ]
  },
  {
   "cell_type": "code",
   "execution_count": 24,
   "metadata": {},
   "outputs": [
    {
     "name": "stdout",
     "output_type": "stream",
     "text": [
      "R^2: 0.16807169661889998\n",
      "MAE: 7777.79309452307\n",
      "MSE: 98430111.28436741\n",
      "RMSE: 9921.195053236652\n"
     ]
    }
   ],
   "source": [
    "rf = RandomForestRegressor(n_estimators=100, n_jobs=5)\n",
    "rf.fit(X_train, y_train)\n",
    "y_pred = rf.predict(X_test)\n",
    "print(f'R^2: {r2_score(y_test, y_pred)}')\n",
    "print(f'MAE: {mean_absolute_error(y_test, y_pred)}')\n",
    "print(f'MSE: {mean_squared_error(y_test, y_pred)}')\n",
    "print(f'RMSE: {np.sqrt(mean_squared_error(y_test, y_pred))}')"
   ]
  },
  {
   "cell_type": "code",
   "execution_count": null,
   "metadata": {},
   "outputs": [],
   "source": []
  }
 ],
 "metadata": {
  "kernelspec": {
   "display_name": "Python 3",
   "language": "python",
   "name": "python3"
  },
  "language_info": {
   "codemirror_mode": {
    "name": "ipython",
    "version": 3
   },
   "file_extension": ".py",
   "mimetype": "text/x-python",
   "name": "python",
   "nbconvert_exporter": "python",
   "pygments_lexer": "ipython3",
   "version": "3.7.4"
  }
 },
 "nbformat": 4,
 "nbformat_minor": 4
}
